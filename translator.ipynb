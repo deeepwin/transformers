{
 "cells": [
  {
   "cell_type": "markdown",
   "metadata": {
    "id": "N2njQC0n3YkL"
   },
   "source": [
    "# English-to-German Translation with a Sequence-to-Sequence Transformer\n",
    "\n",
    "**Author:** Deeepwin, [fchollet](https://twitter.com/fchollet) <br>\n",
    "**Date created:** 2021/05/26<br>\n",
    "**Last modified:** 2022/11/05<br>\n",
    "**Description:** Implementing a sequence-to-sequene Transformer and training it on a machine translation task.\n",
    "***"
   ]
  },
  {
   "cell_type": "markdown",
   "metadata": {
    "id": "lw7HtWh63YkN"
   },
   "source": [
    "## Introduction\n",
    "\n",
    "In this example, we'll build a sequence-to-sequence Transformer model, which\n",
    "we'll train on an English-to-German machine translation task.\n",
    "\n",
    "You'll learn how to:\n",
    "\n",
    "- Vectorize text using the Keras `TextVectorization` layer.\n",
    "- Implement a `TransformerEncoder` layer, a `TransformerDecoder` layer,\n",
    "and a `PositionalEmbedding` layer.\n",
    "- Prepare data for training a sequence-to-sequence model.\n",
    "- Use the trained model to generate translations of never-seen-before\n",
    "input sentences (sequence-to-sequence inference).\n",
    "\n",
    "The code featured here is adapted from the book\n",
    "[Deep Learning with Python, Second Edition](https://www.manning.com/books/deep-learning-with-python-second-edition)\n",
    "(chapter 11: Deep learning for text).\n",
    "The present example is fairly barebones, so for detailed explanations of\n",
    "how each building block works, as well as the theory behind Transformers,\n",
    "I recommend reading the book."
   ]
  },
  {
   "cell_type": "markdown",
   "metadata": {
    "id": "q-1Gmy6c3YkO"
   },
   "source": [
    "## Setup"
   ]
  },
  {
   "cell_type": "code",
   "execution_count": 1,
   "metadata": {
    "id": "N5yHomr53YkP"
   },
   "outputs": [],
   "source": [
    "import pathlib\n",
    "import random\n",
    "import string\n",
    "import re\n",
    "import numpy as np\n",
    "import tensorflow as tf\n",
    "from tensorflow import keras\n",
    "from tensorflow.keras import layers\n",
    "from tensorflow.keras.layers import TextVectorization\n",
    "from deep_translator import GoogleTranslator"
   ]
  },
  {
   "cell_type": "code",
   "execution_count": 2,
   "metadata": {},
   "outputs": [],
   "source": [
    "np.set_printoptions(linewidth=160)"
   ]
  },
  {
   "cell_type": "markdown",
   "metadata": {},
   "source": [
    "# Configuration"
   ]
  },
  {
   "cell_type": "code",
   "execution_count": 3,
   "metadata": {},
   "outputs": [],
   "source": [
    "num_heads       = 8\n",
    "\n",
    "dense_dim       = (3* 2048)     # Dimension of feed forward fully connected layers\n",
    "embed_dim       = 512           # Dimension of model output layers\n",
    "\n",
    "vocab_size      = 15000         # Vocabulary size\n",
    "sequence_length = 20            # Maximum length of the input sequence\n",
    "\n",
    "batch_size      = 32"
   ]
  },
  {
   "cell_type": "markdown",
   "metadata": {
    "id": "dpvQJvc53YkP"
   },
   "source": [
    "## Downloading the data\n",
    "\n",
    "We'll be working with an English-to-GErman translation dataset\n",
    "provided by [Anki](https://www.manythings.org/anki/). Let's download it:"
   ]
  },
  {
   "cell_type": "code",
   "execution_count": 4,
   "metadata": {},
   "outputs": [],
   "source": [
    "import requests\n",
    "import os\n",
    "from zipfile import ZipFile\n",
    "from pathlib import Path\n",
    "\n",
    "zip_file   = 'deu-eng.zip'\n",
    "\n",
    "my_file = Path(zip_file)\n",
    "if not my_file.is_file():\n",
    "\n",
    "    url         = 'https://www.manythings.org/anki/' + zip_file\n",
    "    headers     = {'User-Agent': 'Mozilla/5.0 (Macintosh; Intel Mac OS X 10_10_1) AppleWebKit/537.36 (KHTML, like Gecko) Chrome/39.0.2171.95 Safari/537.36'}\n",
    "\n",
    "    r = requests.get(url, headers=headers)\n",
    "\n",
    "    open(os.path.join('data', zip_file), 'wb').write(r.content)\n",
    "\n",
    "    deu_eng_zip = ZipFile(os.path.join('data', zip_file), 'r')\n",
    "    deu_eng_zip.extract(\"deu.txt\")"
   ]
  },
  {
   "cell_type": "markdown",
   "metadata": {
    "id": "HNIT_zyL3YkQ"
   },
   "source": [
    "## Parsing the data\n",
    "\n",
    "Each line contains an English sentence and its corresponding German sentence.\n",
    "The English sentence is the *source sequence* and German one is the *target sequence*.\n",
    "We prepend the token `\"[start]\"` and we append the token `\"[end]\"` to the German sentence."
   ]
  },
  {
   "cell_type": "code",
   "execution_count": 5,
   "metadata": {
    "id": "dxG3GanZ3YkQ"
   },
   "outputs": [],
   "source": [
    "with open(\"deu.txt\") as f:\n",
    "    lines = f.read().split(\"\\n\")[:-1]\n",
    "text_pairs = []\n",
    "for line in lines:\n",
    "    eng, deu, _ = line.split(\"\\t\")\n",
    "    deu = \"[start] \" + deu + \" [end]\"\n",
    "    text_pairs.append((eng, deu))"
   ]
  },
  {
   "cell_type": "markdown",
   "metadata": {
    "id": "xHyKoVr73YkR"
   },
   "source": [
    "Here's what our sentence pairs look like:"
   ]
  },
  {
   "cell_type": "code",
   "execution_count": 6,
   "metadata": {
    "id": "0H5h8oO43YkS"
   },
   "outputs": [
    {
     "name": "stdout",
     "output_type": "stream",
     "text": [
      "(\"Wouldn't you like to see Tom's references?\", '[start] Möchtest Du Toms Referenzen nicht sehen? [end]')\n",
      "('What did Tom draw on the blackboard?', '[start] Was hat Tom auf die Tafel gezeichnet? [end]')\n",
      "(\"We don't have enough water.\", '[start] Wir haben nicht genug Wasser. [end]')\n",
      "(\"Here's a photo of her.\", '[start] Hier ist ein Foto von ihr. [end]')\n",
      "('How long you will be in Boston?', '[start] Wie lange bleibt ihr in Boston? [end]')\n"
     ]
    }
   ],
   "source": [
    "for _ in range(5):\n",
    "    print(random.choice(text_pairs))"
   ]
  },
  {
   "cell_type": "markdown",
   "metadata": {
    "id": "dVAVkf_R3YkS"
   },
   "source": [
    "Now, let's split the sentence pairs into a training set, a validation set,\n",
    "and a test set."
   ]
  },
  {
   "cell_type": "code",
   "execution_count": 7,
   "metadata": {
    "id": "HHW8esFP3YkT"
   },
   "outputs": [
    {
     "name": "stdout",
     "output_type": "stream",
     "text": [
      "255817 total pairs\n",
      "179073 training pairs\n",
      "38372 validation pairs\n",
      "38372 test pairs\n"
     ]
    }
   ],
   "source": [
    "random.shuffle(text_pairs)\n",
    "\n",
    "num_val_samples     = int(0.15 * len(text_pairs))\n",
    "num_train_samples   = len(text_pairs) - 2 * num_val_samples\n",
    "\n",
    "\n",
    "train_pairs     = text_pairs[:num_train_samples]\n",
    "val_pairs       = text_pairs[num_train_samples : num_train_samples + num_val_samples]\n",
    "test_pairs      = text_pairs[num_train_samples + num_val_samples :]\n",
    "\n",
    "print(f\"{len(text_pairs)} total pairs\")\n",
    "print(f\"{len(train_pairs)} training pairs\")\n",
    "print(f\"{len(val_pairs)} validation pairs\")\n",
    "print(f\"{len(test_pairs)} test pairs\")"
   ]
  },
  {
   "cell_type": "markdown",
   "metadata": {
    "id": "OiHkaU4W3YkT"
   },
   "source": [
    "## Vectorizing the text data\n",
    "\n",
    "We'll use two instances of the `TextVectorization` layer to vectorize the text\n",
    "data (one for English and one for German),\n",
    "that is to say,   \n",
    "\n",
    "      to turn the original strings into integer sequences where each integer represents the index of a word in a vocabulary.\n",
    "\n",
    "Note: in a production-grade machine translation model, I would not recommend stripping the punctuation characters in either language. Instead, I would recommend turning\n",
    "each punctuation character into its own token, which you could achieve by providing a custom `split` function to the `TextVectorization` layer."
   ]
  },
  {
   "cell_type": "code",
   "execution_count": 8,
   "metadata": {
    "id": "058V3L453YkU"
   },
   "outputs": [
    {
     "name": "stderr",
     "output_type": "stream",
     "text": [
      "2022-11-12 14:05:19.185562: I tensorflow/stream_executor/cuda/cuda_gpu_executor.cc:939] successful NUMA node read from SysFS had negative value (-1), but there must be at least one NUMA node, so returning NUMA node zero\n",
      "2022-11-12 14:05:19.186162: I tensorflow/stream_executor/cuda/cuda_gpu_executor.cc:939] successful NUMA node read from SysFS had negative value (-1), but there must be at least one NUMA node, so returning NUMA node zero\n",
      "2022-11-12 14:05:19.468079: I tensorflow/stream_executor/cuda/cuda_gpu_executor.cc:939] successful NUMA node read from SysFS had negative value (-1), but there must be at least one NUMA node, so returning NUMA node zero\n",
      "2022-11-12 14:05:19.468679: I tensorflow/stream_executor/cuda/cuda_gpu_executor.cc:939] successful NUMA node read from SysFS had negative value (-1), but there must be at least one NUMA node, so returning NUMA node zero\n",
      "2022-11-12 14:05:19.469014: I tensorflow/stream_executor/cuda/cuda_gpu_executor.cc:939] successful NUMA node read from SysFS had negative value (-1), but there must be at least one NUMA node, so returning NUMA node zero\n",
      "2022-11-12 14:05:19.470937: I tensorflow/stream_executor/cuda/cuda_gpu_executor.cc:939] successful NUMA node read from SysFS had negative value (-1), but there must be at least one NUMA node, so returning NUMA node zero\n",
      "2022-11-12 14:05:19.471229: I tensorflow/core/common_runtime/gpu/gpu_device.cc:1932] Ignoring visible gpu device (device: 1, name: NVIDIA GeForce GT 710, pci bus id: 0000:08:00.0, compute capability: 3.5) with core count: 1. The minimum required count is 8. You can adjust this requirement with the env var TF_MIN_GPU_MULTIPROCESSOR_COUNT.\n",
      "2022-11-12 14:05:19.471820: I tensorflow/core/platform/cpu_feature_guard.cc:151] This TensorFlow binary is optimized with oneAPI Deep Neural Network Library (oneDNN) to use the following CPU instructions in performance-critical operations:  AVX2 FMA\n",
      "To enable them in other operations, rebuild TensorFlow with the appropriate compiler flags.\n",
      "2022-11-12 14:05:19.474586: I tensorflow/stream_executor/cuda/cuda_gpu_executor.cc:939] successful NUMA node read from SysFS had negative value (-1), but there must be at least one NUMA node, so returning NUMA node zero\n",
      "2022-11-12 14:05:19.475153: I tensorflow/stream_executor/cuda/cuda_gpu_executor.cc:939] successful NUMA node read from SysFS had negative value (-1), but there must be at least one NUMA node, so returning NUMA node zero\n",
      "2022-11-12 14:05:19.475694: I tensorflow/stream_executor/cuda/cuda_gpu_executor.cc:939] successful NUMA node read from SysFS had negative value (-1), but there must be at least one NUMA node, so returning NUMA node zero\n",
      "2022-11-12 14:05:30.369191: I tensorflow/stream_executor/cuda/cuda_gpu_executor.cc:939] successful NUMA node read from SysFS had negative value (-1), but there must be at least one NUMA node, so returning NUMA node zero\n",
      "2022-11-12 14:05:30.369768: I tensorflow/stream_executor/cuda/cuda_gpu_executor.cc:939] successful NUMA node read from SysFS had negative value (-1), but there must be at least one NUMA node, so returning NUMA node zero\n",
      "2022-11-12 14:05:30.370298: I tensorflow/stream_executor/cuda/cuda_gpu_executor.cc:939] successful NUMA node read from SysFS had negative value (-1), but there must be at least one NUMA node, so returning NUMA node zero\n",
      "2022-11-12 14:05:30.370824: I tensorflow/core/common_runtime/gpu/gpu_device.cc:1525] Created device /job:localhost/replica:0/task:0/device:GPU:0 with 9641 MB memory:  -> device: 0, name: NVIDIA GeForce RTX 2080 Ti, pci bus id: 0000:07:00.0, compute capability: 7.5\n"
     ]
    }
   ],
   "source": [
    "strip_chars = string.punctuation\n",
    "strip_chars = strip_chars.replace(\"[\", \"\")\n",
    "strip_chars = strip_chars.replace(\"]\", \"\")\n",
    "\n",
    "def custom_standardization(input_string):\n",
    "    lowercase = tf.strings.lower(input_string)\n",
    "    return tf.strings.regex_replace(lowercase, \"[%s]\" % re.escape(strip_chars), \"\")\n",
    "\n",
    "\n",
    "eng_vectorization = TextVectorization(  max_tokens=vocab_size, \n",
    "                                        output_mode=\"int\", \n",
    "                                        output_sequence_length=sequence_length)\n",
    "\n",
    "deu_vectorization = TextVectorization(  max_tokens=vocab_size,\n",
    "                                        output_mode=\"int\",\n",
    "                                        output_sequence_length=sequence_length + 1,\n",
    "                                        standardize=custom_standardization)\n",
    "                                        \n",
    "train_eng_texts = [pair[0] for pair in train_pairs]\n",
    "train_deu_texts = [pair[1] for pair in train_pairs]\n",
    "eng_vectorization.adapt(train_eng_texts);\n",
    "deu_vectorization.adapt(train_deu_texts);"
   ]
  },
  {
   "cell_type": "markdown",
   "metadata": {
    "id": "Vv5eX6Bi3YkU"
   },
   "source": [
    "Next, we'll format our datasets.\n",
    "\n",
    "At each training step, the model will seek to predict target words N+1 (and beyond)\n",
    "using the source sentence and the target words 0 to N.\n",
    "\n",
    "As such, the training dataset will yield a tuple `(inputs, targets)`, where:\n",
    "\n",
    "- `inputs` is a dictionary with the keys `encoder_inputs` and `decoder_inputs`.   \n",
    "   \n",
    "  `encoder_inputs` is the vectorized source sentence and   \n",
    "  `encoder_inputs` is the target sentence \"so far\",\n",
    "that is to say, the words 0 to N used to predict word N+1 (and beyond) in the target sentence.\n",
    "- `target` is the target sentence offset by one step:\n",
    "it provides the next words in the target sentence -- what the model will try to predict."
   ]
  },
  {
   "cell_type": "code",
   "execution_count": 9,
   "metadata": {
    "id": "DhCQiqpm3YkV"
   },
   "outputs": [],
   "source": [
    "\n",
    "def format_dataset(eng, deu):\n",
    "    eng = eng_vectorization(eng)\n",
    "    deu = deu_vectorization(deu)\n",
    "    return ({\"encoder_inputs\": eng, \"decoder_inputs\": deu[:, :-1],}, deu[:, 1:])\n",
    "\n",
    "\n",
    "def make_dataset(pairs):\n",
    "    eng_texts, deu_texts = zip(*pairs)\n",
    "    eng_texts = list(eng_texts) # list with 83276 english sentences\n",
    "    deu_texts = list(deu_texts) # same but in German\n",
    "    dataset = tf.data.Dataset.from_tensor_slices((eng_texts, deu_texts))\n",
    "    dataset = dataset.batch(batch_size)\n",
    "    dataset = dataset.map(format_dataset)\n",
    "    return dataset\n",
    "\n",
    "train_ds = make_dataset(train_pairs)\n",
    "val_ds = make_dataset(val_pairs)"
   ]
  },
  {
   "cell_type": "markdown",
   "metadata": {
    "id": "OsH6BUZp3YkV"
   },
   "source": [
    "Let's take a quick look at the sequence shapes\n",
    "(we have batches of 64 pairs, and all sequences are 20 steps long):"
   ]
  },
  {
   "cell_type": "code",
   "execution_count": 10,
   "metadata": {
    "id": "1sEm5ey23YkV"
   },
   "outputs": [
    {
     "name": "stdout",
     "output_type": "stream",
     "text": [
      "inputs[\"encoder_inputs\"].shape: (32, 20)\n",
      "inputs[\"decoder_inputs\"].shape: (32, 20)\n",
      "targets.shape: (32, 20)\n"
     ]
    }
   ],
   "source": [
    "for inputs, targets in train_ds.take(1):\n",
    "    print(f'inputs[\"encoder_inputs\"].shape: {inputs[\"encoder_inputs\"].shape}')\n",
    "    print(f'inputs[\"decoder_inputs\"].shape: {inputs[\"decoder_inputs\"].shape}')\n",
    "    print(f\"targets.shape: {targets.shape}\")"
   ]
  },
  {
   "cell_type": "markdown",
   "metadata": {},
   "source": [
    "Let's have a more detailed look on first batch:"
   ]
  },
  {
   "cell_type": "code",
   "execution_count": 11,
   "metadata": {},
   "outputs": [
    {
     "name": "stdout",
     "output_type": "stream",
     "text": [
      "Please think about the problem.\n",
      "                 [ 86  44  50   5 231   0   0   0   0   0   0   0   0   0   0   0   0   0   0   0]\n",
      "[start] Bitte denke über das Problem nach! [end]\n",
      "                 [  2  76 192 106   8 245  58   3   0   0   0   0   0   0   0   0   0   0   0   0   0]\n",
      "---\n",
      "encoder_inputs:  [ 86  44  50   5 231   0   0   0   0   0   0   0   0   0   0   0   0   0   0   0]\n",
      "decoder_inputs:  [  2  76 192 106   8 245  58   3   0   0   0   0   0   0   0   0   0   0   0   0]\n",
      "targets:         [ 76 192 106   8 245  58   3   0   0   0   0   0   0   0   0   0   0   0   0   0]\n"
     ]
    }
   ],
   "source": [
    "eng, deu = train_pairs[0]\n",
    "\n",
    "print(eng)\n",
    "print('                ', eng_vectorization(eng).numpy())\n",
    "print(deu)\n",
    "print('                ', deu_vectorization(deu).numpy())\n",
    "print('---')\n",
    "print('encoder_inputs: ', inputs[\"encoder_inputs\"][0,:].numpy())\n",
    "print('decoder_inputs: ', inputs[\"decoder_inputs\"][0,:].numpy())\n",
    "print('targets:        ', targets[0,:].numpy())\n"
   ]
  },
  {
   "cell_type": "markdown",
   "metadata": {},
   "source": [
    "Shuffle dataset now."
   ]
  },
  {
   "cell_type": "code",
   "execution_count": 12,
   "metadata": {},
   "outputs": [],
   "source": [
    "train_ds = train_ds.shuffle(2048).prefetch(16).cache()\n",
    "val_ds = val_ds.shuffle(2048).prefetch(16).cache()"
   ]
  },
  {
   "cell_type": "markdown",
   "metadata": {
    "id": "Ypzwaq3C3YkV"
   },
   "source": [
    "## Building the model\n",
    "\n",
    "Our sequence-to-sequence Transformer consists of a `TransformerEncoder`\n",
    "and a `TransformerDecoder` chained together. To make the model aware of word order,\n",
    "we also use a `PositionalEmbedding` layer.  \n",
    "\n",
    "The source sequence will be pass to the `TransformerEncoder`,\n",
    "which will produce a new representation of it.\n",
    "This new representation will then be passed\n",
    "to the `TransformerDecoder`, together with the target sequence so far (target words 0 to N).\n",
    "The `TransformerDecoder` will then seek to predict the next words in the target sequence (N+1 and beyond).\n",
    "\n",
    "A key detail that makes this possible is causal masking\n",
    "(see method `get_causal_attention_mask()` on the `TransformerDecoder`).\n",
    "The `TransformerDecoder` sees the entire sequences at once, and thus we must make\n",
    "sure that it only uses information from target tokens 0 to N when predicting token N+1\n",
    "(otherwise, it could use information from the future, which would\n",
    "result in a model that cannot be used at inference time)."
   ]
  },
  {
   "cell_type": "code",
   "execution_count": 13,
   "metadata": {
    "id": "UU2i1z5C3YkW"
   },
   "outputs": [],
   "source": [
    "\n",
    "class TransformerEncoder(layers.Layer):\n",
    "\n",
    "    def __init__(self, embed_dim, dense_dim, num_heads, **kwargs):\n",
    "    \n",
    "        super(TransformerEncoder, self).__init__(**kwargs)\n",
    "\n",
    "        self.embed_dim = embed_dim  \n",
    "        self.dense_dim = dense_dim\n",
    "        self.num_heads = num_heads\n",
    "\n",
    "        self.attention = layers.MultiHeadAttention(num_heads=num_heads, key_dim=embed_dim)\n",
    "        \n",
    "        self.dense_proj = keras.Sequential( [   layers.Dense(dense_dim, activation=\"relu\"),\n",
    "                                                layers.Dense(embed_dim),\n",
    "                                            ])\n",
    "        \n",
    "        self.layernorm_1 = layers.LayerNormalization()\n",
    "        self.layernorm_2 = layers.LayerNormalization()\n",
    "\n",
    "        self.supports_masking = True\n",
    "\n",
    "    def call(self, inputs, mask=None):  # inputs = [64 20 256]\n",
    "\n",
    "        if mask is not None:\n",
    "            padding_mask = tf.cast(mask[:, tf.newaxis, tf.newaxis, :], dtype=\"int32\")\n",
    "\n",
    "        attention_output = self.attention(  query=inputs, \n",
    "                                            value=inputs, \n",
    "                                            key=inputs, \n",
    "                                            attention_mask=padding_mask)\n",
    "\n",
    "        proj_input = self.layernorm_1(inputs + attention_output)\n",
    "        proj_output = self.dense_proj(proj_input)\n",
    "\n",
    "        out = self.layernorm_2(proj_input + proj_output)\n",
    "        # debugging tf.print('TransformerEncoder: ', tf.shape(out))\n",
    "        return out \n",
    "        \n",
    "    def get_config(self):\n",
    "        config = super().get_config()\n",
    "        config.update({\n",
    "            \"embed_dim\": self.embed_dim,\n",
    "            \"dense_dim\": self.dense_dim,\n",
    "            \"num_heads\": self.num_heads,\n",
    "        })\n",
    "        return config\n",
    "\n",
    "\n",
    "class PositionalEmbedding(layers.Layer):\n",
    "\n",
    "    def __init__(self, sequence_length, vocab_size, embed_dim, **kwargs):\n",
    "\n",
    "        super(PositionalEmbedding, self).__init__(**kwargs)\n",
    "\n",
    "        self.token_embeddings = layers.Embedding(input_dim=vocab_size, output_dim=embed_dim)\n",
    "        \n",
    "        self.position_embeddings = layers.Embedding(input_dim=sequence_length, output_dim=embed_dim)\n",
    "\n",
    "        self.sequence_length = sequence_length\n",
    "        self.vocab_size = vocab_size\n",
    "        self.embed_dim = embed_dim\n",
    "\n",
    "    def call(self, inputs):\n",
    "\n",
    "        length = tf.shape(inputs)[-1]\n",
    "        positions = tf.range(start=0, limit=length, delta=1)\n",
    "        embedded_tokens = self.token_embeddings(inputs)\n",
    "        embedded_positions = self.position_embeddings(positions)\n",
    "\n",
    "        return embedded_tokens + embedded_positions\n",
    "\n",
    "    def compute_mask(self, inputs, mask=None):\n",
    "        return tf.math.not_equal(inputs, 0)\n",
    "        \n",
    "    def get_config(self):\n",
    "        config = super().get_config()\n",
    "        config.update({\n",
    "            \"sequence_length\": self.sequence_length,\n",
    "            \"vocab_size\": self.vocab_size,\n",
    "            \"embed_dim\": self.embed_dim,\n",
    "        })\n",
    "        return config\n",
    "\n",
    "\n",
    "class TransformerDecoder(layers.Layer):\n",
    "\n",
    "    def __init__(self, embed_dim, dense_dim, num_heads, **kwargs):\n",
    "\n",
    "        super(TransformerDecoder, self).__init__(**kwargs)\n",
    "        \n",
    "        self.embed_dim = embed_dim\n",
    "        self.dense_dim = dense_dim\n",
    "        self.num_heads = num_heads\n",
    "\n",
    "        self.attention_1 = layers.MultiHeadAttention(num_heads=num_heads, key_dim=embed_dim)\n",
    "\n",
    "        self.attention_2 = layers.MultiHeadAttention(num_heads=num_heads, key_dim=embed_dim)\n",
    "\n",
    "        self.dense_proj = keras.Sequential([    layers.Dense(dense_dim, activation=\"relu\"), \n",
    "                                                layers.Dense(embed_dim),])\n",
    "                                                \n",
    "        self.layernorm_1 = layers.LayerNormalization()\n",
    "        self.layernorm_2 = layers.LayerNormalization()\n",
    "        self.layernorm_3 = layers.LayerNormalization()\n",
    "        self.supports_masking = True\n",
    "\n",
    "    def call(self, inputs, encoder_outputs, mask=None): # inputs = encoder_outputs = [64 20 256]\n",
    "\n",
    "        causal_mask = self.get_causal_attention_mask(inputs)\n",
    "        \n",
    "        #tf.print('causal_mask: ', causal_mask)\n",
    "\n",
    "        if mask is not None:\n",
    "            padding_mask = tf.cast(mask[:, tf.newaxis, :], dtype=\"int32\")\n",
    "            padding_mask = tf.minimum(padding_mask, causal_mask)\n",
    "\n",
    "        #tf.print('padding_mask: ', padding_mask)\n",
    "\n",
    "        attention_output_1 = self.attention_1(  query=inputs, \n",
    "                                                value=inputs, \n",
    "                                                key=inputs, \n",
    "                                                attention_mask=causal_mask\n",
    "                                             )\n",
    "\n",
    "        out_1 = self.layernorm_1(inputs + attention_output_1)\n",
    "\n",
    "        attention_output_2 = self.attention_2(  query=out_1,\n",
    "                                                value=encoder_outputs,\n",
    "                                                key=encoder_outputs,\n",
    "                                                attention_mask=padding_mask\n",
    "                                             )\n",
    "\n",
    "        out_2 = self.layernorm_2(out_1 + attention_output_2)\n",
    "\n",
    "        proj_output = self.dense_proj(out_2)\n",
    "        return self.layernorm_3(out_2 + proj_output)\n",
    "\n",
    "    def get_causal_attention_mask(self, inputs):\n",
    "        \n",
    "        input_shape = tf.shape(inputs)\n",
    "        batch_size, sequence_length = input_shape[0], input_shape[1]\n",
    "        i = tf.range(sequence_length)[:, tf.newaxis]\n",
    "        j = tf.range(sequence_length)\n",
    "        mask = tf.cast(i >= j, dtype=\"int32\")\n",
    "        mask = tf.reshape(mask, (1, input_shape[1], input_shape[1]))\n",
    "        mult = tf.concat(\n",
    "            [tf.expand_dims(batch_size, -1), tf.constant([1, 1], dtype=tf.int32)],\n",
    "            axis=0,\n",
    "        )\n",
    "        return tf.tile(mask, mult)\n",
    "\n",
    "    def get_config(self):\n",
    "        config = super().get_config()\n",
    "        config.update({\n",
    "            \"embed_dim\": self.embed_dim,\n",
    "            \"dense_dim\": self.dense_dim,\n",
    "            \"num_heads\": self.num_heads,\n",
    "        })\n",
    "        return config\n"
   ]
  },
  {
   "cell_type": "markdown",
   "metadata": {
    "id": "CB0R4Hbp3YkW"
   },
   "source": [
    "Next, we assemble the end-to-end model."
   ]
  },
  {
   "cell_type": "code",
   "execution_count": 14,
   "metadata": {
    "id": "AAN6DWl73YkW"
   },
   "outputs": [],
   "source": [
    "encoder_inputs      = keras.Input(shape=(None,), dtype=\"int64\", name=\"encoder_inputs\")              # (64, 20, 256)\n",
    "x                   = PositionalEmbedding(sequence_length, vocab_size, embed_dim)(encoder_inputs)   # (64, 20, 256)\n",
    "encoder_outputs     = TransformerEncoder(embed_dim, dense_dim, num_heads)(x)                        # (64, 20, 256)\n",
    "\n",
    "encoder             = keras.Model(encoder_inputs, encoder_outputs, name='encoder')\n",
    "\n",
    "decoder_inputs      = keras.Input(shape=(None,), dtype=\"int64\", name=\"decoder_inputs\")\n",
    "encoded_seq_inputs  = keras.Input(shape=(None, embed_dim), name=\"decoder_state_inputs\")\n",
    "x                   = PositionalEmbedding(sequence_length, vocab_size, embed_dim)(decoder_inputs)   # (64, 20, 256)\n",
    "x                   = TransformerDecoder(embed_dim, dense_dim, num_heads)(x, encoded_seq_inputs)    # (64, 20, 256)\n",
    "x                   = layers.Dropout(0.5)(x)\n",
    "decoder_outputs     = layers.Dense(vocab_size, activation=\"softmax\")(x)                             # a probability for each word in the vocabulary\n",
    "                                                                                                    # vocab_size = 15000\n",
    "decoder             = keras.Model([decoder_inputs, encoded_seq_inputs], decoder_outputs, name='decoder')\n",
    "\n",
    "decoder_outputs    = decoder([decoder_inputs, encoder_outputs])                                     # (32, 20, 15000) which is\n",
    "                                                                                                    # (batch_size, sequence_length, vocab_size)\n",
    "transformer = keras.Model([encoder_inputs, decoder_inputs], decoder_outputs, name=\"transformer\")   "
   ]
  },
  {
   "cell_type": "markdown",
   "metadata": {},
   "source": [
    "That means which each transformer input (training or inference) we get an output tensor of:\n",
    "\n",
    "> `(batch_size, sequence_length, vocab_size)`\n",
    "\n",
    "For each word in the output sentence we get a probability of which word it is in the vocabulary. That means the transformer output is a\n",
    "\n",
    "* Multi-label (to predict 20 words) and multi-class (words in vocabulary)\n",
    "\n",
    "as shown below:"
   ]
  },
  {
   "cell_type": "markdown",
   "metadata": {},
   "source": [
    "<p align=\"center\">\n",
    "  <img width=\"400\" src=\"pics/type.png\">\n",
    "</p>"
   ]
  },
  {
   "cell_type": "markdown",
   "metadata": {},
   "source": [
    "Let's make a test run."
   ]
  },
  {
   "cell_type": "code",
   "execution_count": 15,
   "metadata": {},
   "outputs": [
    {
     "name": "stderr",
     "output_type": "stream",
     "text": [
      "2022-11-12 14:05:58.881018: I tensorflow/stream_executor/cuda/cuda_dnn.cc:366] Loaded cuDNN version 8202\n"
     ]
    },
    {
     "name": "stdout",
     "output_type": "stream",
     "text": [
      "tf.Tensor([   32    20 15000], shape=(3,), dtype=int32)\n"
     ]
    }
   ],
   "source": [
    "output = transformer(inputs)\n",
    "print(tf.shape(output))"
   ]
  },
  {
   "cell_type": "markdown",
   "metadata": {
    "id": "nB2SBp2C3YkW"
   },
   "source": [
    "## Training our model\n",
    "\n",
    "We'll use accuracy as a quick way to monitor training progress on the validation data. Note that machine translation typically uses BLEU scores as well as other metrics, rather than accuracy. Here we only train for 1 epoch, but to get the model to actually converge\n",
    "you should train for at least 30 epochs."
   ]
  },
  {
   "cell_type": "markdown",
   "metadata": {},
   "source": [
    "Some notes to sparse_categorical_crossentropy loss function, see the following links:   \n",
    "   \n",
    "[[Link 1]](https://stackoverflow.com/questions/58565394/what-is-the-difference-between-deurse-categorical-crossentropy-and-categorical-c)   \n",
    "[[Link 2]](https://github.com/christianversloot/machine-learning-articles/blob/main/how-to-use-sparse-categorical-crossentropy-in-keras.md)  \n",
    "[[Link 3]](https://cwiki.apache.org/confluence/display/MXNET/Multi-hot+deurse+Categorical+Cross-entropy)\n",
    "\n",
    "That means:\n",
    "\n",
    "* Transformer outputs a tensor of size (20, 15000) with probability for each German word in a sentence\n",
    "* The target vector is of size (20) (max. word per sentence). How can that match?\n",
    "* Each value in the target vectors represent the index of a word in the vocabulary (classes)\n",
    "* We use sparse_categorical_crossentropy loss, that will compute cross entropy only on the index with the highest probability per word\n",
    "* Consequently, loss calculation is correct due to the usage of sparse_categorical_crossentropy\n"
   ]
  },
  {
   "cell_type": "markdown",
   "metadata": {},
   "source": [
    "<p align=\"center\">\n",
    "  <img width=\"800\" src=\"pics/sparse.png\">\n",
    "</p>"
   ]
  },
  {
   "cell_type": "code",
   "execution_count": 18,
   "metadata": {
    "id": "KbPjT94A3YkW"
   },
   "outputs": [
    {
     "name": "stdout",
     "output_type": "stream",
     "text": [
      "Model: \"transformer\"\n",
      "__________________________________________________________________________________________________\n",
      " Layer (type)                   Output Shape         Param #     Connected to                     \n",
      "==================================================================================================\n",
      " encoder_inputs (InputLayer)    [(None, None)]       0           []                               \n",
      "                                                                                                  \n",
      " positional_embedding (Position  (None, None, 512)   7690240     ['encoder_inputs[0][0]']         \n",
      " alEmbedding)                                                                                     \n",
      "                                                                                                  \n",
      " decoder_inputs (InputLayer)    [(None, None)]       0           []                               \n",
      "                                                                                                  \n",
      " transformer_encoder (Transform  (None, None, 512)   14701568    ['positional_embedding[0][0]']   \n",
      " erEncoder)                                                                                       \n",
      "                                                                                                  \n",
      " decoder (Functional)           (None, None, 15000)  38489240    ['decoder_inputs[0][0]',         \n",
      "                                                                  'transformer_encoder[0][0]']    \n",
      "                                                                                                  \n",
      "==================================================================================================\n",
      "Total params: 60,881,048\n",
      "Trainable params: 60,881,048\n",
      "Non-trainable params: 0\n",
      "__________________________________________________________________________________________________\n"
     ]
    }
   ],
   "source": [
    "epochs = 20  # This should be at least 30 for convergence\n",
    "\n",
    "transformer.summary()\n",
    "transformer.compile(    \"rmsprop\", \n",
    "                        loss=\"sparse_categorical_crossentropy\", \n",
    "                        metrics=[\"accuracy\"])"
   ]
  },
  {
   "cell_type": "markdown",
   "metadata": {},
   "source": [
    "Let's visualize that."
   ]
  },
  {
   "cell_type": "code",
   "execution_count": 19,
   "metadata": {},
   "outputs": [
    {
     "data": {
      "image/png": "[encoded data removed]",
      "text/plain": [
       "<IPython.core.display.Image object>"
      ]
     },
     "execution_count": 19,
     "metadata": {},
     "output_type": "execute_result"
    }
   ],
   "source": [
    "keras.utils.plot_model(transformer, show_shapes=True)"
   ]
  },
  {
   "cell_type": "code",
   "execution_count": 20,
   "metadata": {},
   "outputs": [
    {
     "name": "stdout",
     "output_type": "stream",
     "text": [
      "Epoch 1/20\n",
      "5597/5597 [==============================] - 228s 40ms/step - loss: 1.9646 - accuracy: 0.3533 - val_loss: 1.7632 - val_accuracy: 0.3965\n",
      "Epoch 2/20\n",
      "5597/5597 [==============================] - 227s 40ms/step - loss: 1.7794 - accuracy: 0.4024 - val_loss: 1.7145 - val_accuracy: 0.4115\n",
      "Epoch 3/20\n",
      "5597/5597 [==============================] - 228s 41ms/step - loss: 1.7947 - accuracy: 0.4185 - val_loss: 1.7523 - val_accuracy: 0.4323\n",
      "Epoch 4/20\n",
      "5597/5597 [==============================] - 229s 41ms/step - loss: 1.8041 - accuracy: 0.4292 - val_loss: 1.7436 - val_accuracy: 0.4379\n",
      "Epoch 5/20\n",
      "5597/5597 [==============================] - 228s 41ms/step - loss: 1.7861 - accuracy: 0.4402 - val_loss: 1.7252 - val_accuracy: 0.4472\n",
      "Epoch 6/20\n",
      "5597/5597 [==============================] - 228s 41ms/step - loss: 1.7792 - accuracy: 0.4450 - val_loss: 1.7131 - val_accuracy: 0.4510\n",
      "Epoch 7/20\n",
      "5597/5597 [==============================] - 228s 41ms/step - loss: 1.7805 - accuracy: 0.4476 - val_loss: 1.7153 - val_accuracy: 0.4552\n",
      "Epoch 8/20\n",
      "5597/5597 [==============================] - 228s 41ms/step - loss: 1.7728 - accuracy: 0.4494 - val_loss: 1.7108 - val_accuracy: 0.4529\n",
      "Epoch 9/20\n",
      "5597/5597 [==============================] - 228s 41ms/step - loss: 1.7628 - accuracy: 0.4517 - val_loss: 1.7006 - val_accuracy: 0.4584\n",
      "Epoch 10/20\n",
      "5597/5597 [==============================] - 229s 41ms/step - loss: 1.7517 - accuracy: 0.4562 - val_loss: 1.6929 - val_accuracy: 0.4612\n",
      "Epoch 11/20\n",
      "5597/5597 [==============================] - 229s 41ms/step - loss: 1.7398 - accuracy: 0.4591 - val_loss: 1.6734 - val_accuracy: 0.4639\n",
      "Epoch 12/20\n",
      "5597/5597 [==============================] - 229s 41ms/step - loss: 1.7354 - accuracy: 0.4618 - val_loss: 1.6705 - val_accuracy: 0.4695\n",
      "Epoch 13/20\n",
      "5597/5597 [==============================] - 229s 41ms/step - loss: 1.7238 - accuracy: 0.4637 - val_loss: 1.6620 - val_accuracy: 0.4704\n",
      "Epoch 14/20\n",
      "5597/5597 [==============================] - 229s 41ms/step - loss: 1.7121 - accuracy: 0.4669 - val_loss: 1.6571 - val_accuracy: 0.4718\n",
      "Epoch 15/20\n",
      "5597/5597 [==============================] - 229s 41ms/step - loss: 1.7053 - accuracy: 0.4687 - val_loss: 1.6460 - val_accuracy: 0.4745\n",
      "Epoch 16/20\n",
      "5597/5597 [==============================] - 229s 41ms/step - loss: 1.6952 - accuracy: 0.4715 - val_loss: 1.6378 - val_accuracy: 0.4753\n",
      "Epoch 17/20\n",
      "5597/5597 [==============================] - 230s 41ms/step - loss: 1.6893 - accuracy: 0.4734 - val_loss: 1.6301 - val_accuracy: 0.4779\n",
      "Epoch 18/20\n",
      "5597/5597 [==============================] - 231s 41ms/step - loss: 1.6820 - accuracy: 0.4755 - val_loss: 1.6317 - val_accuracy: 0.4783\n",
      "Epoch 19/20\n",
      "5597/5597 [==============================] - 230s 41ms/step - loss: 1.6786 - accuracy: 0.4753 - val_loss: 1.6184 - val_accuracy: 0.4798\n",
      "Epoch 20/20\n",
      "5597/5597 [==============================] - 230s 41ms/step - loss: 1.6752 - accuracy: 0.4762 - val_loss: 1.6169 - val_accuracy: 0.4812\n"
     ]
    }
   ],
   "source": [
    "if True:\n",
    "    transformer.fit(train_ds, epochs=epochs, validation_data=val_ds)\n",
    "else:\n",
    "    transformer = keras.models.load_model('en-es-translator')"
   ]
  },
  {
   "cell_type": "code",
   "execution_count": null,
   "metadata": {},
   "outputs": [],
   "source": [
    "transformer.save('en-de-translator');"
   ]
  },
  {
   "cell_type": "markdown",
   "metadata": {
    "id": "2fDeApqi3YkX"
   },
   "source": [
    "## Decoding test sentences\n",
    "\n",
    "Finally, let's demonstrate how to translate brand new English sentences.\n",
    "We simply feed into the model the vectorized English sentence\n",
    "as well as the target token `\"[start]\"`, then we repeatedly generated the next token, until\n",
    "we hit the token `\"[end]\"`."
   ]
  },
  {
   "cell_type": "markdown",
   "metadata": {},
   "source": [
    "<p align=\"center\">\n",
    "  <img width=\"600\" src=\"pics/inference.png\">\n",
    "</p>"
   ]
  },
  {
   "cell_type": "code",
   "execution_count": 22,
   "metadata": {
    "id": "ZM9VlDJv3YkX"
   },
   "outputs": [],
   "source": [
    "deu_vocab = deu_vectorization.get_vocabulary()\n",
    "deu_index_lookup = dict(zip(range(len(deu_vocab)), deu_vocab))\n",
    "\n",
    "# global to view later on\n",
    "predictions = []\n",
    "sampled_token_index = 0\n",
    "sampled_token = 0\n",
    "\n",
    "def decode_sequence(input_sentence):\n",
    "    \n",
    "    global predictions, sampled_token_index, sampled_token\n",
    "    \n",
    "    tokenized_input_sentence = eng_vectorization([input_sentence])\n",
    "    decoded_sentence = \"[start]\"\n",
    "\n",
    "    for i in range(sequence_length):\n",
    "    \n",
    "        tokenized_target_sentence = deu_vectorization([decoded_sentence])[:, :-1]\n",
    "        predictions = transformer.predict([tokenized_input_sentence, tokenized_target_sentence])\n",
    "\n",
    "        # greedy method to get word with highest probability in vocabulary per sentence position i\n",
    "        sampled_token_index = np.argmax(predictions[0, i, :])\n",
    "        sampled_token = deu_index_lookup[sampled_token_index]\n",
    "        decoded_sentence += \" \" + sampled_token\n",
    "\n",
    "        if sampled_token == \"[end]\":\n",
    "            break\n",
    "    \n",
    "    return decoded_sentence"
   ]
  },
  {
   "cell_type": "markdown",
   "metadata": {},
   "source": [
    "Lets translate 30 sentences from the test set. If you receive [UNK] means unknown word, token is not present in the vocabulary. Increase hidden states."
   ]
  },
  {
   "cell_type": "code",
   "execution_count": 23,
   "metadata": {},
   "outputs": [
    {
     "name": "stdout",
     "output_type": "stream",
     "text": [
      "My family has lived here for thirty years. \n",
      "\tMine:  meine familie ist ist schon jahre  Google: Meine Familie lebt hier seit dreißig Jahren.\n",
      "I just want to dance. \n",
      "\tMine:  ich will gerade gerade  Google: Ich will nur tanzen.\n",
      "The boat sunk and everyone died. \n",
      "\tMine:  das ist sich und und  Google: Das Boot sank und alle starben.\n",
      "Tom doesn't heed any advice from Mary. \n",
      "\tMine:  tom [UNK] sich  Google: Tom beachtet keinen Rat von Mary.\n",
      "Tom is possessive. \n",
      "\tMine:  tom ist [UNK]  Google: Tom ist besitzergreifend.\n",
      "One of my children is sick. \n",
      "\tMine:  der [UNK] meine kinder  Google: Eines meiner Kinder ist krank.\n",
      "Maybe we should be quiet. \n",
      "\tMine:  vielleicht sollten wir uns  Google: Vielleicht sollten wir schweigen.\n",
      "Tom has no secrets from me. \n",
      "\tMine:  tom hat sich  Google: Tom hat keine Geheimnisse vor mir.\n",
      "Is that so? I'm sorry to hear that. \n",
      "\tMine:  ist das ich dass ich aber ich  Google: Ist das so? Es tut mir leid, das zu hören.\n",
      "Tom is getting ready, isn't he? \n",
      "\tMine:  tom wird nicht so nicht  Google: Tom macht sich fertig, nicht wahr?\n"
     ]
    }
   ],
   "source": [
    "# get english text from the test set\n",
    "test_eng_texts = [pair[0] for pair in test_pairs]\n",
    "\n",
    "for _ in range(10):\n",
    "    \n",
    "    # choose some text randomly\n",
    "    input_sentence = random.choice(test_eng_texts)\n",
    "    my_translation = decode_sequence(input_sentence)\n",
    "\n",
    "    # use google translator\n",
    "    google_translation = GoogleTranslator(source='en', target='de').translate(input_sentence) \n",
    "\n",
    "    print(  input_sentence, \n",
    "            '\\n\\tMine:',    my_translation.replace('[start]', '').replace('[end]', ''), \n",
    "            'Google:',      google_translation)"
   ]
  },
  {
   "cell_type": "markdown",
   "metadata": {},
   "source": [
    "Let's have a closer look at the translation probabilities."
   ]
  },
  {
   "cell_type": "code",
   "execution_count": 24,
   "metadata": {},
   "outputs": [
    {
     "name": "stdout",
     "output_type": "stream",
     "text": [
      "Tom is getting ready, isn't he?\n"
     ]
    },
    {
     "data": {
      "text/html": [
       "<div>\n",
       "<style scoped>\n",
       "    .dataframe tbody tr th:only-of-type {\n",
       "        vertical-align: middle;\n",
       "    }\n",
       "\n",
       "    .dataframe tbody tr th {\n",
       "        vertical-align: top;\n",
       "    }\n",
       "\n",
       "    .dataframe thead th {\n",
       "        text-align: right;\n",
       "    }\n",
       "</style>\n",
       "<table border=\"1\" class=\"dataframe\">\n",
       "  <thead>\n",
       "    <tr style=\"text-align: right;\">\n",
       "      <th></th>\n",
       "      <th>0</th>\n",
       "      <th>1</th>\n",
       "      <th>2</th>\n",
       "      <th>3</th>\n",
       "      <th>4</th>\n",
       "      <th>5</th>\n",
       "      <th>6</th>\n",
       "      <th>7</th>\n",
       "      <th>8</th>\n",
       "      <th>9</th>\n",
       "      <th>10</th>\n",
       "      <th>11</th>\n",
       "      <th>12</th>\n",
       "      <th>13</th>\n",
       "      <th>14</th>\n",
       "      <th>15</th>\n",
       "      <th>16</th>\n",
       "      <th>17</th>\n",
       "      <th>18</th>\n",
       "      <th>19</th>\n",
       "    </tr>\n",
       "  </thead>\n",
       "  <tbody>\n",
       "    <tr>\n",
       "      <th>count</th>\n",
       "      <td>1.500000e+04</td>\n",
       "      <td>1.500000e+04</td>\n",
       "      <td>1.500000e+04</td>\n",
       "      <td>1.500000e+04</td>\n",
       "      <td>1.500000e+04</td>\n",
       "      <td>1.500000e+04</td>\n",
       "      <td>1.500000e+04</td>\n",
       "      <td>1.500000e+04</td>\n",
       "      <td>1.500000e+04</td>\n",
       "      <td>1.500000e+04</td>\n",
       "      <td>1.500000e+04</td>\n",
       "      <td>1.500000e+04</td>\n",
       "      <td>1.500000e+04</td>\n",
       "      <td>1.500000e+04</td>\n",
       "      <td>1.500000e+04</td>\n",
       "      <td>1.500000e+04</td>\n",
       "      <td>1.500000e+04</td>\n",
       "      <td>1.500000e+04</td>\n",
       "      <td>1.500000e+04</td>\n",
       "      <td>1.500000e+04</td>\n",
       "    </tr>\n",
       "    <tr>\n",
       "      <th>mean</th>\n",
       "      <td>6.666670e-05</td>\n",
       "      <td>6.666667e-05</td>\n",
       "      <td>6.666667e-05</td>\n",
       "      <td>6.666667e-05</td>\n",
       "      <td>6.666673e-05</td>\n",
       "      <td>6.666670e-05</td>\n",
       "      <td>6.666663e-05</td>\n",
       "      <td>6.666662e-05</td>\n",
       "      <td>6.666662e-05</td>\n",
       "      <td>6.666670e-05</td>\n",
       "      <td>6.666670e-05</td>\n",
       "      <td>6.666664e-05</td>\n",
       "      <td>6.666664e-05</td>\n",
       "      <td>6.666663e-05</td>\n",
       "      <td>6.666665e-05</td>\n",
       "      <td>6.666662e-05</td>\n",
       "      <td>6.666662e-05</td>\n",
       "      <td>6.666662e-05</td>\n",
       "      <td>6.666664e-05</td>\n",
       "      <td>6.666663e-05</td>\n",
       "    </tr>\n",
       "    <tr>\n",
       "      <th>std</th>\n",
       "      <td>8.046840e-03</td>\n",
       "      <td>1.869855e-03</td>\n",
       "      <td>1.422566e-03</td>\n",
       "      <td>9.467491e-04</td>\n",
       "      <td>7.384032e-03</td>\n",
       "      <td>5.212388e-03</td>\n",
       "      <td>4.736722e-03</td>\n",
       "      <td>4.736732e-03</td>\n",
       "      <td>4.736745e-03</td>\n",
       "      <td>5.366815e-03</td>\n",
       "      <td>5.366981e-03</td>\n",
       "      <td>4.736677e-03</td>\n",
       "      <td>4.619274e-03</td>\n",
       "      <td>4.619269e-03</td>\n",
       "      <td>4.619274e-03</td>\n",
       "      <td>4.736674e-03</td>\n",
       "      <td>4.736749e-03</td>\n",
       "      <td>4.894731e-03</td>\n",
       "      <td>4.736674e-03</td>\n",
       "      <td>4.736736e-03</td>\n",
       "    </tr>\n",
       "    <tr>\n",
       "      <th>min</th>\n",
       "      <td>7.413111e-10</td>\n",
       "      <td>9.698603e-08</td>\n",
       "      <td>1.116447e-07</td>\n",
       "      <td>1.498401e-07</td>\n",
       "      <td>6.075561e-09</td>\n",
       "      <td>1.689518e-08</td>\n",
       "      <td>1.531581e-08</td>\n",
       "      <td>1.531633e-08</td>\n",
       "      <td>1.531525e-08</td>\n",
       "      <td>1.489197e-08</td>\n",
       "      <td>1.489142e-08</td>\n",
       "      <td>1.531593e-08</td>\n",
       "      <td>1.528080e-08</td>\n",
       "      <td>1.528077e-08</td>\n",
       "      <td>1.528113e-08</td>\n",
       "      <td>1.531600e-08</td>\n",
       "      <td>1.531580e-08</td>\n",
       "      <td>1.716926e-08</td>\n",
       "      <td>1.531592e-08</td>\n",
       "      <td>1.531603e-08</td>\n",
       "    </tr>\n",
       "    <tr>\n",
       "      <th>25%</th>\n",
       "      <td>1.900181e-09</td>\n",
       "      <td>1.641389e-07</td>\n",
       "      <td>1.933378e-07</td>\n",
       "      <td>2.238729e-07</td>\n",
       "      <td>1.641278e-08</td>\n",
       "      <td>3.181282e-08</td>\n",
       "      <td>3.833328e-08</td>\n",
       "      <td>3.833287e-08</td>\n",
       "      <td>3.833244e-08</td>\n",
       "      <td>3.196064e-08</td>\n",
       "      <td>3.195801e-08</td>\n",
       "      <td>3.833134e-08</td>\n",
       "      <td>3.709832e-08</td>\n",
       "      <td>3.709860e-08</td>\n",
       "      <td>3.709833e-08</td>\n",
       "      <td>3.833171e-08</td>\n",
       "      <td>3.833295e-08</td>\n",
       "      <td>3.589536e-08</td>\n",
       "      <td>3.833158e-08</td>\n",
       "      <td>3.833356e-08</td>\n",
       "    </tr>\n",
       "    <tr>\n",
       "      <th>50%</th>\n",
       "      <td>2.214565e-09</td>\n",
       "      <td>1.868314e-07</td>\n",
       "      <td>2.165281e-07</td>\n",
       "      <td>2.536089e-07</td>\n",
       "      <td>1.855326e-08</td>\n",
       "      <td>3.660649e-08</td>\n",
       "      <td>4.364284e-08</td>\n",
       "      <td>4.364216e-08</td>\n",
       "      <td>4.364310e-08</td>\n",
       "      <td>3.664054e-08</td>\n",
       "      <td>3.663780e-08</td>\n",
       "      <td>4.364150e-08</td>\n",
       "      <td>4.227327e-08</td>\n",
       "      <td>4.227359e-08</td>\n",
       "      <td>4.227382e-08</td>\n",
       "      <td>4.364167e-08</td>\n",
       "      <td>4.364265e-08</td>\n",
       "      <td>4.108929e-08</td>\n",
       "      <td>4.364140e-08</td>\n",
       "      <td>4.364272e-08</td>\n",
       "    </tr>\n",
       "    <tr>\n",
       "      <th>75%</th>\n",
       "      <td>3.863121e-09</td>\n",
       "      <td>3.138472e-07</td>\n",
       "      <td>3.282947e-07</td>\n",
       "      <td>3.948353e-07</td>\n",
       "      <td>2.955261e-08</td>\n",
       "      <td>6.201064e-08</td>\n",
       "      <td>7.331795e-08</td>\n",
       "      <td>7.332108e-08</td>\n",
       "      <td>7.331760e-08</td>\n",
       "      <td>6.232862e-08</td>\n",
       "      <td>6.232406e-08</td>\n",
       "      <td>7.331613e-08</td>\n",
       "      <td>7.129479e-08</td>\n",
       "      <td>7.129530e-08</td>\n",
       "      <td>7.129162e-08</td>\n",
       "      <td>7.331730e-08</td>\n",
       "      <td>7.331736e-08</td>\n",
       "      <td>6.952004e-08</td>\n",
       "      <td>7.331656e-08</td>\n",
       "      <td>7.331769e-08</td>\n",
       "    </tr>\n",
       "    <tr>\n",
       "      <th>max</th>\n",
       "      <td>9.855311e-01</td>\n",
       "      <td>2.119815e-01</td>\n",
       "      <td>1.331707e-01</td>\n",
       "      <td>7.147919e-02</td>\n",
       "      <td>9.041415e-01</td>\n",
       "      <td>6.146987e-01</td>\n",
       "      <td>5.039409e-01</td>\n",
       "      <td>5.039465e-01</td>\n",
       "      <td>5.039425e-01</td>\n",
       "      <td>6.269751e-01</td>\n",
       "      <td>6.269998e-01</td>\n",
       "      <td>5.039150e-01</td>\n",
       "      <td>4.045866e-01</td>\n",
       "      <td>4.045828e-01</td>\n",
       "      <td>4.045962e-01</td>\n",
       "      <td>5.039135e-01</td>\n",
       "      <td>5.039484e-01</td>\n",
       "      <td>5.405124e-01</td>\n",
       "      <td>5.039128e-01</td>\n",
       "      <td>5.039434e-01</td>\n",
       "    </tr>\n",
       "  </tbody>\n",
       "</table>\n",
       "</div>"
      ],
      "text/plain": [
       "                 0             1             2             3             4   \\\n",
       "count  1.500000e+04  1.500000e+04  1.500000e+04  1.500000e+04  1.500000e+04   \n",
       "mean   6.666670e-05  6.666667e-05  6.666667e-05  6.666667e-05  6.666673e-05   \n",
       "std    8.046840e-03  1.869855e-03  1.422566e-03  9.467491e-04  7.384032e-03   \n",
       "min    7.413111e-10  9.698603e-08  1.116447e-07  1.498401e-07  6.075561e-09   \n",
       "25%    1.900181e-09  1.641389e-07  1.933378e-07  2.238729e-07  1.641278e-08   \n",
       "50%    2.214565e-09  1.868314e-07  2.165281e-07  2.536089e-07  1.855326e-08   \n",
       "75%    3.863121e-09  3.138472e-07  3.282947e-07  3.948353e-07  2.955261e-08   \n",
       "max    9.855311e-01  2.119815e-01  1.331707e-01  7.147919e-02  9.041415e-01   \n",
       "\n",
       "                 5             6             7             8             9   \\\n",
       "count  1.500000e+04  1.500000e+04  1.500000e+04  1.500000e+04  1.500000e+04   \n",
       "mean   6.666670e-05  6.666663e-05  6.666662e-05  6.666662e-05  6.666670e-05   \n",
       "std    5.212388e-03  4.736722e-03  4.736732e-03  4.736745e-03  5.366815e-03   \n",
       "min    1.689518e-08  1.531581e-08  1.531633e-08  1.531525e-08  1.489197e-08   \n",
       "25%    3.181282e-08  3.833328e-08  3.833287e-08  3.833244e-08  3.196064e-08   \n",
       "50%    3.660649e-08  4.364284e-08  4.364216e-08  4.364310e-08  3.664054e-08   \n",
       "75%    6.201064e-08  7.331795e-08  7.332108e-08  7.331760e-08  6.232862e-08   \n",
       "max    6.146987e-01  5.039409e-01  5.039465e-01  5.039425e-01  6.269751e-01   \n",
       "\n",
       "                 10            11            12            13            14  \\\n",
       "count  1.500000e+04  1.500000e+04  1.500000e+04  1.500000e+04  1.500000e+04   \n",
       "mean   6.666670e-05  6.666664e-05  6.666664e-05  6.666663e-05  6.666665e-05   \n",
       "std    5.366981e-03  4.736677e-03  4.619274e-03  4.619269e-03  4.619274e-03   \n",
       "min    1.489142e-08  1.531593e-08  1.528080e-08  1.528077e-08  1.528113e-08   \n",
       "25%    3.195801e-08  3.833134e-08  3.709832e-08  3.709860e-08  3.709833e-08   \n",
       "50%    3.663780e-08  4.364150e-08  4.227327e-08  4.227359e-08  4.227382e-08   \n",
       "75%    6.232406e-08  7.331613e-08  7.129479e-08  7.129530e-08  7.129162e-08   \n",
       "max    6.269998e-01  5.039150e-01  4.045866e-01  4.045828e-01  4.045962e-01   \n",
       "\n",
       "                 15            16            17            18            19  \n",
       "count  1.500000e+04  1.500000e+04  1.500000e+04  1.500000e+04  1.500000e+04  \n",
       "mean   6.666662e-05  6.666662e-05  6.666662e-05  6.666664e-05  6.666663e-05  \n",
       "std    4.736674e-03  4.736749e-03  4.894731e-03  4.736674e-03  4.736736e-03  \n",
       "min    1.531600e-08  1.531580e-08  1.716926e-08  1.531592e-08  1.531603e-08  \n",
       "25%    3.833171e-08  3.833295e-08  3.589536e-08  3.833158e-08  3.833356e-08  \n",
       "50%    4.364167e-08  4.364265e-08  4.108929e-08  4.364140e-08  4.364272e-08  \n",
       "75%    7.331730e-08  7.331736e-08  6.952004e-08  7.331656e-08  7.331769e-08  \n",
       "max    5.039135e-01  5.039484e-01  5.405124e-01  5.039128e-01  5.039434e-01  "
      ]
     },
     "execution_count": 24,
     "metadata": {},
     "output_type": "execute_result"
    }
   ],
   "source": [
    "import pandas as pd\n",
    "print(input_sentence)\n",
    "df_pred = pd.DataFrame(predictions[0,:,:].T)\n",
    "df_pred.describe()\n"
   ]
  },
  {
   "cell_type": "code",
   "execution_count": null,
   "metadata": {},
   "outputs": [],
   "source": []
  }
 ],
 "metadata": {
  "colab": {
   "collapsed_sections": [],
   "name": "neural_machine_translation_with_transformer",
   "provenance": [],
   "toc_visible": true
  },
  "kernelspec": {
   "display_name": "Python 3 (ipykernel)",
   "language": "python",
   "name": "python3"
  },
  "language_info": {
   "codemirror_mode": {
    "name": "ipython",
    "version": 3
   },
   "file_extension": ".py",
   "mimetype": "text/x-python",
   "name": "python",
   "nbconvert_exporter": "python",
   "pygments_lexer": "ipython3",
   "version": "3.8.11"
  },
  "vscode": {
   "interpreter": {
    "hash": "4d0dac48f5d9b27e45995153baafec01158dfff2c0bb1df66c2c7c47f74320c7"
   }
  }
 },
 "nbformat": 4,
 "nbformat_minor": 1
}
