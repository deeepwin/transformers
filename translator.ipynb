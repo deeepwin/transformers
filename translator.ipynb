{
  "cells": [
    {
      "cell_type": "markdown",
      "metadata": {
        "id": "N2njQC0n3YkL"
      },
      "source": [
        "# English-to-German Translation with a Sequence-to-Sequence Transformer\n",
        "\n",
        "**Author:** Deeepwin, [fchollet](https://twitter.com/fchollet) <br>\n",
        "**Date created:** 2021/05/26<br>\n",
        "**Last modified:** 2022/11/05<br>\n",
        "**Description:** Implementing a sequence-to-sequene Transformer and training it on a machine translation task.\n",
        "***"
      ]
    },
    {
      "cell_type": "markdown",
      "metadata": {
        "id": "lw7HtWh63YkN"
      },
      "source": [
        "## Introduction\n",
        "\n",
        "In this example, we'll build a sequence-to-sequence Transformer model, which\n",
        "we'll train on an English-to-German machine translation task.\n",
        "\n",
        "You'll learn how to:\n",
        "\n",
        "- Vectorize text using the Keras `TextVectorization` layer.\n",
        "- Implement a `TransformerEncoder` layer, a `TransformerDecoder` layer,\n",
        "and a `PositionalEmbedding` layer.\n",
        "- Prepare data for training a sequence-to-sequence model.\n",
        "- Use the trained model to generate translations of never-seen-before\n",
        "input sentences (sequence-to-sequence inference).\n",
        "\n",
        "The code featured here is adapted from the book\n",
        "[Deep Learning with Python, Second Edition](https://www.manning.com/books/deep-learning-with-python-second-edition)\n",
        "(chapter 11: Deep learning for text).\n",
        "The present example is fairly barebones, so for detailed explanations of\n",
        "how each building block works, as well as the theory behind Transformers,\n",
        "I recommend reading the book."
      ]
    },
    {
      "cell_type": "markdown",
      "metadata": {
        "id": "q-1Gmy6c3YkO"
      },
      "source": [
        "## Setup"
      ]
    },
    {
      "cell_type": "code",
      "execution_count": 1,
      "metadata": {
        "id": "N5yHomr53YkP"
      },
      "outputs": [],
      "source": [
        "import pathlib\n",
        "import random\n",
        "import string\n",
        "import re\n",
        "import numpy as np\n",
        "import tensorflow as tf\n",
        "from tensorflow import keras\n",
        "from tensorflow.keras import layers\n",
        "from tensorflow.keras.layers import TextVectorization\n",
        "from deep_translator import GoogleTranslator"
      ]
    },
    {
      "cell_type": "code",
      "execution_count": 2,
      "metadata": {},
      "outputs": [],
      "source": [
        "np.set_printoptions(linewidth=160)"
      ]
    },
    {
      "cell_type": "markdown",
      "metadata": {},
      "source": [
        "# Configuration"
      ]
    },
    {
      "cell_type": "code",
      "execution_count": 3,
      "metadata": {},
      "outputs": [],
      "source": [
        "num_heads       = 8\n",
        "\n",
        "dense_dim       = (3* 2048)     # Dimension of feed forward fully connected layers\n",
        "embed_dim       = 256           # Dimension of model output layers\n",
        "\n",
        "vocab_size      = 15000         # Vocabulary size\n",
        "sequence_length = 20            # Maximum length of the input sequence\n",
        "\n",
        "batch_size      = 32"
      ]
    },
    {
      "cell_type": "markdown",
      "metadata": {
        "id": "dpvQJvc53YkP"
      },
      "source": [
        "## Downloading the data\n",
        "\n",
        "We'll be working with an English-to-GErman translation dataset\n",
        "provided by [Anki](https://www.manythings.org/anki/). Let's download it:"
      ]
    },
    {
      "cell_type": "code",
      "execution_count": 4,
      "metadata": {},
      "outputs": [
        {
          "data": {
            "text/plain": [
              "'/home/martin/GitHub/transformers/deu.txt'"
            ]
          },
          "execution_count": 4,
          "metadata": {},
          "output_type": "execute_result"
        }
      ],
      "source": [
        "import requests\n",
        "import os\n",
        "from zipfile import ZipFile\n",
        "from pathlib import Path\n",
        "\n",
        "zip_file   = 'deu-eng.zip'\n",
        "\n",
        "my_file = Path(zip_file)\n",
        "if not my_file.is_file():\n",
        "\n",
        "    url         = 'https://www.manythings.org/anki/' + zip_file\n",
        "    headers     = {'User-Agent': 'Mozilla/5.0 (Macintosh; Intel Mac OS X 10_10_1) AppleWebKit/537.36 (KHTML, like Gecko) Chrome/39.0.2171.95 Safari/537.36'}\n",
        "\n",
        "    r = requests.get(url, headers=headers)\n",
        "\n",
        "    open(os.path.join('data', zip_file), 'wb').write(r.content)\n",
        "\n",
        "    deu_eng_zip = ZipFile(os.path.join('data', zip_file), 'r')\n",
        "    deu_eng_zip.extract(\"deu.txt\")"
      ]
    },
    {
      "cell_type": "markdown",
      "metadata": {
        "id": "HNIT_zyL3YkQ"
      },
      "source": [
        "## Parsing the data\n",
        "\n",
        "Each line contains an English sentence and its corresponding German sentence.\n",
        "The English sentence is the *source sequence* and German one is the *target sequence*.\n",
        "We prepend the token `\"[start]\"` and we append the token `\"[end]\"` to the German sentence."
      ]
    },
    {
      "cell_type": "code",
      "execution_count": 5,
      "metadata": {
        "id": "dxG3GanZ3YkQ"
      },
      "outputs": [],
      "source": [
        "with open(\"deu.txt\") as f:\n",
        "    lines = f.read().split(\"\\n\")[:-1]\n",
        "text_pairs = []\n",
        "for line in lines:\n",
        "    eng, deu, _ = line.split(\"\\t\")\n",
        "    deu = \"[start] \" + deu + \" [end]\"\n",
        "    text_pairs.append((eng, deu))"
      ]
    },
    {
      "cell_type": "markdown",
      "metadata": {
        "id": "xHyKoVr73YkR"
      },
      "source": [
        "Here's what our sentence pairs look like:"
      ]
    },
    {
      "cell_type": "code",
      "execution_count": 6,
      "metadata": {
        "id": "0H5h8oO43YkS"
      },
      "outputs": [
        {
          "name": "stdout",
          "output_type": "stream",
          "text": [
            "('Why did you kiss me?', '[start] Warum hast du mich geküsst? [end]')\n",
            "(\"Tom told Mary that he thought John wasn't the first one to do that.\", '[start] Tom meinte zu Maria, Johannes habe das nicht als erster getan. [end]')\n",
            "('Tom never was generous.', '[start] Tom war nie großzügig. [end]')\n",
            "('My father gave me a puppy for my birthday.', '[start] Mein Vater hat mir zum Geburtstag ein kleines Hündchen geschenkt. [end]')\n",
            "('Last century they would have just thrown someone like Tom into a lunatic asylum.', '[start] Im letzten Jahrhundert wäre jemand wie Tom schlichtweg ins Irrenhaus gesteckt worden. [end]')\n"
          ]
        }
      ],
      "source": [
        "for _ in range(5):\n",
        "    print(random.choice(text_pairs))"
      ]
    },
    {
      "cell_type": "markdown",
      "metadata": {
        "id": "dVAVkf_R3YkS"
      },
      "source": [
        "Now, let's split the sentence pairs into a training set, a validation set,\n",
        "and a test set."
      ]
    },
    {
      "cell_type": "code",
      "execution_count": 7,
      "metadata": {
        "id": "HHW8esFP3YkT"
      },
      "outputs": [
        {
          "name": "stdout",
          "output_type": "stream",
          "text": [
            "255817 total pairs\n",
            "179073 training pairs\n",
            "38372 validation pairs\n",
            "38372 test pairs\n"
          ]
        }
      ],
      "source": [
        "random.shuffle(text_pairs)\n",
        "\n",
        "num_val_samples     = int(0.15 * len(text_pairs))\n",
        "num_train_samples   = len(text_pairs) - 2 * num_val_samples\n",
        "\n",
        "\n",
        "train_pairs     = text_pairs[:num_train_samples]\n",
        "val_pairs       = text_pairs[num_train_samples : num_train_samples + num_val_samples]\n",
        "test_pairs      = text_pairs[num_train_samples + num_val_samples :]\n",
        "\n",
        "print(f\"{len(text_pairs)} total pairs\")\n",
        "print(f\"{len(train_pairs)} training pairs\")\n",
        "print(f\"{len(val_pairs)} validation pairs\")\n",
        "print(f\"{len(test_pairs)} test pairs\")"
      ]
    },
    {
      "cell_type": "markdown",
      "metadata": {
        "id": "OiHkaU4W3YkT"
      },
      "source": [
        "## Vectorizing the text data\n",
        "\n",
        "We'll use two instances of the `TextVectorization` layer to vectorize the text\n",
        "data (one for English and one for German),\n",
        "that is to say,   \n",
        "\n",
        "      to turn the original strings into integer sequences where each integer represents the index of a word in a vocabulary.\n",
        "\n",
        "Note: in a production-grade machine translation model, I would not recommend stripping the punctuation characters in either language. Instead, I would recommend turning\n",
        "each punctuation character into its own token, which you could achieve by providing a custom `split` function to the `TextVectorization` layer."
      ]
    },
    {
      "cell_type": "code",
      "execution_count": 8,
      "metadata": {
        "id": "058V3L453YkU"
      },
      "outputs": [
        {
          "name": "stderr",
          "output_type": "stream",
          "text": [
            "2022-11-05 16:55:03.942816: I tensorflow/stream_executor/cuda/cuda_gpu_executor.cc:939] successful NUMA node read from SysFS had negative value (-1), but there must be at least one NUMA node, so returning NUMA node zero\n",
            "2022-11-05 16:55:03.943533: I tensorflow/stream_executor/cuda/cuda_gpu_executor.cc:939] successful NUMA node read from SysFS had negative value (-1), but there must be at least one NUMA node, so returning NUMA node zero\n",
            "2022-11-05 16:55:03.950398: I tensorflow/stream_executor/cuda/cuda_gpu_executor.cc:939] successful NUMA node read from SysFS had negative value (-1), but there must be at least one NUMA node, so returning NUMA node zero\n",
            "2022-11-05 16:55:03.951414: I tensorflow/stream_executor/cuda/cuda_gpu_executor.cc:939] successful NUMA node read from SysFS had negative value (-1), but there must be at least one NUMA node, so returning NUMA node zero\n",
            "2022-11-05 16:55:03.951865: I tensorflow/stream_executor/cuda/cuda_gpu_executor.cc:939] successful NUMA node read from SysFS had negative value (-1), but there must be at least one NUMA node, so returning NUMA node zero\n",
            "2022-11-05 16:55:03.953164: I tensorflow/stream_executor/cuda/cuda_gpu_executor.cc:939] successful NUMA node read from SysFS had negative value (-1), but there must be at least one NUMA node, so returning NUMA node zero\n",
            "2022-11-05 16:55:03.953498: I tensorflow/core/common_runtime/gpu/gpu_device.cc:1932] Ignoring visible gpu device (device: 1, name: NVIDIA GeForce GT 710, pci bus id: 0000:08:00.0, compute capability: 3.5) with core count: 1. The minimum required count is 8. You can adjust this requirement with the env var TF_MIN_GPU_MULTIPROCESSOR_COUNT.\n",
            "2022-11-05 16:55:03.954237: I tensorflow/core/platform/cpu_feature_guard.cc:151] This TensorFlow binary is optimized with oneAPI Deep Neural Network Library (oneDNN) to use the following CPU instructions in performance-critical operations:  AVX2 FMA\n",
            "To enable them in other operations, rebuild TensorFlow with the appropriate compiler flags.\n",
            "2022-11-05 16:55:03.955379: I tensorflow/stream_executor/cuda/cuda_gpu_executor.cc:939] successful NUMA node read from SysFS had negative value (-1), but there must be at least one NUMA node, so returning NUMA node zero\n",
            "2022-11-05 16:55:03.955985: I tensorflow/stream_executor/cuda/cuda_gpu_executor.cc:939] successful NUMA node read from SysFS had negative value (-1), but there must be at least one NUMA node, so returning NUMA node zero\n",
            "2022-11-05 16:55:03.956570: I tensorflow/stream_executor/cuda/cuda_gpu_executor.cc:939] successful NUMA node read from SysFS had negative value (-1), but there must be at least one NUMA node, so returning NUMA node zero\n",
            "2022-11-05 16:55:04.542872: I tensorflow/stream_executor/cuda/cuda_gpu_executor.cc:939] successful NUMA node read from SysFS had negative value (-1), but there must be at least one NUMA node, so returning NUMA node zero\n",
            "2022-11-05 16:55:04.543468: I tensorflow/stream_executor/cuda/cuda_gpu_executor.cc:939] successful NUMA node read from SysFS had negative value (-1), but there must be at least one NUMA node, so returning NUMA node zero\n",
            "2022-11-05 16:55:04.543998: I tensorflow/stream_executor/cuda/cuda_gpu_executor.cc:939] successful NUMA node read from SysFS had negative value (-1), but there must be at least one NUMA node, so returning NUMA node zero\n",
            "2022-11-05 16:55:04.544651: I tensorflow/core/common_runtime/gpu/gpu_device.cc:1525] Created device /job:localhost/replica:0/task:0/device:GPU:0 with 9641 MB memory:  -> device: 0, name: NVIDIA GeForce RTX 2080 Ti, pci bus id: 0000:07:00.0, compute capability: 7.5\n"
          ]
        }
      ],
      "source": [
        "strip_chars = string.punctuation\n",
        "strip_chars = strip_chars.replace(\"[\", \"\")\n",
        "strip_chars = strip_chars.replace(\"]\", \"\")\n",
        "\n",
        "def custom_standardization(input_string):\n",
        "    lowercase = tf.strings.lower(input_string)\n",
        "    return tf.strings.regex_replace(lowercase, \"[%s]\" % re.escape(strip_chars), \"\")\n",
        "\n",
        "\n",
        "eng_vectorization = TextVectorization(  max_tokens=vocab_size, \n",
        "                                        output_mode=\"int\", \n",
        "                                        output_sequence_length=sequence_length)\n",
        "\n",
        "deu_vectorization = TextVectorization(  max_tokens=vocab_size,\n",
        "                                        output_mode=\"int\",\n",
        "                                        output_sequence_length=sequence_length + 1,\n",
        "                                        standardize=custom_standardization)\n",
        "                                        \n",
        "train_eng_texts = [pair[0] for pair in train_pairs]\n",
        "train_deu_texts = [pair[1] for pair in train_pairs]\n",
        "eng_vectorization.adapt(train_eng_texts);\n",
        "deu_vectorization.adapt(train_deu_texts);"
      ]
    },
    {
      "cell_type": "markdown",
      "metadata": {
        "id": "Vv5eX6Bi3YkU"
      },
      "source": [
        "Next, we'll format our datasets.\n",
        "\n",
        "At each training step, the model will seek to predict target words N+1 (and beyond)\n",
        "using the source sentence and the target words 0 to N.\n",
        "\n",
        "As such, the training dataset will yield a tuple `(inputs, targets)`, where:\n",
        "\n",
        "- `inputs` is a dictionary with the keys `encoder_inputs` and `decoder_inputs`.   \n",
        "   \n",
        "  `encoder_inputs` is the vectorized source sentence and   \n",
        "  `encoder_inputs` is the target sentence \"so far\",\n",
        "that is to say, the words 0 to N used to predict word N+1 (and beyond) in the target sentence.\n",
        "- `target` is the target sentence offset by one step:\n",
        "it provides the next words in the target sentence -- what the model will try to predict."
      ]
    },
    {
      "cell_type": "code",
      "execution_count": 9,
      "metadata": {
        "id": "DhCQiqpm3YkV"
      },
      "outputs": [],
      "source": [
        "\n",
        "def format_dataset(eng, deu):\n",
        "    eng = eng_vectorization(eng)\n",
        "    deu = deu_vectorization(deu)\n",
        "    return ({\"encoder_inputs\": eng, \"decoder_inputs\": deu[:, :-1],}, deu[:, 1:])\n",
        "\n",
        "\n",
        "def make_dataset(pairs):\n",
        "    eng_texts, deu_texts = zip(*pairs)\n",
        "    eng_texts = list(eng_texts) # list with 83276 english sentences\n",
        "    deu_texts = list(deu_texts) # same but in German\n",
        "    dataset = tf.data.Dataset.from_tensor_slices((eng_texts, deu_texts))\n",
        "    dataset = dataset.batch(batch_size)\n",
        "    dataset = dataset.map(format_dataset)\n",
        "    return dataset\n",
        "\n",
        "train_ds = make_dataset(train_pairs)\n",
        "val_ds = make_dataset(val_pairs)"
      ]
    },
    {
      "cell_type": "markdown",
      "metadata": {
        "id": "OsH6BUZp3YkV"
      },
      "source": [
        "Let's take a quick look at the sequence shapes\n",
        "(we have batches of 64 pairs, and all sequences are 20 steps long):"
      ]
    },
    {
      "cell_type": "code",
      "execution_count": 10,
      "metadata": {
        "id": "1sEm5ey23YkV"
      },
      "outputs": [
        {
          "name": "stdout",
          "output_type": "stream",
          "text": [
            "inputs[\"encoder_inputs\"].shape: (32, 20)\n",
            "inputs[\"decoder_inputs\"].shape: (32, 20)\n",
            "targets.shape: (32, 20)\n"
          ]
        }
      ],
      "source": [
        "for inputs, targets in train_ds.take(1):\n",
        "    print(f'inputs[\"encoder_inputs\"].shape: {inputs[\"encoder_inputs\"].shape}')\n",
        "    print(f'inputs[\"decoder_inputs\"].shape: {inputs[\"decoder_inputs\"].shape}')\n",
        "    print(f\"targets.shape: {targets.shape}\")"
      ]
    },
    {
      "cell_type": "markdown",
      "metadata": {},
      "source": [
        "Let's have a more detailed look on first batch:"
      ]
    },
    {
      "cell_type": "code",
      "execution_count": 11,
      "metadata": {},
      "outputs": [
        {
          "name": "stdout",
          "output_type": "stream",
          "text": [
            "We want candy.\n",
            "                 [  25   35 1962    0    0    0    0    0    0    0    0    0    0    0    0    0    0    0    0    0]\n",
            "[start] Wir wollen etwas Süßes. [end]\n",
            "                 [   2   20  198   59 3319    3    0    0    0    0    0    0    0    0    0    0    0    0    0    0    0]\n",
            "---\n",
            "encoder_inputs:  [  25   35 1962    0    0    0    0    0    0    0    0    0    0    0    0    0    0    0    0    0]\n",
            "decoder_inputs:  [   2   20  198   59 3319    3    0    0    0    0    0    0    0    0    0    0    0    0    0    0]\n",
            "targets:         [  20  198   59 3319    3    0    0    0    0    0    0    0    0    0    0    0    0    0    0    0]\n"
          ]
        }
      ],
      "source": [
        "eng, deu = train_pairs[0]\n",
        "\n",
        "print(eng)\n",
        "print('                ', eng_vectorization(eng).numpy())\n",
        "print(deu)\n",
        "print('                ', deu_vectorization(deu).numpy())\n",
        "print('---')\n",
        "print('encoder_inputs: ', inputs[\"encoder_inputs\"][0,:].numpy())\n",
        "print('decoder_inputs: ', inputs[\"decoder_inputs\"][0,:].numpy())\n",
        "print('targets:        ', targets[0,:].numpy())\n"
      ]
    },
    {
      "cell_type": "markdown",
      "metadata": {},
      "source": [
        "Shuffle dataset now."
      ]
    },
    {
      "cell_type": "code",
      "execution_count": 12,
      "metadata": {},
      "outputs": [],
      "source": [
        "train_ds = train_ds.shuffle(2048).prefetch(16).cache()\n",
        "val_ds = val_ds.shuffle(2048).prefetch(16).cache()"
      ]
    },
    {
      "cell_type": "markdown",
      "metadata": {
        "id": "Ypzwaq3C3YkV"
      },
      "source": [
        "## Building the model\n",
        "\n",
        "Our sequence-to-sequence Transformer consists of a `TransformerEncoder`\n",
        "and a `TransformerDecoder` chained together. To make the model aware of word order,\n",
        "we also use a `PositionalEmbedding` layer.  \n",
        "\n",
        "The source sequence will be pass to the `TransformerEncoder`,\n",
        "which will produce a new representation of it.\n",
        "This new representation will then be passed\n",
        "to the `TransformerDecoder`, together with the target sequence so far (target words 0 to N).\n",
        "The `TransformerDecoder` will then seek to predict the next words in the target sequence (N+1 and beyond).\n",
        "\n",
        "A key detail that makes this possible is causal masking\n",
        "(see method `get_causal_attention_mask()` on the `TransformerDecoder`).\n",
        "The `TransformerDecoder` sees the entire sequences at once, and thus we must make\n",
        "sure that it only uses information from target tokens 0 to N when predicting token N+1\n",
        "(otherwise, it could use information from the future, which would\n",
        "result in a model that cannot be used at inference time)."
      ]
    },
    {
      "cell_type": "code",
      "execution_count": 13,
      "metadata": {
        "id": "UU2i1z5C3YkW"
      },
      "outputs": [],
      "source": [
        "\n",
        "class TransformerEncoder(layers.Layer):\n",
        "\n",
        "    def __init__(self, embed_dim, dense_dim, num_heads, **kwargs):\n",
        "    \n",
        "        super(TransformerEncoder, self).__init__(**kwargs)\n",
        "\n",
        "        self.embed_dim = embed_dim  \n",
        "        self.dense_dim = dense_dim\n",
        "        self.num_heads = num_heads\n",
        "\n",
        "        self.attention = layers.MultiHeadAttention(num_heads=num_heads, key_dim=embed_dim)\n",
        "        \n",
        "        self.dense_proj = keras.Sequential( [   layers.Dense(dense_dim, activation=\"relu\"),\n",
        "                                                layers.Dense(embed_dim),\n",
        "                                            ])\n",
        "        \n",
        "        self.layernorm_1 = layers.LayerNormalization()\n",
        "        self.layernorm_2 = layers.LayerNormalization()\n",
        "\n",
        "        self.supports_masking = True\n",
        "\n",
        "    def call(self, inputs, mask=None):  # inputs = [64 20 256]\n",
        "\n",
        "        if mask is not None:\n",
        "            padding_mask = tf.cast(mask[:, tf.newaxis, tf.newaxis, :], dtype=\"int32\")\n",
        "\n",
        "        attention_output = self.attention(  query=inputs, \n",
        "                                            value=inputs, \n",
        "                                            key=inputs, \n",
        "                                            attention_mask=padding_mask)\n",
        "\n",
        "        proj_input = self.layernorm_1(inputs + attention_output)\n",
        "        proj_output = self.dense_proj(proj_input)\n",
        "\n",
        "        out = self.layernorm_2(proj_input + proj_output)\n",
        "        # debugging tf.print('TransformerEncoder: ', tf.shape(out))\n",
        "        return out \n",
        "        \n",
        "    def get_config(self):\n",
        "        config = super().get_config()\n",
        "        config.update({\n",
        "            \"embed_dim\": self.embed_dim,\n",
        "            \"dense_dim\": self.dense_dim,\n",
        "            \"num_heads\": self.num_heads,\n",
        "        })\n",
        "        return config\n",
        "\n",
        "\n",
        "class PositionalEmbedding(layers.Layer):\n",
        "\n",
        "    def __init__(self, sequence_length, vocab_size, embed_dim, **kwargs):\n",
        "\n",
        "        super(PositionalEmbedding, self).__init__(**kwargs)\n",
        "\n",
        "        self.token_embeddings = layers.Embedding(input_dim=vocab_size, output_dim=embed_dim)\n",
        "        \n",
        "        self.position_embeddings = layers.Embedding(input_dim=sequence_length, output_dim=embed_dim)\n",
        "\n",
        "        self.sequence_length = sequence_length\n",
        "        self.vocab_size = vocab_size\n",
        "        self.embed_dim = embed_dim\n",
        "\n",
        "    def call(self, inputs):\n",
        "\n",
        "        length = tf.shape(inputs)[-1]\n",
        "        positions = tf.range(start=0, limit=length, delta=1)\n",
        "        embedded_tokens = self.token_embeddings(inputs)\n",
        "        embedded_positions = self.position_embeddings(positions)\n",
        "\n",
        "        return embedded_tokens + embedded_positions\n",
        "\n",
        "    def compute_mask(self, inputs, mask=None):\n",
        "        return tf.math.not_equal(inputs, 0)\n",
        "        \n",
        "    def get_config(self):\n",
        "        config = super().get_config()\n",
        "        config.update({\n",
        "            \"sequence_length\": self.sequence_length,\n",
        "            \"vocab_size\": self.vocab_size,\n",
        "            \"embed_dim\": self.embed_dim,\n",
        "        })\n",
        "        return config\n",
        "\n",
        "\n",
        "class TransformerDecoder(layers.Layer):\n",
        "\n",
        "    def __init__(self, embed_dim, dense_dim, num_heads, **kwargs):\n",
        "\n",
        "        super(TransformerDecoder, self).__init__(**kwargs)\n",
        "        \n",
        "        self.embed_dim = embed_dim\n",
        "        self.dense_dim = dense_dim\n",
        "        self.num_heads = num_heads\n",
        "\n",
        "        self.attention_1 = layers.MultiHeadAttention(num_heads=num_heads, key_dim=embed_dim)\n",
        "\n",
        "        self.attention_2 = layers.MultiHeadAttention(num_heads=num_heads, key_dim=embed_dim)\n",
        "\n",
        "        self.dense_proj = keras.Sequential([    layers.Dense(dense_dim, activation=\"relu\"), \n",
        "                                                layers.Dense(embed_dim),])\n",
        "                                                \n",
        "        self.layernorm_1 = layers.LayerNormalization()\n",
        "        self.layernorm_2 = layers.LayerNormalization()\n",
        "        self.layernorm_3 = layers.LayerNormalization()\n",
        "        self.supports_masking = True\n",
        "\n",
        "    def call(self, inputs, encoder_outputs, mask=None): # inputs = encoder_outputs = [64 20 256]\n",
        "\n",
        "        causal_mask = self.get_causal_attention_mask(inputs)\n",
        "        \n",
        "        tf.print('causal_mask: ', causal_mask)\n",
        "\n",
        "        if mask is not None:\n",
        "            padding_mask = tf.cast(mask[:, tf.newaxis, :], dtype=\"int32\")\n",
        "            padding_mask = tf.minimum(padding_mask, causal_mask)\n",
        "\n",
        "        tf.print('padding_mask: ', padding_mask)\n",
        "\n",
        "        attention_output_1 = self.attention_1(  query=inputs, \n",
        "                                                value=inputs, \n",
        "                                                key=inputs, \n",
        "                                                attention_mask=causal_mask\n",
        "                                             )\n",
        "\n",
        "        out_1 = self.layernorm_1(inputs + attention_output_1)\n",
        "\n",
        "        attention_output_2 = self.attention_2(  query=out_1,\n",
        "                                                value=encoder_outputs,\n",
        "                                                key=encoder_outputs,\n",
        "                                                attention_mask=padding_mask\n",
        "                                             )\n",
        "\n",
        "        out_2 = self.layernorm_2(out_1 + attention_output_2)\n",
        "\n",
        "        proj_output = self.dense_proj(out_2)\n",
        "        return self.layernorm_3(out_2 + proj_output)\n",
        "\n",
        "    def get_causal_attention_mask(self, inputs):\n",
        "        \n",
        "        input_shape = tf.shape(inputs)\n",
        "        batch_size, sequence_length = input_shape[0], input_shape[1]\n",
        "        i = tf.range(sequence_length)[:, tf.newaxis]\n",
        "        j = tf.range(sequence_length)\n",
        "        mask = tf.cast(i >= j, dtype=\"int32\")\n",
        "        mask = tf.reshape(mask, (1, input_shape[1], input_shape[1]))\n",
        "        mult = tf.concat(\n",
        "            [tf.expand_dims(batch_size, -1), tf.constant([1, 1], dtype=tf.int32)],\n",
        "            axis=0,\n",
        "        )\n",
        "        return tf.tile(mask, mult)\n",
        "\n",
        "    def get_config(self):\n",
        "        config = super().get_config()\n",
        "        config.update({\n",
        "            \"embed_dim\": self.embed_dim,\n",
        "            \"dense_dim\": self.dense_dim,\n",
        "            \"num_heads\": self.num_heads,\n",
        "        })\n",
        "        return config\n"
      ]
    },
    {
      "cell_type": "markdown",
      "metadata": {
        "id": "CB0R4Hbp3YkW"
      },
      "source": [
        "Next, we assemble the end-to-end model."
      ]
    },
    {
      "cell_type": "code",
      "execution_count": 14,
      "metadata": {
        "id": "AAN6DWl73YkW"
      },
      "outputs": [],
      "source": [
        "encoder_inputs      = keras.Input(shape=(None,), dtype=\"int64\", name=\"encoder_inputs\")              # (64, 20, 256)\n",
        "x                   = PositionalEmbedding(sequence_length, vocab_size, embed_dim)(encoder_inputs)   # (64, 20, 256)\n",
        "encoder_outputs     = TransformerEncoder(embed_dim, dense_dim, num_heads)(x)                       # (64, 20, 256)\n",
        "\n",
        "encoder             = keras.Model(encoder_inputs, encoder_outputs, name='encoder')\n",
        "\n",
        "decoder_inputs      = keras.Input(shape=(None,), dtype=\"int64\", name=\"decoder_inputs\")\n",
        "encoded_seq_inputs  = keras.Input(shape=(None, embed_dim), name=\"decoder_state_inputs\")\n",
        "x                   = PositionalEmbedding(sequence_length, vocab_size, embed_dim)(decoder_inputs)   # (64, 20, 256)\n",
        "x                   = TransformerDecoder(embed_dim, dense_dim, num_heads)(x, encoded_seq_inputs)   # (64, 20, 256)\n",
        "x                   = layers.Dropout(0.5)(x)\n",
        "decoder_outputs     = layers.Dense(vocab_size, activation=\"softmax\")(x)                             # a probability for each word in the vocabulary\n",
        "                                                                                                    # vocab_size = 15000\n",
        "decoder             = keras.Model([decoder_inputs, encoded_seq_inputs], decoder_outputs, name='decoder')\n",
        "\n",
        "decoder_outputs = decoder([decoder_inputs, encoder_outputs])\n",
        "transformer = keras.Model([encoder_inputs, decoder_inputs], decoder_outputs, name=\"transformer\")"
      ]
    },
    {
      "cell_type": "markdown",
      "metadata": {},
      "source": [
        "Let's make a test run."
      ]
    },
    {
      "cell_type": "code",
      "execution_count": 15,
      "metadata": {},
      "outputs": [
        {
          "name": "stdout",
          "output_type": "stream",
          "text": [
            "causal_mask:  [[[1 0 0 ... 0 0 0]\n",
            "  [1 1 0 ... 0 0 0]\n",
            "  [1 1 1 ... 0 0 0]\n",
            "  ...\n",
            "  [1 1 1 ... 1 0 0]\n",
            "  [1 1 1 ... 1 1 0]\n",
            "  [1 1 1 ... 1 1 1]]\n",
            "\n",
            " [[1 0 0 ... 0 0 0]\n",
            "  [1 1 0 ... 0 0 0]\n",
            "  [1 1 1 ... 0 0 0]\n",
            "  ...\n",
            "  [1 1 1 ... 1 0 0]\n",
            "  [1 1 1 ... 1 1 0]\n",
            "  [1 1 1 ... 1 1 1]]\n",
            "\n",
            " [[1 0 0 ... 0 0 0]\n",
            "  [1 1 0 ... 0 0 0]\n",
            "  [1 1 1 ... 0 0 0]\n",
            "  ...\n",
            "  [1 1 1 ... 1 0 0]\n",
            "  [1 1 1 ... 1 1 0]\n",
            "  [1 1 1 ... 1 1 1]]\n",
            "\n",
            " ...\n",
            "\n",
            " [[1 0 0 ... 0 0 0]\n",
            "  [1 1 0 ... 0 0 0]\n",
            "  [1 1 1 ... 0 0 0]\n",
            "  ...\n",
            "  [1 1 1 ... 1 0 0]\n",
            "  [1 1 1 ... 1 1 0]\n",
            "  [1 1 1 ... 1 1 1]]\n",
            "\n",
            " [[1 0 0 ... 0 0 0]\n",
            "  [1 1 0 ... 0 0 0]\n",
            "  [1 1 1 ... 0 0 0]\n",
            "  ...\n",
            "  [1 1 1 ... 1 0 0]\n",
            "  [1 1 1 ... 1 1 0]\n",
            "  [1 1 1 ... 1 1 1]]\n",
            "\n",
            " [[1 0 0 ... 0 0 0]\n",
            "  [1 1 0 ... 0 0 0]\n",
            "  [1 1 1 ... 0 0 0]\n",
            "  ...\n",
            "  [1 1 1 ... 1 0 0]\n",
            "  [1 1 1 ... 1 1 0]\n",
            "  [1 1 1 ... 1 1 1]]]\n",
            "padding_mask:  [[[1 0 0 ... 0 0 0]\n",
            "  [1 1 0 ... 0 0 0]\n",
            "  [1 1 1 ... 0 0 0]\n",
            "  ...\n",
            "  [1 1 1 ... 0 0 0]\n",
            "  [1 1 1 ... 0 0 0]\n",
            "  [1 1 1 ... 0 0 0]]\n",
            "\n",
            " [[1 0 0 ... 0 0 0]\n",
            "  [1 1 0 ... 0 0 0]\n",
            "  [1 1 1 ... 0 0 0]\n",
            "  ...\n",
            "  [1 1 1 ... 0 0 0]\n",
            "  [1 1 1 ... 0 0 0]\n",
            "  [1 1 1 ... 0 0 0]]\n",
            "\n",
            " [[1 0 0 ... 0 0 0]\n",
            "  [1 1 0 ... 0 0 0]\n",
            "  [1 1 1 ... 0 0 0]\n",
            "  ...\n",
            "  [1 1 1 ... 0 0 0]\n",
            "  [1 1 1 ... 0 0 0]\n",
            "  [1 1 1 ... 0 0 0]]\n",
            "\n",
            " ...\n",
            "\n",
            " [[1 0 0 ... 0 0 0]\n",
            "  [1 1 0 ... 0 0 0]\n",
            "  [1 1 1 ... 0 0 0]\n",
            "  ...\n",
            "  [1 1 1 ... 0 0 0]\n",
            "  [1 1 1 ... 0 0 0]\n",
            "  [1 1 1 ... 0 0 0]]\n",
            "\n",
            " [[1 0 0 ... 0 0 0]\n",
            "  [1 1 0 ... 0 0 0]\n",
            "  [1 1 1 ... 0 0 0]\n",
            "  ...\n",
            "  [1 1 1 ... 0 0 0]\n",
            "  [1 1 1 ... 0 0 0]\n",
            "  [1 1 1 ... 0 0 0]]\n",
            "\n",
            " [[1 0 0 ... 0 0 0]\n",
            "  [1 1 0 ... 0 0 0]\n",
            "  [1 1 1 ... 0 0 0]\n",
            "  ...\n",
            "  [1 1 1 ... 0 0 0]\n",
            "  [1 1 1 ... 0 0 0]\n",
            "  [1 1 1 ... 0 0 0]]]\n",
            "tf.Tensor([   32    20 15000], shape=(3,), dtype=int32)\n"
          ]
        },
        {
          "name": "stderr",
          "output_type": "stream",
          "text": [
            "2022-11-05 16:56:20.245589: I tensorflow/stream_executor/cuda/cuda_dnn.cc:366] Loaded cuDNN version 8202\n"
          ]
        }
      ],
      "source": [
        "output = transformer(inputs)\n",
        "print(tf.shape(output))"
      ]
    },
    {
      "cell_type": "markdown",
      "metadata": {
        "id": "nB2SBp2C3YkW"
      },
      "source": [
        "## Training our model\n",
        "\n",
        "We'll use accuracy as a quick way to monitor training progress on the validation data.\n",
        "Note that machine translation typically uses BLEU scores as well as other metrics, rather than accuracy.\n",
        "\n",
        "Here we only train for 1 epoch, but to get the model to actually converge\n",
        "you should train for at least 30 epochs."
      ]
    },
    {
      "cell_type": "markdown",
      "metadata": {},
      "source": [
        "Some notes to deurse_categorical_crossentropy loss function, see the following links:   \n",
        "   \n",
        "[[Link 1]](https://stackoverflow.com/questions/58565394/what-is-the-difference-between-deurse-categorical-crossentropy-and-categorical-c)   \n",
        "[[Link 2]](https://cwiki.apache.org/confluence/display/MXNET/Multi-hot+deurse+Categorical+Cross-entropy)\n",
        "\n",
        "That means:\n",
        "\n",
        "* Transformer output a vector of size 15000 with probability of German word that corresponds to the translation\n",
        "* However, the target vector is of size 20 (max. word per sentence). How can that match?\n",
        "* Each value in the target vectors represent the index of a word in the vocabulary\n",
        "* The target vector is one-hot encoded and deurse_categorical_crossentropy will compute cross entropy only on the index (words in vocabulary) provided by that vector\n",
        "* Consequently, loss calculation is correct due to the usage of deurse_categorical_crossentropy\n"
      ]
    },
    {
      "cell_type": "code",
      "execution_count": 16,
      "metadata": {
        "id": "KbPjT94A3YkW"
      },
      "outputs": [
        {
          "name": "stdout",
          "output_type": "stream",
          "text": [
            "Model: \"transformer\"\n",
            "__________________________________________________________________________________________________\n",
            " Layer (type)                   Output Shape         Param #     Connected to                     \n",
            "==================================================================================================\n",
            " encoder_inputs (InputLayer)    [(None, None)]       0           []                               \n",
            "                                                                                                  \n",
            " positional_embedding (Position  (None, None, 256)   3845120     ['encoder_inputs[0][0]']         \n",
            " alEmbedding)                                                                                     \n",
            "                                                                                                  \n",
            " decoder_inputs (InputLayer)    [(None, None)]       0           []                               \n",
            "                                                                                                  \n",
            " transformer_encoder (Transform  (None, None, 256)   5256704     ['positional_embedding[0][0]']   \n",
            " erEncoder)                                                                                       \n",
            "                                                                                                  \n",
            " decoder (Functional)           (None, None, 15000)  15060888    ['decoder_inputs[0][0]',         \n",
            "                                                                  'transformer_encoder[0][0]']    \n",
            "                                                                                                  \n",
            "==================================================================================================\n",
            "Total params: 24,162,712\n",
            "Trainable params: 24,162,712\n",
            "Non-trainable params: 0\n",
            "__________________________________________________________________________________________________\n"
          ]
        }
      ],
      "source": [
        "epochs = 30  # This should be at least 30 for convergence\n",
        "\n",
        "transformer.summary()\n",
        "transformer.compile(    \"rmsprop\", \n",
        "                        loss=\"sparse_categorical_crossentropy\", \n",
        "                        metrics=[\"accuracy\"])"
      ]
    },
    {
      "cell_type": "markdown",
      "metadata": {},
      "source": [
        "Let's visualize that."
      ]
    },
    {
      "cell_type": "code",
      "execution_count": 17,
      "metadata": {},
      "outputs": [
        {
          "data": {
            "image/png": "[encoded data removed]",
            "text/plain": [
              "<IPython.core.display.Image object>"
            ]
          },
          "execution_count": 17,
          "metadata": {},
          "output_type": "execute_result"
        }
      ],
      "source": [
        "keras.utils.plot_model(transformer, show_shapes=True)"
      ]
    },
    {
      "cell_type": "code",
      "execution_count": null,
      "metadata": {},
      "outputs": [],
      "source": [
        "if True:\n",
        "    transformer.fit(train_ds, epochs=epochs, validation_data=val_ds)\n",
        "else:\n",
        "    transformer = keras.models.load_model('en-es-translator')"
      ]
    },
    {
      "cell_type": "code",
      "execution_count": null,
      "metadata": {},
      "outputs": [],
      "source": [
        "transformer.save('en-de-translator');"
      ]
    },
    {
      "cell_type": "markdown",
      "metadata": {
        "id": "2fDeApqi3YkX"
      },
      "source": [
        "## Decoding test sentences\n",
        "\n",
        "Finally, let's demonstrate how to translate brand new English sentences.\n",
        "We simply feed into the model the vectorized English sentence\n",
        "as well as the target token `\"[start]\"`, then we repeatedly generated the next token, until\n",
        "we hit the token `\"[end]\"`."
      ]
    },
    {
      "cell_type": "code",
      "execution_count": null,
      "metadata": {
        "id": "ZM9VlDJv3YkX"
      },
      "outputs": [],
      "source": [
        "deu_vocab = deu_vectorization.get_vocabulary()\n",
        "deu_index_lookup = dict(zip(range(len(deu_vocab)), deu_vocab))\n",
        "max_decoded_sentence_length = 20\n",
        "\n",
        "\n",
        "def decode_sequence(input_sentence):\n",
        "    \n",
        "    tokenized_input_sentence = eng_vectorization([input_sentence]) # input_sequence = 'Tom put gas in the car.'\n",
        "    decoded_sentence = \"[start]\"\n",
        "\n",
        "    for i in range(max_decoded_sentence_length):\n",
        "    \n",
        "        tokenized_target_sentence = deu_vectorization([decoded_sentence])[:, :-1]\n",
        "        predictions = transformer([tokenized_input_sentence, tokenized_target_sentence])\n",
        "\n",
        "        sampled_token_index = np.argmax(predictions[0, i, :])\n",
        "        sampled_token = deu_index_lookup[sampled_token_index]\n",
        "        decoded_sentence += \" \" + sampled_token\n",
        "\n",
        "        if sampled_token == \"[end]\":\n",
        "            break\n",
        "    \n",
        "    return decoded_sentence"
      ]
    },
    {
      "cell_type": "markdown",
      "metadata": {},
      "source": [
        "Lets translate 30 sentences from the test set. If you receive [UNK] means unknown word, token is not present in the vocabulary. Increase hidden states."
      ]
    },
    {
      "cell_type": "code",
      "execution_count": null,
      "metadata": {},
      "outputs": [],
      "source": [
        "# get english text from the test set\n",
        "test_eng_texts = [pair[0] for pair in test_pairs]\n",
        "\n",
        "for _ in range(10):\n",
        "    \n",
        "    # choose some text randomly\n",
        "    input_sentence = random.choice(test_eng_texts)\n",
        "    my_translation = decode_sequence(input_sentence)\n",
        "\n",
        "    # use google translator\n",
        "    google_translation = GoogleTranslator(source='en', target='de').translate(input_sentence) \n",
        "\n",
        "    print(  input_sentence, \n",
        "            '\\n\\tMine:',    my_translation.replace('[start]', '').replace('[end]', ''), \n",
        "            'Google:',  google_translation)"
      ]
    },
    {
      "cell_type": "markdown",
      "metadata": {},
      "source": []
    }
  ],
  "metadata": {
    "colab": {
      "collapsed_sections": [],
      "name": "neural_machine_translation_with_transformer",
      "provenance": [],
      "toc_visible": true
    },
    "kernelspec": {
      "display_name": "Python 3.8.11 ('mli')",
      "language": "python",
      "name": "python3"
    },
    "language_info": {
      "codemirror_mode": {
        "name": "ipython",
        "version": 3
      },
      "file_extension": ".py",
      "mimetype": "text/x-python",
      "name": "python",
      "nbconvert_exporter": "python",
      "pygments_lexer": "ipython3",
      "version": "3.8.11"
    },
    "vscode": {
      "interpreter": {
        "hash": "4d0dac48f5d9b27e45995153baafec01158dfff2c0bb1df66c2c7c47f74320c7"
      }
    }
  },
  "nbformat": 4,
  "nbformat_minor": 0
}
