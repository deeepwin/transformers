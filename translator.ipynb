{
  "cells": [
    {
      "cell_type": "markdown",
      "metadata": {
        "id": "N2njQC0n3YkL"
      },
      "source": [
        "# English-to-German translation with a sequence-to-sequence Transformer\n",
        "\n",
        "**Author:** Deeepwin, [fchollet](https://twitter.com/fchollet), <br>\n",
        "**Date created:** 2021/05/26<br>\n",
        "**Last modified:** 2022/11/05<br>\n",
        "**Description:** Implementing a sequence-to-sequene Transformer and training it on a machine translation task."
      ]
    },
    {
      "cell_type": "markdown",
      "metadata": {
        "id": "lw7HtWh63YkN"
      },
      "source": [
        "## Introduction\n",
        "\n",
        "In this example, we'll build a sequence-to-sequence Transformer model, which\n",
        "we'll train on an English-to-German machine translation task.\n",
        "\n",
        "You'll learn how to:\n",
        "\n",
        "- Vectorize text using the Keras `TextVectorization` layer.\n",
        "- Implement a `TransformerEncoder` layer, a `TransformerDecoder` layer,\n",
        "and a `PositionalEmbedding` layer.\n",
        "- Prepare data for training a sequence-to-sequence model.\n",
        "- Use the trained model to generate translations of never-seen-before\n",
        "input sentences (sequence-to-sequence inference).\n",
        "\n",
        "The code featured here is adapted from the book\n",
        "[Deep Learning with Python, Second Edition](https://www.manning.com/books/deep-learning-with-python-second-edition)\n",
        "(chapter 11: Deep learning for text).\n",
        "The present example is fairly barebones, so for detailed explanations of\n",
        "how each building block works, as well as the theory behind Transformers,\n",
        "I recommend reading the book."
      ]
    },
    {
      "cell_type": "markdown",
      "metadata": {
        "id": "q-1Gmy6c3YkO"
      },
      "source": [
        "## Setup"
      ]
    },
    {
      "cell_type": "code",
      "execution_count": 95,
      "metadata": {
        "id": "N5yHomr53YkP"
      },
      "outputs": [],
      "source": [
        "import pathlib\n",
        "import random\n",
        "import string\n",
        "import re\n",
        "import numpy as np\n",
        "import tensorflow as tf\n",
        "from tensorflow import keras\n",
        "from tensorflow.keras import layers\n",
        "from tensorflow.keras.layers import TextVectorization\n",
        "from deep_translator import GoogleTranslator"
      ]
    },
    {
      "cell_type": "code",
      "execution_count": 96,
      "metadata": {},
      "outputs": [],
      "source": [
        "np.set_printoptions(linewidth=160)"
      ]
    },
    {
      "cell_type": "markdown",
      "metadata": {
        "id": "dpvQJvc53YkP"
      },
      "source": [
        "## Downloading the data\n",
        "\n",
        "We'll be working with an English-to-GErman translation dataset\n",
        "provided by [Anki](https://www.manythings.org/anki/). Let's download it:"
      ]
    },
    {
      "cell_type": "code",
      "execution_count": 116,
      "metadata": {},
      "outputs": [
        {
          "data": {
            "text/plain": [
              "'/home/martin/GitHub/transformers/deu.txt'"
            ]
          },
          "execution_count": 116,
          "metadata": {},
          "output_type": "execute_result"
        }
      ],
      "source": [
        "import requests\n",
        "from zipfile import ZipFile\n",
        "\n",
        "zip_file   = 'deu-eng.zip'\n",
        "\n",
        "url         = 'https://www.manythings.org/anki/' + zip_file\n",
        "headers     = {'User-Agent': 'Mozilla/5.0 (Macintosh; Intel Mac OS X 10_10_1) AppleWebKit/537.36 (KHTML, like Gecko) Chrome/39.0.2171.95 Safari/537.36'}\n",
        "\n",
        "r = requests.get(url, headers=headers)\n",
        "\n",
        "open('deu-eng.zip', 'wb').write(r.content)\n",
        "\n",
        "deu_eng_zip = ZipFile(zip_file, 'r')\n",
        "deu_eng_zip.extract(\"deu.txt\")"
      ]
    },
    {
      "cell_type": "markdown",
      "metadata": {
        "id": "HNIT_zyL3YkQ"
      },
      "source": [
        "## Parsing the data\n",
        "\n",
        "Each line contains an English sentence and its corresponding German sentence.\n",
        "The English sentence is the *source sequence* and German one is the *target sequence*.\n",
        "We prepend the token `\"[start]\"` and we append the token `\"[end]\"` to the German sentence."
      ]
    },
    {
      "cell_type": "code",
      "execution_count": 119,
      "metadata": {
        "id": "dxG3GanZ3YkQ"
      },
      "outputs": [],
      "source": [
        "with open(\"deu.txt\") as f:\n",
        "    lines = f.read().split(\"\\n\")[:-1]\n",
        "text_pairs = []\n",
        "for line in lines:\n",
        "    eng, deu, _ = line.split(\"\\t\")\n",
        "    deu = \"[start] \" + deu + \" [end]\"\n",
        "    text_pairs.append((eng, deu))"
      ]
    },
    {
      "cell_type": "markdown",
      "metadata": {
        "id": "xHyKoVr73YkR"
      },
      "source": [
        "Here's what our sentence pairs look like:"
      ]
    },
    {
      "cell_type": "code",
      "execution_count": 120,
      "metadata": {
        "id": "0H5h8oO43YkS"
      },
      "outputs": [
        {
          "name": "stdout",
          "output_type": "stream",
          "text": [
            "(\"Where's the ticket counter?\", '[start] Wo ist der Fahrkartenschalter? [end]')\n",
            "(\"Mary can't make ends meet on her pension. That's why she works half-days as a cleaning lady in a restaurant.\", '[start] Maria kommt mit ihrer Rente nicht über die Runden. Deshalb arbeitet sie halbtags als Putzfrau in einem Restaurant. [end]')\n",
            "('There are dozens of letters waiting for you.', '[start] Dutzende von Briefen warten auf dich. [end]')\n",
            "(\"I've heard a lot about you.\", '[start] Ich habe viel von dir gehört. [end]')\n",
            "('Tom has already been warned several times.', '[start] Tom ist bereits mehrere Male verwarnt worden. [end]')\n"
          ]
        }
      ],
      "source": [
        "for _ in range(5):\n",
        "    print(random.choice(text_pairs))"
      ]
    },
    {
      "cell_type": "markdown",
      "metadata": {
        "id": "dVAVkf_R3YkS"
      },
      "source": [
        "Now, let's split the sentence pairs into a training set, a validation set,\n",
        "and a test set."
      ]
    },
    {
      "cell_type": "code",
      "execution_count": 122,
      "metadata": {
        "id": "HHW8esFP3YkT"
      },
      "outputs": [
        {
          "name": "stdout",
          "output_type": "stream",
          "text": [
            "255817 total pairs\n",
            "179073 training pairs\n",
            "38372 validation pairs\n",
            "38372 test pairs\n"
          ]
        }
      ],
      "source": [
        "random.shuffle(text_pairs)\n",
        "\n",
        "num_val_samples     = int(0.15 * len(text_pairs))\n",
        "num_train_samples   = len(text_pairs) - 2 * num_val_samples\n",
        "\n",
        "\n",
        "train_pairs     = text_pairs[:num_train_samples]\n",
        "val_pairs       = text_pairs[num_train_samples : num_train_samples + num_val_samples]\n",
        "test_pairs      = text_pairs[num_train_samples + num_val_samples :]\n",
        "\n",
        "print(f\"{len(text_pairs)} total pairs\")\n",
        "print(f\"{len(train_pairs)} training pairs\")\n",
        "print(f\"{len(val_pairs)} validation pairs\")\n",
        "print(f\"{len(test_pairs)} test pairs\")"
      ]
    },
    {
      "cell_type": "markdown",
      "metadata": {
        "id": "OiHkaU4W3YkT"
      },
      "source": [
        "## Vectorizing the text data\n",
        "\n",
        "We'll use two instances of the `TextVectorization` layer to vectorize the text\n",
        "data (one for English and one for German),\n",
        "that is to say,   \n",
        "\n",
        "      to turn the original strings into integer sequences where each integer represents the index of a word in a vocabulary.\n",
        "\n",
        "Note: in a production-grade machine translation model, I would not recommend stripping the punctuation characters in either language. Instead, I would recommend turning\n",
        "each punctuation character into its own token, which you could achieve by providing a custom `split` function to the `TextVectorization` layer."
      ]
    },
    {
      "cell_type": "code",
      "execution_count": 123,
      "metadata": {
        "id": "058V3L453YkU"
      },
      "outputs": [],
      "source": [
        "strip_chars = string.punctuation\n",
        "strip_chars = strip_chars.replace(\"[\", \"\")\n",
        "strip_chars = strip_chars.replace(\"]\", \"\")\n",
        "\n",
        "vocab_size      = 15000\n",
        "sequence_length = 20\n",
        "batch_size      = 64\n",
        "\n",
        "\n",
        "def custom_standardization(input_string):\n",
        "    lowercase = tf.strings.lower(input_string)\n",
        "    return tf.strings.regex_replace(lowercase, \"[%s]\" % re.escape(strip_chars), \"\")\n",
        "\n",
        "\n",
        "eng_vectorization = TextVectorization(\n",
        "    max_tokens=vocab_size, output_mode=\"int\", output_sequence_length=sequence_length,\n",
        ")\n",
        "deu_vectorization = TextVectorization(\n",
        "    max_tokens=vocab_size,\n",
        "    output_mode=\"int\",\n",
        "    output_sequence_length=sequence_length + 1,\n",
        "    standardize=custom_standardization,\n",
        ")\n",
        "train_eng_texts = [pair[0] for pair in train_pairs]\n",
        "train_deu_texts = [pair[1] for pair in train_pairs]\n",
        "eng_vectorization.adapt(train_eng_texts)\n",
        "deu_vectorization.adapt(train_deu_texts)"
      ]
    },
    {
      "cell_type": "markdown",
      "metadata": {
        "id": "Vv5eX6Bi3YkU"
      },
      "source": [
        "Next, we'll format our datasets.\n",
        "\n",
        "At each training step, the model will seek to predict target words N+1 (and beyond)\n",
        "using the source sentence and the target words 0 to N.\n",
        "\n",
        "As such, the training dataset will yield a tuple `(inputs, targets)`, where:\n",
        "\n",
        "- `inputs` is a dictionary with the keys `encoder_inputs` and `decoder_inputs`.   \n",
        "   \n",
        "  `encoder_inputs` is the vectorized source sentence and   \n",
        "  `encoder_inputs` is the target sentence \"so far\",\n",
        "that is to say, the words 0 to N used to predict word N+1 (and beyond) in the target sentence.\n",
        "- `target` is the target sentence offset by one step:\n",
        "it provides the next words in the target sentence -- what the model will try to predict."
      ]
    },
    {
      "cell_type": "code",
      "execution_count": 124,
      "metadata": {
        "id": "DhCQiqpm3YkV"
      },
      "outputs": [],
      "source": [
        "\n",
        "def format_dataset(eng, deu):\n",
        "    eng = eng_vectorization(eng)\n",
        "    deu = deu_vectorization(deu)\n",
        "    return ({\"encoder_inputs\": eng, \"decoder_inputs\": deu[:, :-1],}, deu[:, 1:])\n",
        "\n",
        "\n",
        "def make_dataset(pairs):\n",
        "    eng_texts, deu_texts = zip(*pairs)\n",
        "    eng_texts = list(eng_texts) # list with 83276 english sentences\n",
        "    deu_texts = list(deu_texts) # same but in German\n",
        "    dataset = tf.data.Dataset.from_tensor_slices((eng_texts, deu_texts))\n",
        "    dataset = dataset.batch(batch_size)\n",
        "    dataset = dataset.map(format_dataset)\n",
        "    return dataset\n",
        "\n",
        "train_ds = make_dataset(train_pairs)\n",
        "val_ds = make_dataset(val_pairs)"
      ]
    },
    {
      "cell_type": "markdown",
      "metadata": {
        "id": "OsH6BUZp3YkV"
      },
      "source": [
        "Let's take a quick look at the sequence shapes\n",
        "(we have batches of 64 pairs, and all sequences are 20 steps long):"
      ]
    },
    {
      "cell_type": "code",
      "execution_count": 125,
      "metadata": {
        "id": "1sEm5ey23YkV"
      },
      "outputs": [
        {
          "name": "stdout",
          "output_type": "stream",
          "text": [
            "inputs[\"encoder_inputs\"].shape: (64, 20)\n",
            "inputs[\"decoder_inputs\"].shape: (64, 20)\n",
            "targets.shape: (64, 20)\n"
          ]
        }
      ],
      "source": [
        "for inputs, targets in train_ds.take(1):\n",
        "    print(f'inputs[\"encoder_inputs\"].shape: {inputs[\"encoder_inputs\"].shape}')\n",
        "    print(f'inputs[\"decoder_inputs\"].shape: {inputs[\"decoder_inputs\"].shape}')\n",
        "    print(f\"targets.shape: {targets.shape}\")"
      ]
    },
    {
      "cell_type": "markdown",
      "metadata": {},
      "source": [
        "Let's have a more detailed look on first batch:"
      ]
    },
    {
      "cell_type": "code",
      "execution_count": 126,
      "metadata": {},
      "outputs": [
        {
          "name": "stdout",
          "output_type": "stream",
          "text": [
            "You work hard.\n",
            "                 [  5 120 230   0   0   0   0   0   0   0   0   0   0   0   0   0   0   0   0   0]\n",
            "[start] Ihr arbeitet schwer. [end]\n",
            "                 [  2  34 447 277   3   0   0   0   0   0   0   0   0   0   0   0   0   0   0   0   0]\n",
            "---\n",
            "encoder_inputs:  [  5 120 230   0   0   0   0   0   0   0   0   0   0   0   0   0   0   0   0   0]\n",
            "decoder_inputs:  [  2  34 447 277   3   0   0   0   0   0   0   0   0   0   0   0   0   0   0   0]\n",
            "targets:         [ 34 447 277   3   0   0   0   0   0   0   0   0   0   0   0   0   0   0   0   0]\n"
          ]
        }
      ],
      "source": [
        "eng, deu = train_pairs[0]\n",
        "\n",
        "print(eng)\n",
        "print('                ', eng_vectorization(eng).numpy())\n",
        "print(deu)\n",
        "print('                ', deu_vectorization(deu).numpy())\n",
        "print('---')\n",
        "print('encoder_inputs: ', inputs[\"encoder_inputs\"][0,:].numpy())\n",
        "print('decoder_inputs: ', inputs[\"decoder_inputs\"][0,:].numpy())\n",
        "print('targets:        ', targets[0,:].numpy())\n"
      ]
    },
    {
      "cell_type": "markdown",
      "metadata": {},
      "source": [
        "Shuffle dataset now."
      ]
    },
    {
      "cell_type": "code",
      "execution_count": 127,
      "metadata": {},
      "outputs": [],
      "source": [
        "train_ds = train_ds.shuffle(2048).prefetch(16).cache()\n",
        "val_ds = val_ds.shuffle(2048).prefetch(16).cache()"
      ]
    },
    {
      "cell_type": "markdown",
      "metadata": {
        "id": "Ypzwaq3C3YkV"
      },
      "source": [
        "## Building the model\n",
        "\n",
        "Our sequence-to-sequence Transformer consists of a `TransformerEncoder`\n",
        "and a `TransformerDecoder` chained together. To make the model aware of word order,\n",
        "we also use a `PositionalEmbedding` layer.  \n",
        "\n",
        "The source sequence will be pass to the `TransformerEncoder`,\n",
        "which will produce a new representation of it.\n",
        "This new representation will then be passed\n",
        "to the `TransformerDecoder`, together with the target sequence so far (target words 0 to N).\n",
        "The `TransformerDecoder` will then seek to predict the next words in the target sequence (N+1 and beyond).\n",
        "\n",
        "A key detail that makes this possible is causal masking\n",
        "(see method `get_causal_attention_mask()` on the `TransformerDecoder`).\n",
        "The `TransformerDecoder` sees the entire sequences at once, and thus we must make\n",
        "sure that it only uses information from target tokens 0 to N when predicting token N+1\n",
        "(otherwise, it could use information from the future, which would\n",
        "result in a model that cannot be used at inference time)."
      ]
    },
    {
      "cell_type": "code",
      "execution_count": 128,
      "metadata": {
        "id": "UU2i1z5C3YkW"
      },
      "outputs": [],
      "source": [
        "\n",
        "class TransformerEncoder(layers.Layer):\n",
        "    def __init__(self, embed_dim, dense_dim, num_heads, **kwargs):\n",
        "        super(TransformerEncoder, self).__init__(**kwargs)\n",
        "\n",
        "        self.embed_dim = embed_dim  \n",
        "        self.dense_dim = dense_dim\n",
        "        self.num_heads = num_heads\n",
        "\n",
        "        self.attention = layers.MultiHeadAttention(num_heads=num_heads, key_dim=embed_dim)\n",
        "        \n",
        "        self.dense_proj = keras.Sequential( [   layers.Dense(dense_dim, activation=\"relu\"),\n",
        "                                                layers.Dense(embed_dim),\n",
        "                                            ])\n",
        "        \n",
        "        self.layernorm_1 = layers.LayerNormalization()\n",
        "        self.layernorm_2 = layers.LayerNormalization()\n",
        "        self.supports_masking = True\n",
        "\n",
        "    def call(self, inputs, mask=None):  # inputs = [64 20 256]\n",
        "\n",
        "        if mask is not None:\n",
        "            padding_mask = tf.cast(mask[:, tf.newaxis, tf.newaxis, :], dtype=\"int32\")\n",
        "\n",
        "        attention_output = self.attention(query=inputs, value=inputs, key=inputs, attention_mask=padding_mask)\n",
        "\n",
        "        proj_input = self.layernorm_1(inputs + attention_output)\n",
        "        proj_output = self.dense_proj(proj_input)\n",
        "\n",
        "        out = self.layernorm_2(proj_input + proj_output)\n",
        "        # debugging tf.print('TransformerEncoder: ', tf.shape(out))\n",
        "        return out \n",
        "        \n",
        "    def get_config(self):\n",
        "        config = super().get_config()\n",
        "        config.update({\n",
        "            \"embed_dim\": self.embed_dim,\n",
        "            \"dense_dim\": self.dense_dim,\n",
        "            \"num_heads\": self.num_heads,\n",
        "        })\n",
        "        return config\n",
        "\n",
        "\n",
        "class PositionalEmbedding(layers.Layer):\n",
        "    def __init__(self, sequence_length, vocab_size, embed_dim, **kwargs):\n",
        "        super(PositionalEmbedding, self).__init__(**kwargs)\n",
        "        self.token_embeddings = layers.Embedding(input_dim=vocab_size, output_dim=embed_dim)\n",
        "        \n",
        "        self.position_embeddings = layers.Embedding(input_dim=sequence_length, output_dim=embed_dim)\n",
        "\n",
        "        self.sequence_length = sequence_length\n",
        "        self.vocab_size = vocab_size\n",
        "        self.embed_dim = embed_dim\n",
        "\n",
        "    def call(self, inputs):\n",
        "        length = tf.shape(inputs)[-1]\n",
        "        positions = tf.range(start=0, limit=length, delta=1)\n",
        "        embedded_tokens = self.token_embeddings(inputs)\n",
        "        embedded_positions = self.position_embeddings(positions)\n",
        "\n",
        "        return embedded_tokens + embedded_positions\n",
        "\n",
        "    def compute_mask(self, inputs, mask=None):\n",
        "        return tf.math.not_equal(inputs, 0)\n",
        "    def get_config(self):\n",
        "        config = super().get_config()\n",
        "        config.update({\n",
        "            \"sequence_length\": self.sequence_length,\n",
        "            \"vocab_size\": self.vocab_size,\n",
        "            \"embed_dim\": self.embed_dim,\n",
        "        })\n",
        "        return config\n",
        "\n",
        "\n",
        "class TransformerDecoder(layers.Layer):\n",
        "    def __init__(self, embed_dim, latent_dim, num_heads, **kwargs):\n",
        "\n",
        "        super(TransformerDecoder, self).__init__(**kwargs)\n",
        "        \n",
        "        self.embed_dim = embed_dim\n",
        "        self.latent_dim = latent_dim\n",
        "        self.num_heads = num_heads\n",
        "\n",
        "        self.attention_1 = layers.MultiHeadAttention(num_heads=num_heads, key_dim=embed_dim)\n",
        "\n",
        "        self.attention_2 = layers.MultiHeadAttention(num_heads=num_heads, key_dim=embed_dim)\n",
        "\n",
        "        self.dense_proj = keras.Sequential([    layers.Dense(latent_dim, activation=\"relu\"), \n",
        "                                                layers.Dense(embed_dim),])\n",
        "                                                \n",
        "        self.layernorm_1 = layers.LayerNormalization()\n",
        "        self.layernorm_2 = layers.LayerNormalization()\n",
        "        self.layernorm_3 = layers.LayerNormalization()\n",
        "        self.supports_masking = True\n",
        "\n",
        "    def call(self, inputs, encoder_outputs, mask=None): # inputs = encoder_outputs = [64 20 256]\n",
        "\n",
        "        causal_mask = self.get_causal_attention_mask(inputs)\n",
        "        \n",
        "        if mask is not None:\n",
        "            padding_mask = tf.cast(mask[:, tf.newaxis, :], dtype=\"int32\")\n",
        "            padding_mask = tf.minimum(padding_mask, causal_mask)\n",
        "\n",
        "        attention_output_1 = self.attention_1(\n",
        "            query=inputs, value=inputs, key=inputs, attention_mask=causal_mask\n",
        "        )\n",
        "        out_1 = self.layernorm_1(inputs + attention_output_1)\n",
        "\n",
        "        attention_output_2 = self.attention_2(\n",
        "            query=out_1,\n",
        "            value=encoder_outputs,\n",
        "            key=encoder_outputs,\n",
        "            attention_mask=padding_mask,\n",
        "        )\n",
        "        out_2 = self.layernorm_2(out_1 + attention_output_2)\n",
        "\n",
        "        proj_output = self.dense_proj(out_2)\n",
        "        return self.layernorm_3(out_2 + proj_output)\n",
        "\n",
        "    def get_causal_attention_mask(self, inputs):\n",
        "        input_shape = tf.shape(inputs)\n",
        "        batch_size, sequence_length = input_shape[0], input_shape[1]\n",
        "        i = tf.range(sequence_length)[:, tf.newaxis]\n",
        "        j = tf.range(sequence_length)\n",
        "        mask = tf.cast(i >= j, dtype=\"int32\")\n",
        "        mask = tf.reshape(mask, (1, input_shape[1], input_shape[1]))\n",
        "        mult = tf.concat(\n",
        "            [tf.expand_dims(batch_size, -1), tf.constant([1, 1], dtype=tf.int32)],\n",
        "            axis=0,\n",
        "        )\n",
        "        return tf.tile(mask, mult)\n",
        "    def get_config(self):\n",
        "        config = super().get_config()\n",
        "        config.update({\n",
        "            \"embed_dim\": self.embed_dim,\n",
        "            \"latent_dim\": self.latent_dim,\n",
        "            \"num_heads\": self.num_heads,\n",
        "        })\n",
        "        return config\n"
      ]
    },
    {
      "cell_type": "markdown",
      "metadata": {
        "id": "CB0R4Hbp3YkW"
      },
      "source": [
        "Next, we assemble the end-to-end model."
      ]
    },
    {
      "cell_type": "code",
      "execution_count": 129,
      "metadata": {
        "id": "AAN6DWl73YkW"
      },
      "outputs": [],
      "source": [
        "embed_dim           = 256\n",
        "latent_dim          = (3* 2048)\n",
        "num_heads           = 8\n",
        "\n",
        "encoder_inputs      = keras.Input(shape=(None,), dtype=\"int64\", name=\"encoder_inputs\")              # (64, 20, 256)\n",
        "x                   = PositionalEmbedding(sequence_length, vocab_size, embed_dim)(encoder_inputs)   # (64, 20, 256)\n",
        "encoder_outputs     = TransformerEncoder(embed_dim, latent_dim, num_heads)(x)                       # (64, 20, 256)\n",
        "\n",
        "encoder             = keras.Model(encoder_inputs, encoder_outputs, name='encoder')\n",
        "\n",
        "decoder_inputs      = keras.Input(shape=(None,), dtype=\"int64\", name=\"decoder_inputs\")\n",
        "encoded_seq_inputs  = keras.Input(shape=(None, embed_dim), name=\"decoder_state_inputs\")\n",
        "x                   = PositionalEmbedding(sequence_length, vocab_size, embed_dim)(decoder_inputs)   # (64, 20, 256)\n",
        "x                   = TransformerDecoder(embed_dim, latent_dim, num_heads)(x, encoded_seq_inputs)   # (64, 20, 256)\n",
        "x                   = layers.Dropout(0.5)(x)\n",
        "decoder_outputs     = layers.Dense(vocab_size, activation=\"softmax\")(x)                             # a probability for each word in the vocabulary\n",
        "                                                                                                    # vocab_size = 15000\n",
        "decoder             = keras.Model([decoder_inputs, encoded_seq_inputs], decoder_outputs, name='decoder')\n",
        "\n",
        "decoder_outputs = decoder([decoder_inputs, encoder_outputs])\n",
        "transformer = keras.Model([encoder_inputs, decoder_inputs], decoder_outputs, name=\"transformer\")"
      ]
    },
    {
      "cell_type": "markdown",
      "metadata": {},
      "source": [
        "Let's make a test run."
      ]
    },
    {
      "cell_type": "code",
      "execution_count": 130,
      "metadata": {},
      "outputs": [
        {
          "name": "stdout",
          "output_type": "stream",
          "text": [
            "tf.Tensor([   64    20 15000], shape=(3,), dtype=int32)\n"
          ]
        }
      ],
      "source": [
        "output = transformer(inputs)\n",
        "print(tf.shape(output))"
      ]
    },
    {
      "cell_type": "markdown",
      "metadata": {
        "id": "nB2SBp2C3YkW"
      },
      "source": [
        "## Training our model\n",
        "\n",
        "We'll use accuracy as a quick way to monitor training progress on the validation data.\n",
        "Note that machine translation typically uses BLEU scores as well as other metrics, rather than accuracy.\n",
        "\n",
        "Here we only train for 1 epoch, but to get the model to actually converge\n",
        "you should train for at least 30 epochs."
      ]
    },
    {
      "cell_type": "markdown",
      "metadata": {},
      "source": [
        "Some notes to deurse_categorical_crossentropy loss function, see the following links:   \n",
        "   \n",
        "[[Link 1]](https://stackoverflow.com/questions/58565394/what-is-the-difference-between-deurse-categorical-crossentropy-and-categorical-c)   \n",
        "[[Link 2]](https://cwiki.apache.org/confluence/display/MXNET/Multi-hot+deurse+Categorical+Cross-entropy)\n",
        "\n",
        "That means:\n",
        "\n",
        "* Transformer output a vector of size 15000 with probability of German word that corresponds to the translation\n",
        "* However, the target vector is of size 20 (max. word per sentence). How can that match?\n",
        "* Each value in the target vectors represent the index of a word in the vocabulary\n",
        "* The target vector is one-hot encoded and deurse_categorical_crossentropy will compute cross entropy only on the index (words in vocabulary) provided by that vector\n",
        "* Consequently, loss calculation is correct due to the usage of deurse_categorical_crossentropy\n"
      ]
    },
    {
      "cell_type": "code",
      "execution_count": 134,
      "metadata": {
        "id": "KbPjT94A3YkW"
      },
      "outputs": [
        {
          "name": "stdout",
          "output_type": "stream",
          "text": [
            "Model: \"transformer\"\n",
            "__________________________________________________________________________________________________\n",
            " Layer (type)                   Output Shape         Param #     Connected to                     \n",
            "==================================================================================================\n",
            " encoder_inputs (InputLayer)    [(None, None)]       0           []                               \n",
            "                                                                                                  \n",
            " positional_embedding_6 (Positi  (None, None, 256)   3845120     ['encoder_inputs[0][0]']         \n",
            " onalEmbedding)                                                                                   \n",
            "                                                                                                  \n",
            " decoder_inputs (InputLayer)    [(None, None)]       0           []                               \n",
            "                                                                                                  \n",
            " transformer_encoder_3 (Transfo  (None, None, 256)   3155456     ['positional_embedding_6[0][0]'] \n",
            " rmerEncoder)                                                                                     \n",
            "                                                                                                  \n",
            " decoder (Functional)           (None, None, 15000)  12959640    ['decoder_inputs[0][0]',         \n",
            "                                                                  'transformer_encoder_3[0][0]']  \n",
            "                                                                                                  \n",
            "==================================================================================================\n",
            "Total params: 19,960,216\n",
            "Trainable params: 19,960,216\n",
            "Non-trainable params: 0\n",
            "__________________________________________________________________________________________________\n"
          ]
        }
      ],
      "source": [
        "epochs = 30  # This should be at least 30 for convergence\n",
        "\n",
        "transformer.summary()\n",
        "transformer.compile(    \"rmsprop\", \n",
        "                        loss=\"sparse_categorical_crossentropy\", \n",
        "                        metrics=[\"accuracy\"]\n",
        ")"
      ]
    },
    {
      "cell_type": "markdown",
      "metadata": {},
      "source": [
        "Let's visualize that."
      ]
    },
    {
      "cell_type": "code",
      "execution_count": 135,
      "metadata": {},
      "outputs": [
        {
          "data": {
            "image/png": "[encoded data removed]",
            "text/plain": [
              "<IPython.core.display.Image object>"
            ]
          },
          "execution_count": 135,
          "metadata": {},
          "output_type": "execute_result"
        }
      ],
      "source": [
        "keras.utils.plot_model(transformer, show_shapes=True)"
      ]
    },
    {
      "cell_type": "code",
      "execution_count": 136,
      "metadata": {},
      "outputs": [
        {
          "name": "stdout",
          "output_type": "stream",
          "text": [
            "Epoch 1/30\n",
            "2799/2799 [==============================] - 101s 35ms/step - loss: 1.5151 - accuracy: 0.4862 - val_loss: 1.2216 - val_accuracy: 0.5574\n",
            "Epoch 2/30\n",
            "2799/2799 [==============================] - 97s 35ms/step - loss: 1.2097 - accuracy: 0.5761 - val_loss: 1.0945 - val_accuracy: 0.6054\n",
            "Epoch 3/30\n",
            "2799/2799 [==============================] - 97s 35ms/step - loss: 1.1122 - accuracy: 0.6127 - val_loss: 1.0501 - val_accuracy: 0.6272\n",
            "Epoch 4/30\n",
            "2799/2799 [==============================] - 98s 35ms/step - loss: 1.0769 - accuracy: 0.6335 - val_loss: 1.0309 - val_accuracy: 0.6417\n",
            "Epoch 5/30\n",
            "2799/2799 [==============================] - 98s 35ms/step - loss: 1.0510 - accuracy: 0.6487 - val_loss: 1.0157 - val_accuracy: 0.6499\n",
            "Epoch 6/30\n",
            "2799/2799 [==============================] - 98s 35ms/step - loss: 1.0277 - accuracy: 0.6608 - val_loss: 1.0059 - val_accuracy: 0.6566\n",
            "Epoch 7/30\n",
            "2799/2799 [==============================] - 98s 35ms/step - loss: 1.0067 - accuracy: 0.6703 - val_loss: 0.9962 - val_accuracy: 0.6609\n",
            "Epoch 8/30\n",
            "2799/2799 [==============================] - 98s 35ms/step - loss: 0.9865 - accuracy: 0.6793 - val_loss: 0.9922 - val_accuracy: 0.6643\n",
            "Epoch 9/30\n",
            "2799/2799 [==============================] - 98s 35ms/step - loss: 0.9675 - accuracy: 0.6869 - val_loss: 0.9810 - val_accuracy: 0.6687\n",
            "Epoch 10/30\n",
            "2799/2799 [==============================] - 98s 35ms/step - loss: 0.9504 - accuracy: 0.6935 - val_loss: 0.9830 - val_accuracy: 0.6694\n",
            "Epoch 11/30\n",
            "2799/2799 [==============================] - 98s 35ms/step - loss: 0.9363 - accuracy: 0.6994 - val_loss: 0.9787 - val_accuracy: 0.6720\n",
            "Epoch 12/30\n",
            "2799/2799 [==============================] - 98s 35ms/step - loss: 0.9206 - accuracy: 0.7051 - val_loss: 0.9754 - val_accuracy: 0.6742\n",
            "Epoch 13/30\n",
            "2799/2799 [==============================] - 98s 35ms/step - loss: 0.9058 - accuracy: 0.7101 - val_loss: 0.9709 - val_accuracy: 0.6746\n",
            "Epoch 14/30\n",
            "2799/2799 [==============================] - 98s 35ms/step - loss: 0.8956 - accuracy: 0.7143 - val_loss: 0.9800 - val_accuracy: 0.6757\n",
            "Epoch 15/30\n",
            "2799/2799 [==============================] - 98s 35ms/step - loss: 0.8840 - accuracy: 0.7188 - val_loss: 0.9743 - val_accuracy: 0.6764\n",
            "Epoch 16/30\n",
            "2799/2799 [==============================] - 98s 35ms/step - loss: 0.8716 - accuracy: 0.7229 - val_loss: 0.9736 - val_accuracy: 0.6795\n",
            "Epoch 17/30\n",
            "2799/2799 [==============================] - 98s 35ms/step - loss: 0.8602 - accuracy: 0.7266 - val_loss: 0.9789 - val_accuracy: 0.6768\n",
            "Epoch 18/30\n",
            "2799/2799 [==============================] - 98s 35ms/step - loss: 0.8526 - accuracy: 0.7300 - val_loss: 0.9795 - val_accuracy: 0.6786\n",
            "Epoch 19/30\n",
            "2799/2799 [==============================] - 98s 35ms/step - loss: 0.8439 - accuracy: 0.7333 - val_loss: 0.9780 - val_accuracy: 0.6777\n",
            "Epoch 20/30\n",
            "2799/2799 [==============================] - 99s 35ms/step - loss: 0.8341 - accuracy: 0.7365 - val_loss: 0.9777 - val_accuracy: 0.6794\n",
            "Epoch 21/30\n",
            "2799/2799 [==============================] - 99s 35ms/step - loss: 0.8247 - accuracy: 0.7399 - val_loss: 0.9781 - val_accuracy: 0.6790\n",
            "Epoch 22/30\n",
            "2799/2799 [==============================] - 99s 35ms/step - loss: 0.8166 - accuracy: 0.7423 - val_loss: 0.9888 - val_accuracy: 0.6798\n",
            "Epoch 23/30\n",
            "2799/2799 [==============================] - 99s 35ms/step - loss: 0.8127 - accuracy: 0.7444 - val_loss: 0.9897 - val_accuracy: 0.6800\n",
            "Epoch 24/30\n",
            "2799/2799 [==============================] - 98s 35ms/step - loss: 0.8044 - accuracy: 0.7474 - val_loss: 0.9943 - val_accuracy: 0.6801\n",
            "Epoch 25/30\n",
            "2799/2799 [==============================] - 98s 35ms/step - loss: 0.7969 - accuracy: 0.7497 - val_loss: 0.9902 - val_accuracy: 0.6799\n",
            "Epoch 26/30\n",
            "2799/2799 [==============================] - 98s 35ms/step - loss: 0.7895 - accuracy: 0.7517 - val_loss: 0.9892 - val_accuracy: 0.6810\n",
            "Epoch 27/30\n",
            "2799/2799 [==============================] - 98s 35ms/step - loss: 0.7835 - accuracy: 0.7541 - val_loss: 0.9931 - val_accuracy: 0.6793\n",
            "Epoch 28/30\n",
            "2799/2799 [==============================] - 99s 35ms/step - loss: 0.7804 - accuracy: 0.7559 - val_loss: 1.0039 - val_accuracy: 0.6819\n",
            "Epoch 29/30\n",
            "2799/2799 [==============================] - 99s 35ms/step - loss: 0.7742 - accuracy: 0.7580 - val_loss: 1.0007 - val_accuracy: 0.6824\n",
            "Epoch 30/30\n",
            "2799/2799 [==============================] - 99s 35ms/step - loss: 0.7677 - accuracy: 0.7602 - val_loss: 1.0089 - val_accuracy: 0.6748\n"
          ]
        }
      ],
      "source": [
        "if True:\n",
        "    transformer.fit(train_ds, epochs=epochs, validation_data=val_ds)\n",
        "else:\n",
        "    transformer = keras.models.load_model('en-es-translator')"
      ]
    },
    {
      "cell_type": "code",
      "execution_count": 140,
      "metadata": {},
      "outputs": [
        {
          "name": "stderr",
          "output_type": "stream",
          "text": [
            "WARNING:absl:Found untraced functions such as embedding_12_layer_call_fn, embedding_12_layer_call_and_return_conditional_losses, embedding_13_layer_call_fn, embedding_13_layer_call_and_return_conditional_losses, multi_head_attention_9_layer_call_fn while saving (showing 5 of 150). These functions will not be directly callable after loading.\n"
          ]
        },
        {
          "name": "stdout",
          "output_type": "stream",
          "text": [
            "INFO:tensorflow:Assets written to: en-de-translator/assets\n"
          ]
        },
        {
          "name": "stderr",
          "output_type": "stream",
          "text": [
            "INFO:tensorflow:Assets written to: en-de-translator/assets\n"
          ]
        }
      ],
      "source": [
        "transformer.save('en-de-translator');"
      ]
    },
    {
      "cell_type": "markdown",
      "metadata": {
        "id": "2fDeApqi3YkX"
      },
      "source": [
        "## Decoding test sentences\n",
        "\n",
        "Finally, let's demonstrate how to translate brand new English sentences.\n",
        "We simply feed into the model the vectorized English sentence\n",
        "as well as the target token `\"[start]\"`, then we repeatedly generated the next token, until\n",
        "we hit the token `\"[end]\"`."
      ]
    },
    {
      "cell_type": "code",
      "execution_count": 138,
      "metadata": {
        "id": "ZM9VlDJv3YkX"
      },
      "outputs": [],
      "source": [
        "deu_vocab = deu_vectorization.get_vocabulary()\n",
        "deu_index_lookup = dict(zip(range(len(deu_vocab)), deu_vocab))\n",
        "max_decoded_sentence_length = 20\n",
        "\n",
        "\n",
        "def decode_sequence(input_sentence):\n",
        "    \n",
        "    tokenized_input_sentence = eng_vectorization([input_sentence]) # input_sequence = 'Tom put gas in the car.'\n",
        "    decoded_sentence = \"[start]\"\n",
        "\n",
        "    for i in range(max_decoded_sentence_length):\n",
        "    \n",
        "        tokenized_target_sentence = deu_vectorization([decoded_sentence])[:, :-1]\n",
        "        predictions = transformer([tokenized_input_sentence, tokenized_target_sentence])\n",
        "\n",
        "        sampled_token_index = np.argmax(predictions[0, i, :])\n",
        "        sampled_token = deu_index_lookup[sampled_token_index]\n",
        "        decoded_sentence += \" \" + sampled_token\n",
        "\n",
        "        if sampled_token == \"[end]\":\n",
        "            break\n",
        "    \n",
        "    return decoded_sentence"
      ]
    },
    {
      "cell_type": "markdown",
      "metadata": {},
      "source": [
        "Lets translate 30 sentences from the test set. If you receive [UNK] means unknown word, token is not present in the vocabulary. Increase hidden states."
      ]
    },
    {
      "cell_type": "code",
      "execution_count": 139,
      "metadata": {},
      "outputs": [
        {
          "name": "stdout",
          "output_type": "stream",
          "text": [
            "Are you really sure? \n",
            "\tMine:  sind sie uns wirklich sicher  Google: Bist du dir wirklich sicher?\n",
            "I heard the same noise again. \n",
            "\tMine:  ich habe den [UNK] noch einmal gehört  Google: Ich hörte das gleiche Geräusch wieder.\n",
            "Is that why you dropped out of school? \n",
            "\tMine:  ist das warum sie die schule [UNK]  Google: Hast du deshalb die Schule abgebrochen?\n",
            "She is what we call a bookworm. \n",
            "\tMine:  sie ist was wir auf einem [UNK] anrufen  Google: Sie ist das, was wir einen Bücherwurm nennen.\n",
            "Everything was simpler in those days. \n",
            "\tMine:  es war alles im [UNK] tage  Google: Damals war alles einfacher.\n",
            "I really like the concept of this website. \n",
            "\tMine:  mir gefällt das [UNK] in dieser dass das [UNK] [UNK]  Google: Das Konzept dieser Website gefällt mir sehr gut.\n",
            "It was time to leave. \n",
            "\tMine:  es war zeit [UNK]  Google: Es war Zeit zu gehen.\n",
            "Tom showed me various ways to do that. \n",
            "\tMine:  tom zeigte mir wie es [UNK]  Google: Tom zeigte mir verschiedene Möglichkeiten, das zu tun.\n",
            "You made it possible. \n",
            "\tMine:  sie haben es möglich gemacht  Google: Du hast es möglich gemacht.\n",
            "How do you tell them apart? \n",
            "\tMine:  wie sagst du die [UNK]  Google: Wie unterscheidest du sie?\n"
          ]
        }
      ],
      "source": [
        "# get english text from the test set\n",
        "test_eng_texts = [pair[0] for pair in test_pairs]\n",
        "\n",
        "for _ in range(10):\n",
        "    \n",
        "    # choose some text randomly\n",
        "    input_sentence = random.choice(test_eng_texts)\n",
        "    my_translation = decode_sequence(input_sentence)\n",
        "\n",
        "    # use google translator\n",
        "    google_translation = GoogleTranslator(source='en', target='de').translate(input_sentence) \n",
        "\n",
        "    print(  input_sentence, \n",
        "            '\\n\\tMine:',    my_translation.replace('[start]', '').replace('[end]', ''), \n",
        "            'Google:',  google_translation)"
      ]
    },
    {
      "cell_type": "markdown",
      "metadata": {},
      "source": []
    }
  ],
  "metadata": {
    "colab": {
      "collapsed_sections": [],
      "name": "neural_machine_translation_with_transformer",
      "provenance": [],
      "toc_visible": true
    },
    "kernelspec": {
      "display_name": "Python 3.8.11 ('mli')",
      "language": "python",
      "name": "python3"
    },
    "language_info": {
      "codemirror_mode": {
        "name": "ipython",
        "version": 3
      },
      "file_extension": ".py",
      "mimetype": "text/x-python",
      "name": "python",
      "nbconvert_exporter": "python",
      "pygments_lexer": "ipython3",
      "version": "3.8.11"
    },
    "vscode": {
      "interpreter": {
        "hash": "4d0dac48f5d9b27e45995153baafec01158dfff2c0bb1df66c2c7c47f74320c7"
      }
    }
  },
  "nbformat": 4,
  "nbformat_minor": 0
}
