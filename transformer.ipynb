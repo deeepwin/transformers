{
 "cells": [
  {
   "cell_type": "markdown",
   "metadata": {},
   "source": [
    "# Transformer from Scratch"
   ]
  },
  {
   "cell_type": "markdown",
   "metadata": {},
   "source": [
    "Author: Deeepwin, Jason Brownlee [(Machine Learning Mastery)](https://machinelearningmastery.com)   \n",
    "Date: 05.11.2022 \n",
    "***"
   ]
  },
  {
   "cell_type": "markdown",
   "metadata": {},
   "source": [
    "## Setup"
   ]
  },
  {
   "cell_type": "code",
   "execution_count": 26,
   "metadata": {},
   "outputs": [],
   "source": [
    "import os\n",
    "import numpy as np\n",
    "import tensorflow as tf\n",
    "\n",
    "from tensorflow import math, matmul, reshape, shape, transpose, cast, float32, linalg, ones, maximum, newaxis\n",
    "from tensorflow.keras import Model\n",
    "from tensorflow.keras.layers import Dense, LayerNormalization, Layer, ReLU, Dropout, TextVectorization, Embedding, Input\n",
    " \n",
    "from keras.backend import softmax"
   ]
  },
  {
   "cell_type": "code",
   "execution_count": 27,
   "metadata": {},
   "outputs": [],
   "source": [
    "np.set_printoptions(linewidth=160)\n",
    "\n",
    "# disable GPU\n",
    "os.environ[\"CUDA_VISIBLE_DEVICES\"] = \"-1\""
   ]
  },
  {
   "cell_type": "markdown",
   "metadata": {},
   "source": [
    "## Configuration"
   ]
  },
  {
   "cell_type": "code",
   "execution_count": 28,
   "metadata": {},
   "outputs": [],
   "source": [
    "num_heads       = 8         # Number of self-attention heads\n",
    "d_k             = 64        # Dimensionality of the linearly projected queries and keys\n",
    "d_v             = 64        # Dimensionality of the linearly projected values\n",
    "dense_dim       = 2048      # Dimensionality of the inner fully connected layer\n",
    "embed_dim       = 512       # Dimensionality of the model sub-layers' outputs\n",
    "enc_num_layers  = 6         # Number of layers in the encoder stack\n",
    " \n",
    "dropout_rate    = 0.1       # Frequency of dropping the input units in the dropout layers\n",
    "\n",
    "vocab_size      = 15000     # Vocabulary size\n",
    "sequence_length = 20        # Maximum length of the input sequence\n",
    "\n",
    "batch_size      = 32        # Batch size from the training process"
   ]
  },
  {
   "cell_type": "markdown",
   "metadata": {},
   "source": [
    "## Attention Layer"
   ]
  },
  {
   "cell_type": "markdown",
   "metadata": {},
   "source": [
    "See [(Link)](https://machinelearningmastery.com/how-to-implement-multi-head-attention-from-scratch-in-tensorflow-and-keras) and [(Link)](https://machinelearningmastery.com/how-to-implement-scaled-dot-product-attention-from-scratch-in-tensorflow-and-keras)"
   ]
  },
  {
   "cell_type": "markdown",
   "metadata": {},
   "source": [
    "![image](pics/dot_product_1.png)"
   ]
  },
  {
   "cell_type": "markdown",
   "metadata": {},
   "source": [
    "You may note that the scaled dot-product attention can also apply a mask to the attention scores before feeding them into the softmax function. \n",
    "\n",
    "Since the word embeddings are zero-padded to a specific sequence length, a ***padding mask needs to be introduced in order to prevent the zero tokens from being processed*** along with the input in both the encoder and decoder stages. Furthermore, a look-ahead mask is also required to prevent the decoder from attending to succeeding words, such that the prediction for a particular word can only depend on known outputs for the words that come before it.\n",
    "\n",
    "These look-ahead and padding masks are applied inside the scaled dot-product attention set to -infinity all the values in the input to the softmax function that should not be considered. For each of these large negative inputs, the softmax function will, in turn, produce an output value that is close to zero, effectively masking them out. The use of these masks will become clearer when you progress to the implementation of the encoder and decoder blocks in separate tutorials."
   ]
  },
  {
   "cell_type": "code",
   "execution_count": 29,
   "metadata": {},
   "outputs": [],
   "source": [
    "# Implementing the Scaled-Dot Product Attention\n",
    "class DotProductAttention(Layer):\n",
    "\n",
    "    def __init__(self, **kwargs):\n",
    "    \n",
    "        super(DotProductAttention, self).__init__(**kwargs)\n",
    " \n",
    "    def call(self, queries, keys, values, d_k, mask=None):\n",
    "    \n",
    "        # Scoring the queries against the keys after transposing the latter, and scaling\n",
    "        scores = matmul(queries, keys, transpose_b=True) / math.sqrt(cast(d_k, float32))\n",
    " \n",
    "        # Apply mask to the attention scores\n",
    "        if mask is not None:\n",
    "            scores += -1e9 * mask\n",
    " \n",
    "        # Computing the weights by a softmax operation\n",
    "        weights = softmax(scores)\n",
    " \n",
    "        # Computing the attention by a weighted sum of the value vectors\n",
    "        return matmul(weights, values)\n",
    " \n",
    "# Implementing the Multi-Head Attention\n",
    "class MultiHeadAttention(Layer):\n",
    "\n",
    "    def __init__(self, num_heads, d_k, d_v, embed_dim, **kwargs):\n",
    "    \n",
    "        super(MultiHeadAttention, self).__init__(**kwargs)\n",
    "\n",
    "        self.attention = DotProductAttention()      # Scaled dot product attention\n",
    "        self.heads = num_heads                      # Number of attention heads to use\n",
    "        self.d_k = d_k                              # Dimensionality of the linearly projected queries and keys\n",
    "        self.d_v = d_v                              # Dimensionality of the linearly projected values\n",
    "        self.embed_dim = embed_dim                  # Dimensionality of the model\n",
    "        self.W_q = Dense(d_k)                       # Learned projection matrix for the queries\n",
    "        self.W_k = Dense(d_k)                       # Learned projection matrix for the keys\n",
    "        self.W_v = Dense(d_v)                       # Learned projection matrix for the values\n",
    "        self.W_o = Dense(embed_dim)                 # Learned projection matrix for the multi-head output\n",
    " \n",
    "    def reshape_tensor(self, x, heads, flag):\n",
    "        if flag:\n",
    "            # Tensor shape after reshaping and transposing: (batch_size, heads, seq_length, -1)\n",
    "            x = reshape(x, shape=(shape(x)[0], shape(x)[1], heads, -1))\n",
    "            x = transpose(x, perm=(0, 2, 1, 3))\n",
    "        else:\n",
    "            # Reverting the reshaping and transposing operations: (batch_size, seq_length, d_k)\n",
    "            x = transpose(x, perm=(0, 2, 1, 3))\n",
    "            x = reshape(x, shape=(shape(x)[0], shape(x)[1], self.d_k))\n",
    "        return x\n",
    " \n",
    "    def call(self, queries, keys, values, mask=None):\n",
    " \n",
    "        # Rearrange the queries to be able to compute all heads in parallel\n",
    "        q_reshaped = self.reshape_tensor(self.W_q(queries), self.heads, True)\n",
    "        \n",
    "        # Resulting tensor shape: (batch_size, heads, input_seq_length, -1)\n",
    " \n",
    "        # Rearrange the keys to be able to compute all heads in parallel\n",
    "        k_reshaped = self.reshape_tensor(self.W_k(keys), self.heads, True)\n",
    "        # Resulting tensor shape: (batch_size, heads, input_seq_length, -1)\n",
    " \n",
    "        # Rearrange the values to be able to compute all heads in parallel\n",
    "        v_reshaped = self.reshape_tensor(self.W_v(values), self.heads, True)\n",
    "        # Resulting tensor shape: (batch_size, heads, input_seq_length, -1)\n",
    " \n",
    "        # Compute the multi-head attention output using the reshaped queries, keys and values\n",
    "        o_reshaped = self.attention(q_reshaped, k_reshaped, v_reshaped, self.d_k, mask)\n",
    "        # Resulting tensor shape: (batch_size, heads, input_seq_length, -1)\n",
    " \n",
    "        # Rearrange back the output into concatenated form\n",
    "        output = self.reshape_tensor(o_reshaped, self.heads, False)\n",
    "        # Resulting tensor shape: (batch_size, input_seq_length, d_v)\n",
    " \n",
    "        # Apply one final linear projection to the output to generate the multi-head attention\n",
    "        # Resulting tensor shape: (batch_size, input_seq_length, embed_dim)\n",
    "        return self.W_o(output)\n"
   ]
  },
  {
   "cell_type": "markdown",
   "metadata": {},
   "source": [
    "### Test"
   ]
  },
  {
   "cell_type": "code",
   "execution_count": 30,
   "metadata": {},
   "outputs": [
    {
     "data": {
      "text/plain": [
       "(32, 20, 512)"
      ]
     },
     "execution_count": 30,
     "metadata": {},
     "output_type": "execute_result"
    }
   ],
   "source": [
    "from numpy import random\n",
    " \n",
    "queries     = random.random((batch_size, sequence_length, d_k))\n",
    "keys        = random.random((batch_size, sequence_length, d_k))\n",
    "values      = random.random((batch_size, sequence_length, d_v))\n",
    " \n",
    "output = MultiHeadAttention(num_heads, d_k, d_v, embed_dim)(queries, keys, values);\n",
    "output.numpy().shape"
   ]
  },
  {
   "cell_type": "markdown",
   "metadata": {},
   "source": [
    "## Embedding Layer"
   ]
  },
  {
   "cell_type": "markdown",
   "metadata": {},
   "source": [
    "See [(Link)](https://machinelearningmastery.com/the-transformer-positional-encoding-layer-in-keras-part-2/)"
   ]
  },
  {
   "cell_type": "code",
   "execution_count": 31,
   "metadata": {},
   "outputs": [],
   "source": [
    "\n",
    "class PositionEmbeddingFixedWeights(Layer):\n",
    "\n",
    "    def __init__(self, sequence_length, vocab_size, output_dim, **kwargs):\n",
    "    \n",
    "        super(PositionEmbeddingFixedWeights, self).__init__(**kwargs)\n",
    "\n",
    "        word_embedding_matrix = self.get_position_encoding(vocab_size, output_dim)   \n",
    "        position_embedding_matrix = self.get_position_encoding(sequence_length, output_dim)     \n",
    "\n",
    "        self.word_embedding_layer = Embedding(\n",
    "            input_dim=vocab_size, output_dim=output_dim,\n",
    "            weights=[word_embedding_matrix],\n",
    "            trainable=False\n",
    "        )\n",
    "        self.position_embedding_layer = Embedding(\n",
    "            input_dim=sequence_length, output_dim=output_dim,\n",
    "            weights=[position_embedding_matrix],\n",
    "            trainable=False\n",
    "        )\n",
    "             \n",
    "    def get_position_encoding(self, seq_len, d, n=10000):\n",
    "        P = np.zeros((seq_len, d))\n",
    "        for k in range(seq_len):\n",
    "            for i in np.arange(int(d/2)):\n",
    "                denominator = np.power(n, 2*i/d)\n",
    "                P[k, 2*i] = np.sin(k/denominator)\n",
    "                P[k, 2*i+1] = np.cos(k/denominator)\n",
    "        return P\n",
    " \n",
    "    def call(self, inputs):        \n",
    "        position_indices = tf.range(tf.shape(inputs)[-1])\n",
    "        embedded_words = self.word_embedding_layer(inputs)\n",
    "        embedded_indices = self.position_embedding_layer(position_indices)\n",
    "        return embedded_words + embedded_indices"
   ]
  },
  {
   "cell_type": "markdown",
   "metadata": {},
   "source": [
    "### Test"
   ]
  },
  {
   "cell_type": "code",
   "execution_count": 32,
   "metadata": {},
   "outputs": [
    {
     "name": "stdout",
     "output_type": "stream",
     "text": [
      "Vocabulary:  ['', '[UNK]', 'robot', 'you', 'too', 'i', 'am', 'a']\n",
      "Vectorized words:  [[5 6 7 ... 0 0 0]\n",
      " [3 4 2 ... 0 0 0]]\n"
     ]
    }
   ],
   "source": [
    "sentences = [[\"I am a robot\"], [\"you too robot\"]]\n",
    "sentence_data = tf.data.Dataset.from_tensor_slices(sentences)\n",
    "\n",
    "# Create the TextVectorization layer\n",
    "vectorize_layer = TextVectorization(max_tokens=vocab_size,\n",
    "                                    output_sequence_length=vocab_size)\n",
    "\n",
    "# Train the layer to create a dictionary\n",
    "vectorize_layer.adapt(sentence_data)\n",
    "\n",
    "# Convert all sentences to tensors\n",
    "word_tensors = tf.convert_to_tensor(sentences, dtype=tf.string)\n",
    "\n",
    "# Use the word tensors to get vectorized phrases\n",
    "vectorized_words = vectorize_layer(word_tensors)\n",
    "print(\"Vocabulary: \", vectorize_layer.get_vocabulary())\n",
    "print(\"Vectorized words: \", vectorized_words.numpy())"
   ]
  },
  {
   "cell_type": "code",
   "execution_count": 33,
   "metadata": {},
   "outputs": [
    {
     "ename": "InvalidArgumentError",
     "evalue": "Exception encountered when calling layer \"embedding_11\" \"                 f\"(type Embedding).\n\n{{function_node __wrapped__ResourceGather_device_/job:localhost/replica:0/task:0/device:CPU:0}} indices[11875] = 11875 is not in [0, 20) [Op:ResourceGather]\n\nCall arguments received by layer \"embedding_11\" \"                 f\"(type Embedding):\n  • inputs=tf.Tensor(shape=(15000,), dtype=int32)",
     "output_type": "error",
     "traceback": [
      "\u001b[0;31m---------------------------------------------------------------------------\u001b[0m",
      "\u001b[0;31mInvalidArgumentError\u001b[0m                      Traceback (most recent call last)",
      "Cell \u001b[0;32mIn [33], line 2\u001b[0m\n\u001b[1;32m      1\u001b[0m attnisallyouneed_embedding \u001b[39m=\u001b[39m PositionEmbeddingFixedWeights(sequence_length, vocab_size, sequence_length)\n\u001b[0;32m----> 2\u001b[0m attnisallyouneed_output \u001b[39m=\u001b[39m attnisallyouneed_embedding(vectorized_words)\n\u001b[1;32m      3\u001b[0m attnisallyouneed_output\u001b[39m.\u001b[39mnumpy()\u001b[39m.\u001b[39mshape\n",
      "File \u001b[0;32m~/anaconda3/envs/test/lib/python3.9/site-packages/keras/utils/traceback_utils.py:70\u001b[0m, in \u001b[0;36mfilter_traceback.<locals>.error_handler\u001b[0;34m(*args, **kwargs)\u001b[0m\n\u001b[1;32m     67\u001b[0m     filtered_tb \u001b[39m=\u001b[39m _process_traceback_frames(e\u001b[39m.\u001b[39m__traceback__)\n\u001b[1;32m     68\u001b[0m     \u001b[39m# To get the full stack trace, call:\u001b[39;00m\n\u001b[1;32m     69\u001b[0m     \u001b[39m# `tf.debugging.disable_traceback_filtering()`\u001b[39;00m\n\u001b[0;32m---> 70\u001b[0m     \u001b[39mraise\u001b[39;00m e\u001b[39m.\u001b[39mwith_traceback(filtered_tb) \u001b[39mfrom\u001b[39;00m \u001b[39mNone\u001b[39m\n\u001b[1;32m     71\u001b[0m \u001b[39mfinally\u001b[39;00m:\n\u001b[1;32m     72\u001b[0m     \u001b[39mdel\u001b[39;00m filtered_tb\n",
      "Cell \u001b[0;32mIn [31], line 33\u001b[0m, in \u001b[0;36mPositionEmbeddingFixedWeights.call\u001b[0;34m(self, inputs)\u001b[0m\n\u001b[1;32m     31\u001b[0m position_indices \u001b[39m=\u001b[39m tf\u001b[39m.\u001b[39mrange(tf\u001b[39m.\u001b[39mshape(inputs)[\u001b[39m-\u001b[39m\u001b[39m1\u001b[39m])\n\u001b[1;32m     32\u001b[0m embedded_words \u001b[39m=\u001b[39m \u001b[39mself\u001b[39m\u001b[39m.\u001b[39mword_embedding_layer(inputs)\n\u001b[0;32m---> 33\u001b[0m embedded_indices \u001b[39m=\u001b[39m \u001b[39mself\u001b[39;49m\u001b[39m.\u001b[39;49mposition_embedding_layer(position_indices)\n\u001b[1;32m     34\u001b[0m \u001b[39mreturn\u001b[39;00m embedded_words \u001b[39m+\u001b[39m embedded_indices\n",
      "\u001b[0;31mInvalidArgumentError\u001b[0m: Exception encountered when calling layer \"embedding_11\" \"                 f\"(type Embedding).\n\n{{function_node __wrapped__ResourceGather_device_/job:localhost/replica:0/task:0/device:CPU:0}} indices[11875] = 11875 is not in [0, 20) [Op:ResourceGather]\n\nCall arguments received by layer \"embedding_11\" \"                 f\"(type Embedding):\n  • inputs=tf.Tensor(shape=(15000,), dtype=int32)"
     ]
    }
   ],
   "source": [
    "attnisallyouneed_embedding = PositionEmbeddingFixedWeights(sequence_length, vocab_size, sequence_length)\n",
    "attnisallyouneed_output = attnisallyouneed_embedding(vectorized_words)\n",
    "attnisallyouneed_output.numpy().shape"
   ]
  },
  {
   "cell_type": "markdown",
   "metadata": {},
   "source": [
    "## Encoder"
   ]
  },
  {
   "cell_type": "markdown",
   "metadata": {},
   "source": [
    "See [(Link)](https://machinelearningmastery.com/implementing-the-transformer-encoder-from-scratch-in-tensorflow-and-keras)"
   ]
  },
  {
   "cell_type": "code",
   "execution_count": null,
   "metadata": {},
   "outputs": [],
   "source": [
    "# Implementing the Add & Norm Layer\n",
    "class AddNormalization(Layer):\n",
    "\n",
    "    def __init__(self, **kwargs):\n",
    "    \n",
    "        super(AddNormalization, self).__init__(**kwargs)\n",
    "        self.layer_norm = LayerNormalization()  # Layer normalization layer\n",
    " \n",
    "    def call(self, x, sublayer_x):\n",
    "    \n",
    "        # The sublayer input and output need to be of the same shape to be summed\n",
    "        add = x + sublayer_x\n",
    " \n",
    "        # Apply layer normalization to the sum\n",
    "        return self.layer_norm(add)\n",
    " \n",
    "# Implementing the Feed-Forward Layer\n",
    "class FeedForward(Layer):\n",
    "    \n",
    "    def __init__(self, dense_dim, embed_dim, **kwargs):\n",
    "        super(FeedForward, self).__init__(**kwargs)\n",
    "        self.fully_connected1 = Dense(dense_dim)    # First fully connected layer\n",
    "        self.fully_connected2 = Dense(embed_dim)    # Second fully connected layer\n",
    "        self.activation = ReLU()                    # ReLU activation layer\n",
    " \n",
    "    def call(self, x):\n",
    "        \n",
    "        # The input is passed into the two fully-connected layers, with a ReLU in between\n",
    "        x_fc1 = self.fully_connected1(x)\n",
    " \n",
    "        return self.fully_connected2(self.activation(x_fc1))\n",
    " \n",
    "# Implementing the Encoder Layer\n",
    "class EncoderLayer(Layer):\n",
    "    def __init__(self, sequence_length, num_heads, d_k, d_v, embed_dim, dense_dim, rate, **kwargs):\n",
    "        super(EncoderLayer, self).__init__(**kwargs)\n",
    "        self.build(input_shape=[None, sequence_length, embed_dim])\n",
    "        self.sequence_length = sequence_length\n",
    "        self.embed_dim = embed_dim\n",
    "        self.multihead_attention = MultiHeadAttention(num_heads, d_k, d_v, embed_dim)\n",
    "        self.dropout1 = Dropout(rate)\n",
    "        self.add_norm1 = AddNormalization()\n",
    "        self.feed_forward = FeedForward(dense_dim, embed_dim)\n",
    "        self.dropout2 = Dropout(rate)\n",
    "        self.add_norm2 = AddNormalization()\n",
    " \n",
    "    def build_graph(self):\n",
    "        input_layer = Input(shape=(self.sequence_length, self.embed_dim))\n",
    "        return Model(inputs=[input_layer], outputs=self.call(input_layer, None, True))\n",
    "\n",
    "    def call(self, x, padding_mask, training):\n",
    "\n",
    "        # Multi-head attention layer\n",
    "        multihead_output = self.multihead_attention(x, x, x, padding_mask)\n",
    "        # Expected output shape = (batch_size, sequence_length, embed_dim)\n",
    " \n",
    "        # Add in a dropout layer\n",
    "        multihead_output = self.dropout1(multihead_output, training=training)\n",
    " \n",
    "        # Followed by an Add & Norm layer\n",
    "        addnorm_output = self.add_norm1(x, multihead_output)\n",
    "        # Expected output shape = (batch_size, sequence_length, embed_dim)\n",
    " \n",
    "        # Followed by a fully connected layer\n",
    "        feedforward_output = self.feed_forward(addnorm_output)\n",
    "        # Expected output shape = (batch_size, sequence_length, embed_dim)\n",
    " \n",
    "        # Add in another dropout layer\n",
    "        feedforward_output = self.dropout2(feedforward_output, training=training)\n",
    " \n",
    "        # Followed by another Add & Norm layer\n",
    "        return self.add_norm2(addnorm_output, feedforward_output)\n",
    " \n",
    "# Implementing the Encoder\n",
    "class Encoder(Layer):\n",
    "\n",
    "    def __init__(self, vocab_size, sequence_length, num_heads, d_k, d_v, embed_dim, dense_dim, enc_num_layers, rate, **kwargs):\n",
    "\n",
    "        super(Encoder, self).__init__(**kwargs)\n",
    "        \n",
    "        self.pos_encoding   = PositionEmbeddingFixedWeights(sequence_length, vocab_size, embed_dim)\n",
    "        self.dropout        = Dropout(rate)\n",
    "        self.encoder_layer  = [EncoderLayer(sequence_length, num_heads, d_k, d_v, embed_dim, dense_dim, rate) for _ in range(enc_num_layers)]\n",
    " \n",
    "    def call(self, input_sentence, padding_mask, training):\n",
    "        \n",
    "        # Generate the positional encoding\n",
    "        pos_encoding_output = self.pos_encoding(input_sentence)\n",
    "        # Expected output shape = (batch_size, sequence_length, embed_dim)\n",
    " \n",
    "        # Add in a dropout layer\n",
    "        x = self.dropout(pos_encoding_output, training=training)\n",
    " \n",
    "        # Pass on the positional encoded values to each encoder layer\n",
    "        for i, layer in enumerate(self.encoder_layer):\n",
    "            x = layer(x, padding_mask, training)\n",
    " \n",
    "        return x\n"
   ]
  },
  {
   "cell_type": "markdown",
   "metadata": {},
   "source": [
    "### Test"
   ]
  },
  {
   "cell_type": "code",
   "execution_count": null,
   "metadata": {},
   "outputs": [
    {
     "data": {
      "text/plain": [
       "(32, 20)"
      ]
     },
     "execution_count": 25,
     "metadata": {},
     "output_type": "execute_result"
    }
   ],
   "source": [
    "enc_input = random.random((batch_size, sequence_length))"
   ]
  },
  {
   "cell_type": "code",
   "execution_count": null,
   "metadata": {},
   "outputs": [],
   "source": [
    "if False:\n",
    "    output = Encoder(vocab_size, sequence_length, num_heads, d_k, d_v, embed_dim, dense_dim, enc_num_layers, dropout_rate)(enc_input, None, True)\n",
    "    output.numpy().shape\n",
    "    output.build_graph().summary()"
   ]
  },
  {
   "cell_type": "markdown",
   "metadata": {},
   "source": [
    "## Decoder"
   ]
  },
  {
   "cell_type": "markdown",
   "metadata": {},
   "source": [
    "See [(Link)](https://machinelearningmastery.com/implementing-the-transformer-decoder-from-scratch-in-tensorflow-and-keras)   "
   ]
  },
  {
   "cell_type": "code",
   "execution_count": 34,
   "metadata": {},
   "outputs": [],
   "source": [
    "# Implementing the Decoder Layer\n",
    "class DecoderLayer(Layer):\n",
    "    def __init__(self, sequence_length, num_heads, d_k, d_v, embed_dim, dense_dim, rate, **kwargs):\n",
    "        \n",
    "        super(DecoderLayer, self).__init__(**kwargs)\n",
    "\n",
    "        self.build(input_shape=[None, sequence_length, embed_dim])\n",
    "        self.sequence_length = sequence_length\n",
    "        self.embed_dim = embed_dim\n",
    "        self.multihead_attention1 = MultiHeadAttention(num_heads, d_k, d_v, embed_dim)\n",
    "        self.dropout1 = Dropout(rate)\n",
    "        self.add_norm1 = AddNormalization()\n",
    "        self.multihead_attention2 = MultiHeadAttention(num_heads, d_k, d_v, embed_dim)\n",
    "        self.dropout2 = Dropout(rate)\n",
    "        self.add_norm2 = AddNormalization()\n",
    "        self.feed_forward = FeedForward(dense_dim, embed_dim)\n",
    "        self.dropout3 = Dropout(rate)\n",
    "        self.add_norm3 = AddNormalization()\n",
    "\n",
    "    def build_graph(self):\n",
    "        input_layer = Input(shape=(self.sequence_length, self.embed_dim))\n",
    "        return Model(inputs=[input_layer], outputs=self.call(input_layer, input_layer, None, None, True))\n",
    "        \n",
    "    def call(self, x, encoder_output, lookahead_mask, padding_mask, training):\n",
    "\n",
    "        # Multi-head attention layer                                            # x = encoder_output = (32, 20, 512)\n",
    "                                                                                # lookahead_mask = (32, 1, 20, 20)\n",
    "                                                                                # padding_mask = (32, 1, 1, 20)\n",
    "        multihead_output1 = self.multihead_attention1(x, x, x, lookahead_mask)\n",
    "        # Expected output shape = (batch_size, sequence_length, embed_dim)\n",
    " \n",
    "        # Add in a dropout layer\n",
    "        multihead_output1 = self.dropout1(multihead_output1, training=training)\n",
    " \n",
    "        # Followed by an Add & Norm layer\n",
    "        addnorm_output1 = self.add_norm1(x, multihead_output1)\n",
    "        # Expected output shape = (batch_size, sequence_length, embed_dim)\n",
    " \n",
    "        # Followed by another multi-head attention layer\n",
    "        multihead_output2 = self.multihead_attention2(addnorm_output1, encoder_output, encoder_output, padding_mask)\n",
    " \n",
    "        # Add in another dropout layer\n",
    "        multihead_output2 = self.dropout2(multihead_output2, training=training)\n",
    " \n",
    "        # Followed by another Add & Norm layer\n",
    "        addnorm_output2 = self.add_norm1(addnorm_output1, multihead_output2)\n",
    " \n",
    "        # Followed by a fully connected layer\n",
    "        feedforward_output = self.feed_forward(addnorm_output2)\n",
    "        # Expected output shape = (batch_size, sequence_length, embed_dim)\n",
    " \n",
    "        # Add in another dropout layer\n",
    "        feedforward_output = self.dropout3(feedforward_output, training=training)\n",
    " \n",
    "        # Followed by another Add & Norm layer\n",
    "        return self.add_norm3(addnorm_output2, feedforward_output)\n",
    " \n",
    "# Implementing the Decoder\n",
    "class Decoder(Layer):\n",
    "\n",
    "    def __init__(self, vocab_size, sequence_length, num_heads, d_k, d_v, embed_dim, dense_dim, enc_num_layers, rate, **kwargs):\n",
    "    \n",
    "        super(Decoder, self).__init__(**kwargs)\n",
    "    \n",
    "        self.pos_encoding = PositionEmbeddingFixedWeights(sequence_length, vocab_size, embed_dim)\n",
    "        self.dropout = Dropout(rate)\n",
    "        self.decoder_layer = [DecoderLayer(sequence_length, num_heads, d_k, d_v, embed_dim, dense_dim, rate) for _ in range(enc_num_layers)]\n",
    " \n",
    "    def call(self, output_target, encoder_output, lookahead_mask, padding_mask, training):\n",
    "\n",
    "        # Generate the positional encoding                                          # output_target = (32, 20)\n",
    "        pos_encoding_output = self.pos_encoding(output_target)                      # (32, 20, 512)\n",
    "        # Expected output shape = (number of sentences, sequence_length, embed_dim)\n",
    " \n",
    "        # Add in a dropout layer\n",
    "        x = self.dropout(pos_encoding_output, training=training)                    # (32, 20, 512)\n",
    " \n",
    "        # Pass on the positional encoded values to each encoder layer\n",
    "        for i, layer in enumerate(self.decoder_layer):                              # encoder_output = (32, 20, 512)\n",
    "                                                                                    # lookahead_mask = (32, 1, 20, 20)\n",
    "            x = layer(x, encoder_output, lookahead_mask, padding_mask, training)    # (32, 20, 512)\n",
    " \n",
    "        return x"
   ]
  },
  {
   "cell_type": "markdown",
   "metadata": {},
   "source": [
    "### Test"
   ]
  },
  {
   "cell_type": "code",
   "execution_count": 35,
   "metadata": {},
   "outputs": [],
   "source": [
    "dec_input = random.random((batch_size, sequence_length))\n",
    "enc_output = random.random((batch_size, sequence_length, embed_dim))"
   ]
  },
  {
   "cell_type": "code",
   "execution_count": 36,
   "metadata": {},
   "outputs": [],
   "source": [
    "if False:\n",
    "    output = Decoder(vocab_size, sequence_length, num_heads, d_k, d_v, embed_dim, dense_dim, enc_num_layers, dropout_rate)(dec_input, enc_output, None, True)\n",
    "    output.numpy().shape\n",
    "    output.build_graph().summary()"
   ]
  },
  {
   "cell_type": "markdown",
   "metadata": {},
   "source": [
    "## Transformer Model"
   ]
  },
  {
   "cell_type": "markdown",
   "metadata": {},
   "source": [
    "See [(Link)](https://machinelearningmastery.com/joining-the-transformer-encoder-and-decoder-and-masking/)"
   ]
  },
  {
   "cell_type": "code",
   "execution_count": 37,
   "metadata": {},
   "outputs": [],
   "source": [
    "\n",
    "class TransformerModel(Model):\n",
    "    \n",
    "    def __init__(self, vocab_size, sequence_length, num_heads, d_k, d_v, embed_dim, d_ff_inner, enc_num_layers, rate, **kwargs):\n",
    "\n",
    "        super(TransformerModel, self).__init__(**kwargs)\n",
    " \n",
    "        # Set up the encoder\n",
    "        self.encoder = Encoder(vocab_size, sequence_length, num_heads, d_k, d_v, embed_dim, d_ff_inner, enc_num_layers, rate)\n",
    " \n",
    "        # Set up the decoder\n",
    "        self.decoder = Decoder(vocab_size, sequence_length, num_heads, d_k, d_v, embed_dim, d_ff_inner, enc_num_layers, rate)\n",
    " \n",
    "        # Define the final dense layer\n",
    "        self.model_last_layer = Dense(vocab_size)\n",
    " \n",
    "    def call(self, encoder_input, decoder_input, training):\n",
    " \n",
    "        # Create padding mask to mask the encoder inputs and the encoder outputs in the decoder\n",
    "        enc_padding_mask = self.padding_mask(encoder_input)\n",
    " \n",
    "        # Create and combine padding and look-ahead masks to be fed into the decoder\n",
    "        dec_in_padding_mask = self.padding_mask(decoder_input)\n",
    "        dec_in_lookahead_mask = self.lookahead_mask(decoder_input.shape[1])\n",
    "        dec_in_lookahead_mask = maximum(dec_in_padding_mask, dec_in_lookahead_mask)\n",
    " \n",
    "        # Feed the input into the encoder\n",
    "        encoder_output = self.encoder(encoder_input, enc_padding_mask, training)\n",
    " \n",
    "        # Feed the encoder output into the decoder\n",
    "        decoder_output = self.decoder(decoder_input, encoder_output, dec_in_lookahead_mask, enc_padding_mask, training)\n",
    " \n",
    "        # Pass the decoder output through a final dense layer\n",
    "        model_output = self.model_last_layer(decoder_output)\n",
    " \n",
    "        return model_output\n",
    "\n",
    "    def padding_mask(self, input):\n",
    "\n",
    "        # Create mask which marks the zero padding values in the input by a 1.0\n",
    "        mask = math.equal(input, 0)\n",
    "        mask = cast(mask, float32)\n",
    " \n",
    "        # The shape of the mask should be broadcastable to the shape\n",
    "        # of the attention weights that it will be masking later on\n",
    "        return mask[:, newaxis, newaxis, :]\n",
    " \n",
    "    def lookahead_mask(self, shape):\n",
    "        \n",
    "        # Mask out future entries by marking them with a 1.0\n",
    "        mask = 1 - linalg.band_part(ones((shape, shape)), -1, 0)\n",
    " \n",
    "        return mask"
   ]
  },
  {
   "cell_type": "markdown",
   "metadata": {},
   "source": [
    "## Transformer"
   ]
  },
  {
   "cell_type": "code",
   "execution_count": 38,
   "metadata": {},
   "outputs": [],
   "source": [
    "# build transformer model\n",
    "transformer = TransformerModel(vocab_size, sequence_length, num_heads, d_k, d_v, embed_dim, dense_dim, enc_num_layers, dropout_rate)"
   ]
  },
  {
   "cell_type": "markdown",
   "metadata": {},
   "source": [
    "### Test"
   ]
  },
  {
   "cell_type": "code",
   "execution_count": 39,
   "metadata": {},
   "outputs": [
    {
     "data": {
      "text/plain": [
       "((32, 20), (32, 20))"
      ]
     },
     "execution_count": 39,
     "metadata": {},
     "output_type": "execute_result"
    }
   ],
   "source": [
    "enc_input.shape, dec_input.shape"
   ]
  },
  {
   "cell_type": "code",
   "execution_count": 41,
   "metadata": {},
   "outputs": [
    {
     "name": "stdout",
     "output_type": "stream",
     "text": [
      "WARNING:tensorflow:Tensor._shape is private, use Tensor.shape instead. Tensor._shape will eventually be removed.\n",
      "WARNING:tensorflow:Tensor._shape is private, use Tensor.shape instead. Tensor._shape will eventually be removed.\n",
      "WARNING:tensorflow:Tensor._shape is private, use Tensor.shape instead. Tensor._shape will eventually be removed.\n",
      "WARNING:tensorflow:Tensor._shape is private, use Tensor.shape instead. Tensor._shape will eventually be removed.\n",
      "WARNING:tensorflow:Tensor._shape is private, use Tensor.shape instead. Tensor._shape will eventually be removed.\n",
      "WARNING:tensorflow:Tensor._shape is private, use Tensor.shape instead. Tensor._shape will eventually be removed.\n",
      "WARNING:tensorflow:Tensor._shape is private, use Tensor.shape instead. Tensor._shape will eventually be removed.\n",
      "WARNING:tensorflow:Tensor._shape is private, use Tensor.shape instead. Tensor._shape will eventually be removed.\n",
      "WARNING:tensorflow:Tensor._shape is private, use Tensor.shape instead. Tensor._shape will eventually be removed.\n",
      "WARNING:tensorflow:Tensor._shape is private, use Tensor.shape instead. Tensor._shape will eventually be removed.\n",
      "WARNING:tensorflow:Tensor._shape is private, use Tensor.shape instead. Tensor._shape will eventually be removed.\n",
      "WARNING:tensorflow:Tensor._shape is private, use Tensor.shape instead. Tensor._shape will eventually be removed.\n",
      "WARNING:tensorflow:Tensor._shape is private, use Tensor.shape instead. Tensor._shape will eventually be removed.\n",
      "WARNING:tensorflow:Tensor._shape is private, use Tensor.shape instead. Tensor._shape will eventually be removed.\n",
      "WARNING:tensorflow:Tensor._shape is private, use Tensor.shape instead. Tensor._shape will eventually be removed.\n",
      "WARNING:tensorflow:Tensor._shape is private, use Tensor.shape instead. Tensor._shape will eventually be removed.\n",
      "WARNING:tensorflow:Tensor._shape is private, use Tensor.shape instead. Tensor._shape will eventually be removed.\n",
      "WARNING:tensorflow:Tensor._shape is private, use Tensor.shape instead. Tensor._shape will eventually be removed.\n",
      "WARNING:tensorflow:Tensor._shape is private, use Tensor.shape instead. Tensor._shape will eventually be removed.\n"
     ]
    }
   ],
   "source": [
    "output = transformer(enc_input, dec_input)\n",
    "output.numpy().shape"
   ]
  },
  {
   "cell_type": "markdown",
   "metadata": {},
   "source": [
    "Let's test the decoder part."
   ]
  },
  {
   "cell_type": "code",
   "execution_count": 19,
   "metadata": {},
   "outputs": [
    {
     "name": "stdout",
     "output_type": "stream",
     "text": [
      "WARNING:tensorflow:Tensor._shape is private, use Tensor.shape instead. Tensor._shape will eventually be removed.\n",
      "WARNING:tensorflow:Tensor._shape is private, use Tensor.shape instead. Tensor._shape will eventually be removed.\n",
      "WARNING:tensorflow:Tensor._shape is private, use Tensor.shape instead. Tensor._shape will eventually be removed.\n"
     ]
    }
   ],
   "source": [
    "# Create padding mask to mask the encoder inputs and the encoder outputs in the decoder\n",
    "enc_padding_mask = transformer.padding_mask(enc_input)\n",
    "\n",
    "# Create and combine padding and look-ahead masks to be fed into the decoder\n",
    "dec_in_padding_mask = transformer.padding_mask(dec_input)\n",
    "dec_in_lookahead_mask = transformer.lookahead_mask(dec_input.shape[1])\n",
    "dec_in_lookahead_mask = maximum(dec_in_padding_mask, dec_in_lookahead_mask)\n",
    "\n",
    "# Feed the encoder output into the decoder\n",
    "decoder_output = transformer.decoder(dec_input, enc_output, dec_in_lookahead_mask, enc_padding_mask)"
   ]
  },
  {
   "cell_type": "markdown",
   "metadata": {},
   "source": []
  }
 ],
 "metadata": {
  "kernelspec": {
   "display_name": "Python 3.9.13 ('test')",
   "language": "python",
   "name": "python3"
  },
  "language_info": {
   "codemirror_mode": {
    "name": "ipython",
    "version": 3
   },
   "file_extension": ".py",
   "mimetype": "text/x-python",
   "name": "python",
   "nbconvert_exporter": "python",
   "pygments_lexer": "ipython3",
   "version": "3.9.13"
  },
  "orig_nbformat": 4,
  "vscode": {
   "interpreter": {
    "hash": "8449b6f7e5d87e95487e64c6763915e36cc3912604d8f97c80e9659b35f7481b"
   }
  }
 },
 "nbformat": 4,
 "nbformat_minor": 2
}
