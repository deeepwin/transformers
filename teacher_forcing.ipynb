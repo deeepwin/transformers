{
  "cells": [
    {
      "cell_type": "markdown",
      "metadata": {
        "id": "CpC2YydRsBd9"
      },
      "source": [
        "# PART D: Encoder Decoder with Teacher Forcing\n",
        "Welcome to the **Part D** of Seq2Seq Learning Tutorial Series.\n",
        "In this tutorial, we will design an Encoder Decoder model to be trained with \"***Teacher Forcing***\" to solve the sample Seq2Seq problem introduced in **Part A**.\n",
        "\n",
        "We will use the **LSTM** layer in Keras as the Recurrent Neural Network.\n",
        "\n",
        "If you would like to follow up all the tutorials, please **subcribe** to [my YouTube Channel](https://www.youtube.com/channel/UCrCxCxTFL2ytaDrDYrN4_eA/playlists) or **follow** [my blog on Medium](https://medium.com/@kmkarakaya). Do not forget to turn on **Notifications** so that you will be notified when ***new parts are uploaded***.\n",
        "\n",
        "You can access this **Colab Notebook** using [the link](https://colab.research.google.com/drive/1TNUB8vsZimVZl_wktWS1ac4wyw8kaNLW?usp=sharing) given in the video descriptions below.\n",
        "\n",
        "If you are ready, let's get started!\n"
      ]
    },
    {
      "cell_type": "markdown",
      "metadata": {
        "id": "fb1AyAy-3Vfo"
      },
      "source": [
        "---\n",
        "# References:"
      ]
    },
    {
      "cell_type": "markdown",
      "metadata": {
        "id": "Mi1tgH2TAFsB"
      },
      "source": [
        "**Blogs**:\n",
        "\n",
        "* [tf.keras.layers.LSTM official website](https://www.tensorflow.org/api_docs/python/tf/keras/layers/LSTM)\n",
        "\n",
        "* [A ten-minute introduction to sequence-to-sequence learning in Keras by Francois Chollet](https://blog.keras.io/a-ten-minute-introduction-to-sequence-to-sequence-learning-in-keras.html)\n",
        "\n",
        "* [How to Develop an Encoder-Decoder Model with Attention in Keras by Jason Brownlee](https://machinelearningmastery.com/encoder-decoder-attention-sequence-to-sequence-prediction-keras/)\n",
        "\n",
        "**Presentations:**\n",
        "\n",
        "* [LSTM from a programmer's perspective by Murat Karakaya Akademi](https://github.com/kmkarakaya/ML_tutorials/raw/bf15d1d5aebd23e05420c12f3c954abea9204b1f/ppt/HOW%20KERAS%20LSTM%20WORKS.pptx)\n",
        "\n",
        "**Videos:**\n",
        "* [LSTM from scratch by Murat Karakaya Akademi](https://youtu.be/7nnSjZBJVDs)\n",
        "\n",
        "**Notebooks**:\n",
        "* [LSTM intro by Murat Karakaya Akademi](https://colab.research.google.com/drive/1kG5pUczEtqdDtMHiNL-mvgTi-5-Y058t?usp=sharing)\n",
        "* [Recap LSTM outputs by Murat Karakaya Akademi](https://colab.research.google.com/drive/1nUazJkXcRZi-XiXCr6sEgCy2Z5Mhze1n?usp=sharing)\n",
        "\n"
      ]
    },
    {
      "cell_type": "markdown",
      "metadata": {
        "id": "lQW-e4UkraAu"
      },
      "source": [
        "---\n",
        "# Preparation"
      ]
    },
    {
      "cell_type": "code",
      "execution_count": 1,
      "metadata": {
        "colab": {
          "base_uri": "https://localhost:8080/"
        },
        "id": "ejlCnWNlFzdm",
        "outputId": "36e33699-e3a7-4a32-a51a-1e606265246f"
      },
      "outputs": [
        {
          "name": "stderr",
          "output_type": "stream",
          "text": [
            "UsageError: Line magic function `%tensorflow_version` not found.\n"
          ]
        }
      ],
      "source": [
        "#@title Check GPU\n",
        "%tensorflow_version 2.x\n",
        "import tensorflow as tf\n",
        "device_name = tf.test.gpu_device_name()\n",
        "if device_name != '/device:GPU:0':\n",
        "  print('GPU device not found')\n",
        "else:\n",
        "  print('Found GPU at: {}'.format(device_name))"
      ]
    },
    {
      "cell_type": "code",
      "execution_count": 2,
      "metadata": {
        "cellView": "form",
        "colab": {
          "base_uri": "https://localhost:8080/"
        },
        "id": "IC4MdzOhgwRg",
        "outputId": "b9b00e4e-6850-4941-d11b-0e8045df88ac"
      },
      "outputs": [
        {
          "name": "stdout",
          "output_type": "stream",
          "text": [
            "Looking in indexes: https://pypi.org/simple, https://pypi.ngc.nvidia.com\n",
            "Requirement already satisfied: ipython-autotime in /home/martin/anaconda3/envs/mli/lib/python3.8/site-packages (0.3.1)\n",
            "Requirement already satisfied: ipython in /home/martin/anaconda3/envs/mli/lib/python3.8/site-packages (from ipython-autotime) (7.29.0)\n",
            "Requirement already satisfied: pexpect>4.3 in /home/martin/anaconda3/envs/mli/lib/python3.8/site-packages (from ipython->ipython-autotime) (4.8.0)\n",
            "Requirement already satisfied: pygments in /home/martin/anaconda3/envs/mli/lib/python3.8/site-packages (from ipython->ipython-autotime) (2.10.0)\n",
            "Requirement already satisfied: jedi>=0.16 in /home/martin/anaconda3/envs/mli/lib/python3.8/site-packages (from ipython->ipython-autotime) (0.18.0)\n",
            "Requirement already satisfied: traitlets>=4.2 in /home/martin/anaconda3/envs/mli/lib/python3.8/site-packages (from ipython->ipython-autotime) (5.1.1)\n",
            "Requirement already satisfied: setuptools>=18.5 in /home/martin/anaconda3/envs/mli/lib/python3.8/site-packages (from ipython->ipython-autotime) (49.6.0)\n",
            "Requirement already satisfied: decorator in /home/martin/anaconda3/envs/mli/lib/python3.8/site-packages (from ipython->ipython-autotime) (5.1.0)\n",
            "Requirement already satisfied: pickleshare in /home/martin/anaconda3/envs/mli/lib/python3.8/site-packages (from ipython->ipython-autotime) (0.7.5)\n",
            "Requirement already satisfied: prompt-toolkit!=3.0.0,!=3.0.1,<3.1.0,>=2.0.0 in /home/martin/anaconda3/envs/mli/lib/python3.8/site-packages (from ipython->ipython-autotime) (3.0.20)\n",
            "Requirement already satisfied: backcall in /home/martin/anaconda3/envs/mli/lib/python3.8/site-packages (from ipython->ipython-autotime) (0.2.0)\n",
            "Requirement already satisfied: matplotlib-inline in /home/martin/anaconda3/envs/mli/lib/python3.8/site-packages (from ipython->ipython-autotime) (0.1.2)\n",
            "Requirement already satisfied: parso<0.9.0,>=0.8.0 in /home/martin/anaconda3/envs/mli/lib/python3.8/site-packages (from jedi>=0.16->ipython->ipython-autotime) (0.8.3)\n",
            "Requirement already satisfied: ptyprocess>=0.5 in /home/martin/anaconda3/envs/mli/lib/python3.8/site-packages (from pexpect>4.3->ipython->ipython-autotime) (0.7.0)\n",
            "Requirement already satisfied: wcwidth in /home/martin/anaconda3/envs/mli/lib/python3.8/site-packages (from prompt-toolkit!=3.0.0,!=3.0.1,<3.1.0,>=2.0.0->ipython->ipython-autotime) (0.2.5)\n",
            "time: 209 µs (started: 2022-11-05 13:44:52 +01:00)\n"
          ]
        }
      ],
      "source": [
        "#@title Time\n",
        "!pip install ipython-autotime\n",
        "\n",
        "%load_ext autotime"
      ]
    },
    {
      "cell_type": "code",
      "execution_count": 3,
      "metadata": {
        "cellView": "form",
        "colab": {
          "base_uri": "https://localhost:8080/"
        },
        "id": "J9ZhrUeTDsx-",
        "outputId": "e47e78ee-5c7e-4737-eacb-5fec05dccc05"
      },
      "outputs": [
        {
          "name": "stdout",
          "output_type": "stream",
          "text": [
            "time: 6.51 s (started: 2022-11-05 13:44:52 +01:00)\n"
          ]
        }
      ],
      "source": [
        "#@title Import Libraries\n",
        "from random import randint\n",
        "from numpy import array\n",
        "from numpy import argmax\n",
        "import keras.backend as K\n",
        "from tensorflow.keras import models\n",
        "from numpy import array_equal\n",
        "import numpy as np\n",
        "from tensorflow.keras.models import Sequential, Model\n",
        "from tensorflow.keras.layers import LSTM, Bidirectional\n",
        "from tensorflow.keras.layers import Dense, Flatten\n",
        "from tensorflow.keras import Input\n",
        "from tensorflow.keras.layers import TimeDistributed\n",
        "from tensorflow.keras.layers import RepeatVector\n",
        "from tensorflow.keras.callbacks import EarlyStopping\n",
        "from tensorflow.keras.utils import plot_model\n",
        "from tensorflow.keras.models import load_model\n",
        "import matplotlib.pyplot as plt\n",
        "\n",
        "from tensorflow.keras.layers import Lambda\n",
        "from tensorflow.keras import backend as K"
      ]
    },
    {
      "cell_type": "code",
      "execution_count": 4,
      "metadata": {
        "cellView": "form",
        "colab": {
          "base_uri": "https://localhost:8080/"
        },
        "id": "feLfHoNmBeXu",
        "outputId": "8e1cec1a-0578-446a-a149-21fa475309e7"
      },
      "outputs": [
        {
          "name": "stdout",
          "output_type": "stream",
          "text": [
            "time: 1.24 ms (started: 2022-11-05 13:44:59 +01:00)\n"
          ]
        }
      ],
      "source": [
        "#@title Functions to generate Seq2Seq Dataset, one hot encode / decode Input & Output Sequences\n",
        "\n",
        "\n",
        "# generate a sequence of random integers\n",
        "def generate_sequence(length, n_unique):\n",
        "\treturn [randint(0, n_unique-1) for _ in range(length)]\n",
        "\n",
        "# one hot encode sequence\n",
        "def one_hot_encode(sequence, n_unique):\n",
        "\tencoding = list()\n",
        "\tfor value in sequence:\n",
        "\t\tvector = [0 for _ in range(n_unique)]\n",
        "\t\tvector[value] = 1\n",
        "\t\tencoding.append(vector)\n",
        "\treturn array(encoding)\n",
        "\n",
        "# decode a one hot encoded string\n",
        "def one_hot_decode(encoded_seq):\n",
        "\treturn [argmax(vector) for vector in encoded_seq]\n",
        "\n",
        "# prepare data for the LSTM\n",
        "def get_reversed_pairs(time_steps,vocabulary_size,verbose= False):\n",
        "\t# generate random sequence\n",
        "\tsequence_in = generate_sequence(time_steps, vocabulary_size)\n",
        "\tsequence_out = sequence_in[::-1]\n",
        "\t\n",
        "\t# one hot encode\n",
        "\tX = one_hot_encode(sequence_in, vocabulary_size)\n",
        "\ty = one_hot_encode(sequence_out, vocabulary_size)\n",
        "\t# reshape as 3D\n",
        "\tX = X.reshape((1, X.shape[0], X.shape[1]))\n",
        "\ty = y.reshape((1, y.shape[0], y.shape[1]))\n",
        "\n",
        "\tif(verbose):\n",
        "\t\tprint('\\nSample X and y')\n",
        "\t\tprint('\\nIn raw format:')\n",
        "\t\tprint('X=%s, y=%s' % (one_hot_decode(X[0]), one_hot_decode(y[0])))\n",
        "\t\tprint('\\nIn one_hot_encoded format:')\n",
        "\t\tprint('X=%s' % (X[0]))\n",
        "\t\tprint('y=%s' % (y[0]))\n",
        "\treturn X,y\n",
        "\n",
        "\n",
        "def create_dataset(train_size, test_size, time_steps,vocabulary_size, verbose= False):\n",
        "\tpairs = [get_reversed_pairs(time_steps,vocabulary_size) for _ in range(train_size)]\n",
        "\tpairs=np.array(pairs).squeeze()\n",
        "\tX_train = pairs[:,0]\n",
        "\ty_train = pairs[:,1]\n",
        "\tpairs = [get_reversed_pairs(time_steps,vocabulary_size) for _ in range(test_size)]\n",
        "\tpairs=np.array(pairs).squeeze()\n",
        "\tX_test = pairs[:,0]\n",
        "\ty_test = pairs[:,1]\t\n",
        "\n",
        "\tif(verbose):\n",
        "\t\tprint('\\nGenerated sequence datasets as follows')\n",
        "\t\tprint('X_train.shape: ', X_train.shape,'y_train.shape: ', y_train.shape)\n",
        "\t\tprint('X_test.shape: ', X_test.shape,'y_test.shape: ', y_test.shape)\n",
        "\t\n",
        "\treturn X_train, y_train, X_test, \ty_test"
      ]
    },
    {
      "cell_type": "code",
      "execution_count": 5,
      "metadata": {
        "colab": {
          "base_uri": "https://localhost:8080/"
        },
        "id": "JHDIEj53Dj5p",
        "outputId": "4f1e5502-0748-483f-dcdc-62140a405b59"
      },
      "outputs": [
        {
          "name": "stdout",
          "output_type": "stream",
          "text": [
            "time: 1.24 ms (started: 2022-11-05 13:44:59 +01:00)\n"
          ]
        }
      ],
      "source": [
        "#@title Function to Train & Test  given model (Early Stopping monitor 'val_loss')\n",
        "def train_test(model, X_train, y_train , X_test, \ty_test, epochs=500, batch_size=32, patience=5,verbose=0):\n",
        "\t# patient early stopping\n",
        "\t#es = EarlyStopping(monitor='val_accuracy', mode='max', min_delta=1, patience=20)\n",
        "\tes = EarlyStopping(monitor='val_loss', mode='min', verbose=1, patience=patience)\n",
        "\t# train model\n",
        "\tprint('training for ',epochs,' epochs begins with EarlyStopping(monitor= val_loss, patience=',patience,')....')\n",
        "\thistory=model.fit(X_train, y_train, validation_split= 0.1, epochs=epochs,batch_size=batch_size, verbose=verbose, callbacks=[es])\n",
        "\tprint(epochs,' epoch training finished...')\n",
        "\n",
        "\t# report training\n",
        "\t# list all data in history\n",
        "\t#print(history.history.keys())\n",
        "\t# evaluate the model\n",
        "\t_, train_acc = model.evaluate(X_train, y_train, batch_size=batch_size, verbose=0)\n",
        "\t_, test_acc = model.evaluate(X_test, \ty_test, batch_size=batch_size, verbose=0)\n",
        "\tprint('\\nPREDICTION ACCURACY (%):')\n",
        "\tprint('Train: %.3f, Test: %.3f' % (train_acc*100, test_acc*100))\n",
        "\t# summarize history for accuracy\n",
        "\tplt.plot(history.history['accuracy'])\n",
        "\tplt.plot(history.history['val_accuracy'])\n",
        "\tplt.title(model.name+' accuracy')\n",
        "\tplt.ylabel('accuracy')\n",
        "\tplt.xlabel('epoch')\n",
        "\tplt.legend(['train', 'val'], loc='upper left')\n",
        "\tplt.show()\n",
        "\t# summarize history for loss\n",
        "\tplt.plot(history.history['loss'])\n",
        "\tplt.plot(history.history['val_loss'])\n",
        "\tplt.title(model.name+' loss')\n",
        "\tplt.ylabel('loss')\n",
        "\tplt.xlabel('epoch')\n",
        "\tplt.legend(['train', 'val'], loc='upper left')\n",
        "\tplt.show()\n",
        "\n",
        "\n",
        "\n",
        "\n",
        "  \n",
        "\t# spot check some examples\n",
        "\tspace = 3*len(one_hot_decode(y_test[0]))\n",
        "\tprint('10 examples from test data...')\n",
        "\tprint('Input',' '*(space-4) ,'Expected',' '*(space-7) ,\n",
        "\t      'Predicted',' '*(space-5) ,'T/F')\n",
        "\tcorrect =0 \n",
        "\tsampleNo =  10\n",
        "\n",
        "\tpredicted= model.predict(X_test[:sampleNo], batch_size=batch_size)\n",
        "\tfor sample in range(0,sampleNo):\n",
        "\t\tif (one_hot_decode(y_test[sample])== one_hot_decode(predicted[sample])):\n",
        "\t\t\tcorrect+=1\n",
        "\t\tprint( one_hot_decode(X_test[0][sample]), ' ', \n",
        "\t\t\t\t\tone_hot_decode(y_test[sample]),' ', one_hot_decode(predicted[sample]),\n",
        "\t\t\t\t\t' ',one_hot_decode(y_test[sample])== one_hot_decode(predicted[sample]))\n",
        "\tprint('Accuracy: ', correct/sampleNo)\n",
        "\t\n"
      ]
    },
    {
      "cell_type": "markdown",
      "metadata": {
        "id": "N9HZ0Ft-s2sF"
      },
      "source": [
        "---\n",
        "# SEQ2SEQ LEARNING SERIES:\n",
        "* This is the **Part D** of the Seq2Seq Learning series.\n",
        "\n",
        "* **Please check out the previous parts** to ***refresh*** the necessary background knowledge in order to follow this part with ease."
      ]
    },
    {
      "cell_type": "markdown",
      "metadata": {
        "id": "N22d2bW1tDbJ"
      },
      "source": [
        "You can access all my **SEQ2SEQ Learning** videos on **[Murat Karakaya Akademi Youtube channel](https://www.youtube.com/channel/UCrCxCxTFL2ytaDrDYrN4_eA/playlists?view=1&flow=grid)** in [ENGLISH](https://www.youtube.com/playlist?list=PLQflnv_s49v-4aH-xFcTykTpcyWSY4Tww) or in [TURKISH](https://www.youtube.com/playlist?list=PLQflnv_s49v97hDXtCo4mgje_SEiJ0_hH)\n",
        "\n",
        "You can access to [my blog on Medium](https://medium.com/@kmkarakaya)\n",
        "\n",
        "**Part A: AN INTRODUCTION TO SEQ2SEQ LEARNING AND A SAMPLE SOLUTION WITH MLP NETWORK** \n",
        " \n",
        "   * YouTube Videos in [ENGLISH](https://youtu.be/9TEPkRLhgSc) or [TURKISH](https://youtu.be/p2QlkuV4ito) / [Medium Post](https://medium.com/@kmkarakaya/part-a-introduction-to-seq2seq-learning-a-sample-solution-with-mlp-network-95dc0bcb9c83?sk=2063e3c62b1989efedf6625ac626c2ee) / [Colab Notebook](https://colab.research.google.com/drive/1fffqeeJsY89LuxsEl_7Re33nCWGusjCj?usp=sharing)\n",
        "\n",
        "**Part B: SEQ2SEQ LEARNING WITH RECURRENT NEURAL NETWORKS (LSTM)** \n",
        "\n",
        "   * YouTube Video in [ENGLISH](https://youtu.be/7L5bkMu0Pgg) or [TURKISH](https://youtu.be/UA4rDcq5Cuo) / [Medium Post](https://medium.com/@kmkarakaya/seq2seq-part-b-using-lstm-layer-in-a-recurrent-neural-network-9be629bb71e2?source=friends_link&sk=0b6e0f34592100b991664c55061ca394) / [Colab Notebook](https://colab.research.google.com/drive/1DBaHgsoPJCoj8SXAqNqQtKqAtwrUc4qS?usp=sharing)\n",
        "\n",
        "\n",
        "**Part C: SEQ2SEQ LEARNING WITH A BASIC ENCODER DECODER MODEL** \n",
        "\n",
        "   * YouTube Video in [ENGLISH](https://youtu.be/iHJkfsV9cqY) or [TURKISH](https://youtu.be/SZNqENbc9f4)/ [Medium Post](https://medium.com/@kmkarakaya/seq2seq-part-c-basic-encoder-decoder-a7f536f5f510) / [Colab Notebook](https://colab.research.google.com/drive/1ErnVEZOmlu_nInxaoLStW0BHzgT4meVj?usp=sharing)\n",
        "\n",
        "**Part D: SEQ2SEQ LEARNING WITH AN ENCODER DECODER MODEL + TEACHER FORCING** \n",
        "\n",
        "   * YouTube Video in [ENGLISH](https://youtu.be/RRP0czWtOeM) or [TURKISH](https://youtu.be/JVIiPaCFB78) / [Medium Post](https://medium.com/@kmkarakaya/seq2seq-part-d-encoder-decoder-with-teacher-forcing-18a3a09a096) / [Colab Notebook](https://colab.research.google.com/drive/1TNUB8vsZimVZl_wktWS1ac4wyw8kaNLW?usp=sharing)\n",
        "\n",
        "**Part E: SEQ2SEQ LEARNING WITH AN ENCODER DECODER MODEL FOR VARIABLE INPUT AND OUTPUT SIZE** \n",
        "\n",
        "   * YouTube Video / Medium Post / [Colab Notebook](https://colab.research.google.com/drive/1DtOpSacgqJ1hDQ3GSx0BZgnQHrjwJAsy?usp=sharing)\n",
        "\n",
        "**Part F: SEQ2SEQ LEARNING WITH AN ENCODER DECODER MODEL + TEACHER FORCING FOR VARIABLE INPUT AND OUTPUT SIZE** \n",
        "\n",
        "   * YouTube Video / Medium Post / [Colab Notebook](https://colab.research.google.com/drive/1cxDOWY7PQSx-tRy8inE2IG7-xGpVJWNP?usp=sharing)\n",
        "\n",
        "**Part G: SEQ2SEQ LEARNING WITH AN ENCODER DECODER MODEL + BAHDANAU ATTENTION** \n",
        "\n",
        "   * YouTube Video / Medium Post / [Colab Notebook](https://colab.research.google.com/drive/1VFfeP3eiauYCRvW8vMvL0NRKaOtcGz3J?usp=sharing)\n",
        "\n",
        "\n",
        "**Part H: SEQ2SEQ LEARNING WITH AN ENCODER DECODER MODEL + LUONG ATTENTION** \n",
        "\n",
        "   * YouTube Video / Medium Post / [Colab Notebook](https://colab.research.google.com/drive/1N0ycXm7Lq3jWzbJERRy6rwL1Ux4hmlWM?usp=sharing)\n"
      ]
    },
    {
      "cell_type": "markdown",
      "metadata": {
        "id": "VYIONvLhtPJu"
      },
      "source": [
        "# WHY WE HAVE SO MANY PARTS?\n",
        "* Our aim is to code an Encoder Decoder Model with Attention. \n",
        "* However, I would like to develop the solution by showing the shortcomings of other possible approaches.\n",
        "* Therefore, in the first 2 parts, we will observe that initial models have their own weakness.\n",
        "* We also understand why Encoder Decoder paradigm is so successful.\n",
        "\n",
        "**So, please patiently follow the parts as we develop a better solution :)**"
      ]
    },
    {
      "cell_type": "markdown",
      "metadata": {
        "id": "6yVEATl8sPSq"
      },
      "source": [
        "---\n",
        "\n",
        "# A Simple Seq2Seq Problem: The reversed sequence problem\n",
        "Assume that:\n",
        "* We are given a **parallel data set** including X (input) and y (output) such that X[i] and y[i] have some relationship\n",
        "\n",
        "<br>\n",
        "\n",
        "In that tutorial, I will **generate** X and y parallel datasets such that **y sequence** will be  **the reverse of** the given **X sequence**. For example,\n",
        "\n",
        "* **Given sequence** X[i] length of 4:\n",
        "\n",
        " X[i]=[3, 2, 9, 1]\n",
        "\n",
        "* **Output sequence** (y[i]) is the **reversed** input sequence (X[i])  \n",
        "\n",
        " y[i]=[1, 9, 2, 3]\n",
        "\n",
        "I will call this parallel dataset: \"**the reversed sequence problem**\"\n",
        "\n",
        "<br>\n",
        "\n",
        "In real life (like *Machine Language Translation, Image Captioning*, etc.), we are ***given*** (or ***build***) a **parallel dataset**: X sequences and corresponding y sequences\n",
        "\n",
        "* However, to set up an ***easily traceable*** example, I opt out to set **y sequences as the reversed of X sequences**\n",
        "\n",
        "* However, you can create X and y parallel datasets as you wish: *sorted, reverse sorted, odd or even numbers selected*, etc.\n",
        "\n",
        "* We use the **parallel data set** to train a **seq2seq** model which would learn \n",
        "\n",
        "  * how to **convert/transform an input sequence from X \n",
        "to an output sequence in y**\n",
        "\n",
        "\n"
      ]
    },
    {
      "cell_type": "markdown",
      "metadata": {
        "id": "P4K16OTwtwU6"
      },
      "source": [
        "**IMPORTANT**: \n",
        "* In the reversed sequence problem, **the input & output sequence lengths are fixed and same**. \n",
        "* **In PART E**, we will change the problem and the solution such that we will be dealing with variable-length sequnces after we built the encoder-decoder model. \n",
        "\n",
        "## Configure the problem\n",
        "* **Number of Input Timesteps:** how many tokens / distict events /numbers / word etc in the input sequence \n",
        "* **Number of Features:** how many features/dimensions used to represent one tokens / distict events / numbers / word etc\n",
        "* Here, we use one-hot encoding to represent the integers.\n",
        "* The **length** of the one-hot coding vector is **Number of Features**\n",
        "* Thus, the greatest integer will be **Number of Features-1**\n",
        "* When **Number of Features=10** the **greatest integer will be 9** and will be represents as **[0 0 0 0 0 0 0 0 0 1]**"
      ]
    },
    {
      "cell_type": "code",
      "execution_count": 6,
      "metadata": {
        "cellView": "form",
        "colab": {
          "base_uri": "https://localhost:8080/"
        },
        "id": "4QW42m7LCHtO",
        "outputId": "c23b06d0-d826-4781-a9eb-94a457b4a495"
      },
      "outputs": [
        {
          "name": "stdout",
          "output_type": "stream",
          "text": [
            "\n",
            "Sample X and y\n",
            "\n",
            "In raw format:\n",
            "X=[9, 2, 9, 4], y=[4, 9, 2, 9]\n",
            "\n",
            "In one_hot_encoded format:\n",
            "X=[[0 0 0 0 0 0 0 0 0 1]\n",
            " [0 0 1 0 0 0 0 0 0 0]\n",
            " [0 0 0 0 0 0 0 0 0 1]\n",
            " [0 0 0 0 1 0 0 0 0 0]]\n",
            "y=[[0 0 0 0 1 0 0 0 0 0]\n",
            " [0 0 0 0 0 0 0 0 0 1]\n",
            " [0 0 1 0 0 0 0 0 0 0]\n",
            " [0 0 0 0 0 0 0 0 0 1]]\n",
            "\n",
            "Generated sequence datasets as follows\n",
            "X_train.shape:  (2000, 4, 10) y_train.shape:  (2000, 4, 10)\n",
            "X_test.shape:  (200, 4, 10) y_test.shape:  (200, 4, 10)\n",
            "time: 50.5 ms (started: 2022-11-05 13:44:59 +01:00)\n"
          ]
        }
      ],
      "source": [
        "#@title Configure problem\n",
        "\n",
        "n_timesteps_in =   4#@param {type:\"integer\"}\n",
        "#each input sample has 4 values\n",
        "\n",
        "n_features = 10   #@param {type:\"integer\"}\n",
        "#each value is one_hot_encoded with 10 0/1\n",
        "#n_timesteps_out = 2  #@param {type:\"integer\"}\n",
        "#each output sample has 2 values padded with 0\n",
        "\n",
        "# generate random sequence\n",
        "X,y = get_reversed_pairs(n_timesteps_in,  n_features, verbose=True)\n",
        "# generate datasets\n",
        "train_size= 2000 #@param {type:\"integer\"}\n",
        "test_size = 200  #@param {type:\"integer\"}\n",
        "\n",
        "X_train, y_train , X_test, \ty_test=create_dataset(train_size, test_size, n_timesteps_in,n_features , verbose=True)\n",
        "\n"
      ]
    },
    {
      "cell_type": "markdown",
      "metadata": {
        "id": "IZbucJKIt-nI"
      },
      "source": [
        "# Before starting, **you need to know**:\n",
        "* Python\n",
        "* Keras/TF\n",
        "* Deep Neural Networks\n",
        "* **Recurrent Neural Network concepts**\n",
        "* **LSTM** parameters and outputs\n",
        "* Keras **Functional** API\n",
        "* Basics of **Encoder Decoder** approach\n",
        "\n",
        "If you would like to refresh your knowledge about above topics please check Murat Karakaya Akademi resources on [YouTube](https://www.youtube.com/channel/UCrCxCxTFL2ytaDrDYrN4_eA/playlists?view=1&flow=grid) / [Medium](https://medium.com/@kmkarakaya) / COLAB "
      ]
    },
    {
      "cell_type": "markdown",
      "metadata": {
        "id": "896tAu6Rue5G"
      },
      "source": [
        "## A Quick Reminder: Encoder & Decoder\n",
        "* **Ecoder** encodes the input into a **new representation** \n",
        "* **Decoder** decodes the encoded **representation** of the input into output\n",
        "\n",
        "Note: There are other porposed methods to solve seq2seq problems such as Conv models or Reinforcement methods. In this tutorial we focus on Enoder- Decoder architecture.\n",
        "\n",
        "<img src=\"https://static.packt-cdn.com/products/9781788624336/graphics/69abba8d-f902-43a9-8701-684941d1baf2.png\" width=\"500\">\n",
        "\n",
        "\n",
        "[Image taken from here](https://subscription.packtpub.com/book/big_data_and_business_intelligence/9781788624336/8/ch08lvl1sec48/encoder-decoder-architecture)\n",
        "\n",
        "\n"
      ]
    },
    {
      "cell_type": "markdown",
      "metadata": {
        "id": "n0ztyXpsvVU1"
      },
      "source": [
        "## Key Concepts \n",
        "* **Training**: During training, we train the encoder and decoder such that they work together to create a context (representation) between input and output\n",
        "* **Inference** (Prediction): After learning how to create the context (representation), they can work together to predict the output\n",
        "* **Encode all- decode one at a time**: Mostly, encoder reads all the input sequence and create a context (representation) vector. Decoder use this context (representation) vector and previously decoded result to create new output step by step.\n",
        "\n",
        "* **Teacher forcing**: During **training** decoder receives the **correct** output from the training set as the previously decoded result to predict the next output. However, during **inference** decoder receives the ***previously decoded result*** to predict the next output. Teacher forcing improves training process.\n",
        "\n",
        "\n",
        "\n",
        "\n",
        "**DO NOT WORRY! WE WILL SEE ALL ABOVE CONCEPTS IN ACTION BELOW!**"
      ]
    },
    {
      "cell_type": "code",
      "execution_count": 7,
      "metadata": {
        "cellView": "form",
        "colab": {
          "base_uri": "https://localhost:8080/"
        },
        "id": "hLsUZm32wEm9",
        "outputId": "b250e2b4-e931-4204-bfdd-8554e4dec020"
      },
      "outputs": [
        {
          "name": "stdout",
          "output_type": "stream",
          "text": [
            "time: 253 µs (started: 2022-11-05 13:44:59 +01:00)\n"
          ]
        }
      ],
      "source": [
        "#@title LSTMoutputDimension\n",
        "LSTMoutputDimension = 16 #@param {type:\"integer\"}\n"
      ]
    },
    {
      "cell_type": "markdown",
      "metadata": {
        "id": "3X8FnbEQ53O1"
      },
      "source": [
        "### HOW TO TRAIN A GENERIC ENCODER - DECODER\n",
        "* Decoder produce the output sequece one by one \n",
        "* For each output, the decoder consumes a context vector and an input\n",
        "* The **initial** **context** vector is created by the encoder\n",
        "* The **initial input** is a special symbol for decoder to make it start, e.g. '***start***'\n",
        "* Using initial context and initial input, decoder will generate **first output**\n",
        "* For the next output, decoder will use its **current state** ***as context vector*** and **generated (predicted) output** as ***input***\n",
        "* Decoder will work in such a **loop** using its state and output as the next step context vector and input **until** the generated output is a special symbol '***stop***' or the ***pre-defined maximum steps*** (length of output) is reached.\n",
        "\n"
      ]
    },
    {
      "cell_type": "markdown",
      "metadata": {
        "id": "FjfwRC9YrWxg"
      },
      "source": [
        "<img src=\"https://blog.keras.io/img/seq2seq/seq2seq-inference.png\" width=\"700\">\n",
        "\n",
        "[Image taken from here](https://blog.keras.io/a-ten-minute-introduction-to-sequence-to-sequence-learning-in-keras.html)"
      ]
    },
    {
      "cell_type": "markdown",
      "metadata": {
        "id": "k0Cg5OFAnp09"
      },
      "source": [
        "### HOW TO USE A GENERIC ENCODER - DECODER FOR INFERENCE (PREDICTION)\n",
        "* We provide input sequence (X_test) to the trained encoder - decoder model\n",
        "* The trained encoder - decoder model outputs the predicted sequence"
      ]
    },
    {
      "cell_type": "markdown",
      "metadata": {
        "id": "7cv23bnVmSD2"
      },
      "source": [
        "### HOW TO TRAIN AN ENCODER - DECODER  WITH TEACHER FORCING  \n",
        "The initial steps are the same:\n",
        "* Decoder produce the output sequece one by one \n",
        "* For each output, the decoder consumes a context vector and an input\n",
        "* The **initial** **context** vector is created by the encoder\n",
        "* The **initial input** is a special symbol for decoder to make it start, e.g. '***start***'\n",
        "* Using initial context and initial input, decoder will generate **first output**\n",
        "\n"
      ]
    },
    {
      "cell_type": "markdown",
      "metadata": {
        "id": "RAh7cP5jw94I"
      },
      "source": [
        "<img src=\"https://blog.keras.io/img/seq2seq/seq2seq-teacher-forcing.png\" width=\"700\">\n",
        "\n",
        "[Image taken from here](https://blog.keras.io/a-ten-minute-introduction-to-sequence-to-sequence-learning-in-keras.html)"
      ]
    },
    {
      "cell_type": "markdown",
      "metadata": {
        "id": "P_oWYI-cwmWu"
      },
      "source": [
        "**However, the input to the decoder during the loop is different**\n",
        "* For the next output, \n",
        "  * decoder will use its **current state** ***as context vector*** <s> and **generated (predicted) output** as ***input*** </s>\n",
        "  * we (*the teacher!*) provide **the correct output** to the decoder  as ***input***\n",
        "  * **The difference is**: decoder use the context vector and the correct input to next output rather than using its prediction in previous cycle\n",
        "* Decoder will work in such a **loop** using its state and <s>output</s> provided correct output as the next step context vector and input **until** the generated output is a special symbol '***stop***' or the ***pre-defined maximum steps*** (length of output) is reached.\n",
        "\n",
        "\n"
      ]
    },
    {
      "cell_type": "markdown",
      "metadata": {
        "id": "zFGR-ViKxhA9"
      },
      "source": [
        "Therefore, we need to provide **2 input sequences** to train AN ENCODER - DECODER  WITH TEACHER FORCING such that\n",
        "1. input to encoder: [4 7 2 8]\n",
        "2. input to decoder: [0 8 2 7]\n",
        "\n",
        "**Note that**: \n",
        "* Expected output is [8 2 7 4] ----***reverse of input to encoder***\n",
        "* ***0 (zero)*** is selected as special symbol for '**start**'\n",
        "* **input to decoder** is created by **shifting** the expected output by one time steps and  **adding** '*start*' token as the first token: \n",
        "\n",
        "  [8 2 7 4] **------>** [*0 8 2 7*]\n",
        "\n",
        "\n",
        " \n"
      ]
    },
    {
      "cell_type": "markdown",
      "metadata": {
        "id": "4mqbvwkq142h"
      },
      "source": [
        "\n",
        "\n",
        "```\n",
        "`# This is formatted as code`\n",
        "```\n",
        "\n",
        "![image.png](data:image/png;base64,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)"
      ]
    },
    {
      "cell_type": "markdown",
      "metadata": {
        "id": "GUForrrZ0aj9"
      },
      "source": [
        "**During training:**\n",
        "* At the **first** cycle, **decoder** will use encoder's state and its first input which is 0 from ***decoder input sequence*** [0 8 2 7] to generate the first output which is expected to be 8 from [8 2 7 4]\n",
        "* Assume that decoder predicts ***7***\n",
        "  * In **generic** Encoder-Decoder model, ***decoder*** will use 7 to generate/predict next token \n",
        "  * In **teacher forcing**, we (the teacher!) provide the second input from [0 **8** 2 7] which is **8** to the decoder to generate/predict next token \n",
        "\n",
        "Thus,  **during training**,  *teacher* enforces the decoder to condition itself to generate/predict next token according to the **given correct input**!"
      ]
    },
    {
      "cell_type": "markdown",
      "metadata": {
        "id": "Xmd9BNzD8Sgb"
      },
      "source": [
        "### HOW TO USE AN ENCODER - DECODER MODEL TRAINED WITH TEACHER FORCING FOR INFERENCE (PREDICTION)\n",
        "\n",
        "* We need 2 input sequences:\n",
        "1. Input for encoder: ***encoder_inputs***\n",
        "2. Input for decoder: ***decoder_inputs***\n",
        "\n",
        "* The ***encoder_inputs*** is given \n",
        "* However, this time we do not have correct outputs\n",
        "* Therefore,  we will provide the **predicted output** as the input. \n",
        "* The first input is '*start*' and the other inputs will be the outputs from previous cycle"
      ]
    },
    {
      "cell_type": "markdown",
      "metadata": {
        "id": "_NiljzZERf65"
      },
      "source": [
        "#### CREATE AN ENCODER - DECODER MODEL WITH TEACHER FORCING TO TRAIN\n",
        "* Define the model that will turn `encoder_input_data` & `decoder_input_data` into `decoder_predicted_data`\n",
        "\n",
        "* complete the decoder model by adding a **Dense** layer with **Softmax** activation function for prediction of the next output\n",
        "* Dense layer will output **one-hot encoded representation** as we did for input\n",
        "* Therefore, we will use **n_features** number of neurons\n"
      ]
    },
    {
      "cell_type": "code",
      "execution_count": 8,
      "metadata": {
        "colab": {
          "base_uri": "https://localhost:8080/"
        },
        "id": "c8APiln9hECa",
        "outputId": "125c6c22-b7a2-46ae-d48a-1c14ce663a4b"
      },
      "outputs": [
        {
          "name": "stderr",
          "output_type": "stream",
          "text": [
            "2022-11-05 13:44:59.589899: I tensorflow/stream_executor/cuda/cuda_gpu_executor.cc:939] successful NUMA node read from SysFS had negative value (-1), but there must be at least one NUMA node, so returning NUMA node zero\n",
            "2022-11-05 13:44:59.590505: I tensorflow/stream_executor/cuda/cuda_gpu_executor.cc:939] successful NUMA node read from SysFS had negative value (-1), but there must be at least one NUMA node, so returning NUMA node zero\n",
            "2022-11-05 13:45:02.923191: I tensorflow/stream_executor/cuda/cuda_gpu_executor.cc:939] successful NUMA node read from SysFS had negative value (-1), but there must be at least one NUMA node, so returning NUMA node zero\n",
            "2022-11-05 13:45:02.923815: I tensorflow/stream_executor/cuda/cuda_gpu_executor.cc:939] successful NUMA node read from SysFS had negative value (-1), but there must be at least one NUMA node, so returning NUMA node zero\n",
            "2022-11-05 13:45:02.924150: I tensorflow/stream_executor/cuda/cuda_gpu_executor.cc:939] successful NUMA node read from SysFS had negative value (-1), but there must be at least one NUMA node, so returning NUMA node zero\n",
            "2022-11-05 13:45:02.926071: I tensorflow/stream_executor/cuda/cuda_gpu_executor.cc:939] successful NUMA node read from SysFS had negative value (-1), but there must be at least one NUMA node, so returning NUMA node zero\n",
            "2022-11-05 13:45:02.926367: I tensorflow/core/common_runtime/gpu/gpu_device.cc:1932] Ignoring visible gpu device (device: 1, name: NVIDIA GeForce GT 710, pci bus id: 0000:08:00.0, compute capability: 3.5) with core count: 1. The minimum required count is 8. You can adjust this requirement with the env var TF_MIN_GPU_MULTIPROCESSOR_COUNT.\n",
            "2022-11-05 13:45:02.926862: I tensorflow/core/platform/cpu_feature_guard.cc:151] This TensorFlow binary is optimized with oneAPI Deep Neural Network Library (oneDNN) to use the following CPU instructions in performance-critical operations:  AVX2 FMA\n",
            "To enable them in other operations, rebuild TensorFlow with the appropriate compiler flags.\n",
            "2022-11-05 13:45:02.970585: I tensorflow/stream_executor/cuda/cuda_gpu_executor.cc:939] successful NUMA node read from SysFS had negative value (-1), but there must be at least one NUMA node, so returning NUMA node zero\n",
            "2022-11-05 13:45:02.971164: I tensorflow/stream_executor/cuda/cuda_gpu_executor.cc:939] successful NUMA node read from SysFS had negative value (-1), but there must be at least one NUMA node, so returning NUMA node zero\n",
            "2022-11-05 13:45:02.971705: I tensorflow/stream_executor/cuda/cuda_gpu_executor.cc:939] successful NUMA node read from SysFS had negative value (-1), but there must be at least one NUMA node, so returning NUMA node zero\n",
            "2022-11-05 13:45:08.532130: I tensorflow/stream_executor/cuda/cuda_gpu_executor.cc:939] successful NUMA node read from SysFS had negative value (-1), but there must be at least one NUMA node, so returning NUMA node zero\n",
            "2022-11-05 13:45:08.532705: I tensorflow/stream_executor/cuda/cuda_gpu_executor.cc:939] successful NUMA node read from SysFS had negative value (-1), but there must be at least one NUMA node, so returning NUMA node zero\n",
            "2022-11-05 13:45:08.533235: I tensorflow/stream_executor/cuda/cuda_gpu_executor.cc:939] successful NUMA node read from SysFS had negative value (-1), but there must be at least one NUMA node, so returning NUMA node zero\n",
            "2022-11-05 13:45:08.533786: I tensorflow/core/common_runtime/gpu/gpu_device.cc:1525] Created device /job:localhost/replica:0/task:0/device:GPU:0 with 9641 MB memory:  -> device: 0, name: NVIDIA GeForce RTX 2080 Ti, pci bus id: 0000:07:00.0, compute capability: 7.5\n"
          ]
        },
        {
          "name": "stdout",
          "output_type": "stream",
          "text": [
            "time: 9.63 s (started: 2022-11-05 13:44:59 +01:00)\n"
          ]
        }
      ],
      "source": [
        "# TRAINING WITH TEACHER FORCING\n",
        "\n",
        "# Define an input sequence and process it.\n",
        "encoder_inputs= Input(shape=(n_timesteps_in, n_features))\n",
        "encoder_lstm=LSTM(LSTMoutputDimension, return_state=True)\n",
        "LSTM_outputs, state_h, state_c = encoder_lstm(encoder_inputs)\n",
        "\n",
        "\n",
        "# We discard `LSTM_outputs` and only keep the other states.\n",
        "encoder_states = [state_h, state_c]\n",
        "\n",
        "\n",
        "\n",
        "decoder_inputs = Input(shape=(None, n_features), name='decoder_inputs')\n",
        "decoder_lstm = LSTM(LSTMoutputDimension, return_sequences=True, return_state=True, name='decoder_lstm')\n",
        "\n",
        "# Set up the decoder, using `context vector` as initial state.\n",
        "decoder_outputs, _, _ = decoder_lstm(decoder_inputs,\n",
        "                                     initial_state=encoder_states)\n",
        "\n",
        "#complete the decoder model by adding a Dense layer with Softmax activation function \n",
        "#for prediction of the next output\n",
        "#Dense layer will output one-hot encoded representation as we did for input\n",
        "#Therefore, we will use n_features number of neurons\n",
        "decoder_dense = Dense(n_features, activation='softmax', name='decoder_dense')\n",
        "decoder_outputs = decoder_dense(decoder_outputs)\n",
        "\n",
        "# put together\n",
        "model_encoder_training = Model([encoder_inputs, decoder_inputs], decoder_outputs, name='model_encoder_training')"
      ]
    },
    {
      "cell_type": "markdown",
      "metadata": {
        "id": "Bar9GXP8lK03"
      },
      "source": [
        "* compile the model"
      ]
    },
    {
      "cell_type": "code",
      "execution_count": 9,
      "metadata": {
        "colab": {
          "base_uri": "https://localhost:8080/",
          "height": 786
        },
        "id": "chIhj-6flP8x",
        "outputId": "52e7f699-4e62-414d-a755-4be8af26edad"
      },
      "outputs": [
        {
          "name": "stdout",
          "output_type": "stream",
          "text": [
            "Model: \"model_encoder_training\"\n",
            "__________________________________________________________________________________________________\n",
            " Layer (type)                   Output Shape         Param #     Connected to                     \n",
            "==================================================================================================\n",
            " input_1 (InputLayer)           [(None, 4, 10)]      0           []                               \n",
            "                                                                                                  \n",
            " decoder_inputs (InputLayer)    [(None, None, 10)]   0           []                               \n",
            "                                                                                                  \n",
            " lstm (LSTM)                    [(None, 16),         1728        ['input_1[0][0]']                \n",
            "                                 (None, 16),                                                      \n",
            "                                 (None, 16)]                                                      \n",
            "                                                                                                  \n",
            " decoder_lstm (LSTM)            [(None, None, 16),   1728        ['decoder_inputs[0][0]',         \n",
            "                                 (None, 16),                      'lstm[0][1]',                   \n",
            "                                 (None, 16)]                      'lstm[0][2]']                   \n",
            "                                                                                                  \n",
            " decoder_dense (Dense)          (None, None, 10)     170         ['decoder_lstm[0][0]']           \n",
            "                                                                                                  \n",
            "==================================================================================================\n",
            "Total params: 3,626\n",
            "Trainable params: 3,626\n",
            "Non-trainable params: 0\n",
            "__________________________________________________________________________________________________\n"
          ]
        },
        {
          "data": {
            "image/png": "[encoded data removed]",
            "text/plain": [
              "<IPython.core.display.Image object>"
            ]
          },
          "execution_count": 9,
          "metadata": {},
          "output_type": "execute_result"
        },
        {
          "name": "stdout",
          "output_type": "stream",
          "text": [
            "time: 131 ms (started: 2022-11-05 13:45:09 +01:00)\n"
          ]
        }
      ],
      "source": [
        "model_encoder_training.compile(optimizer='adam', loss='categorical_crossentropy', metrics=['accuracy'])\n",
        "model_encoder_training.summary()\n",
        "plot_model(model_encoder_training, show_shapes=True)"
      ]
    },
    {
      "cell_type": "markdown",
      "metadata": {
        "id": "awBCSEhYlZb9"
      },
      "source": [
        "## PREPARE TRAINING DATA SETS\n",
        "* To train the Encoder Decoder model we need to work on train data set such that we will prepare 3 data sets:\n",
        "\n",
        "1. Input for encoder (***encoder_inputs***): **all** sequence of 1 sample training input data (X)\n",
        "2. Input for decoder (***decoder_inputs***): **1** token from 1 sample training target sequence (y) for teacher forcing [should start with '*start*' symbol]\n",
        "3. Target for decoder (***decoder_predicted_data***): **1** token from 1 sample training target  sequence (y) [should end with '*end*' symbol]\n"
      ]
    },
    {
      "cell_type": "markdown",
      "metadata": {
        "id": "xvoFdhrZs7P6"
      },
      "source": [
        "* We can **modify** the code such that the f**irst number (0)** of the input domian numbers are reserved for 'start' and 'end' symbols  as follows:"
      ]
    },
    {
      "cell_type": "code",
      "execution_count": 10,
      "metadata": {
        "cellView": "form",
        "colab": {
          "base_uri": "https://localhost:8080/"
        },
        "id": "vSS3wQ-ossK5",
        "outputId": "4f65328c-34b2-4909-eb6c-8a12a9b5e262"
      },
      "outputs": [
        {
          "name": "stdout",
          "output_type": "stream",
          "text": [
            "time: 1.89 ms (started: 2022-11-05 13:45:09 +01:00)\n"
          ]
        }
      ],
      "source": [
        "#@title Functions to generate Seq2Seq Dataset, one hot encode / decode Input & Output Sequences\n",
        "\n",
        "\n",
        "# generate a sequence of random integers\n",
        "def generate_sequence(length, n_unique):\n",
        "\treturn [randint(1, n_unique-1) for _ in range(length)]\n",
        "\n",
        "# one hot encode sequence\n",
        "def one_hot_encode(sequence, n_unique):\n",
        "\tencoding = list()\n",
        "\tfor value in sequence:\n",
        "\t\tvector = [0 for _ in range(n_unique)]\n",
        "\t\tvector[value] = 1\n",
        "\t\tencoding.append(vector)\n",
        "\treturn array(encoding)\n",
        "\n",
        "# decode a one hot encoded string\n",
        "def one_hot_decode(encoded_seq):\n",
        "  return [argmax(vector) for vector in encoded_seq]\n",
        "\n",
        "  # prepare encoder data for the Encoder-Decoder training\n",
        "def get_encoder_triple(time_steps,vocabulary_size,verbose= False):\n",
        "  # generate random sequence\n",
        "  sequence_in = generate_sequence(time_steps, vocabulary_size)\n",
        "\n",
        "  encoder_in = sequence_in.copy()\n",
        "  \n",
        "\n",
        "   \n",
        "  \n",
        "\n",
        "  decoder_out = sequence_in[::-1]\n",
        "  \n",
        "  decoder_in = decoder_out.copy()\n",
        "  decoder_in.insert(0,0)\n",
        "  decoder_in.pop()\n",
        "\n",
        "  # one hot encode\n",
        "  X_encoder_in = one_hot_encode(encoder_in, vocabulary_size)\n",
        "  X_decoder_in = one_hot_encode(decoder_in, vocabulary_size)\n",
        "  y_decoder_out = one_hot_encode(decoder_out, vocabulary_size)\n",
        "  # reshape as 3D\n",
        "  X_encoder_in = X_encoder_in.reshape((1, X_encoder_in.shape[0], X_encoder_in.shape[1]))\n",
        "  X_decoder_in = X_decoder_in.reshape((1, X_decoder_in.shape[0], X_decoder_in.shape[1]))\n",
        "  y_decoder_out = y_decoder_out.reshape((1, y_decoder_out.shape[0], y_decoder_out.shape[1]))\n",
        "\n",
        "  if(verbose):\n",
        "    print('\\nSample X_encoder_in X_decoder_in and y_decoder_out')\n",
        "    print('\\nIn raw format:')\n",
        "    print('X_encoder_in=%s, X_decoder_in=%s, y_decoder_out=%s' % \n",
        "          (one_hot_decode(X_encoder_in[0]), one_hot_decode(X_decoder_in[0]), \n",
        "           one_hot_decode(y_decoder_out[0])))\n",
        "    print('\\nIn one_hot_encoded format:')\n",
        "    print('X_encoder_in=%s' % (X_encoder_in[0]))\n",
        "    print('X_decoder_in=%s' % (X_decoder_in[0]))\n",
        "    print('y_decoder_out=%s' % (y_decoder_out[0]))\n",
        "  return [array(X_encoder_in), array(X_decoder_in), array(y_decoder_out)]\n",
        "\n",
        "\n",
        "def create_encoder_dataset(train_size, test_size, time_steps,vocabulary_size, verbose= False):\n",
        "\n",
        "  X_encoder_in = list()\n",
        "  X_decoder_in = list()\n",
        "  y_decoder_out = list()\n",
        "\n",
        "  for _ in range(train_size):\n",
        "    triple=get_encoder_triple(time_steps,vocabulary_size) \n",
        "    X_encoder_in.append(triple[0])\n",
        "    X_decoder_in.append(triple[1])\n",
        "    y_decoder_out.append(triple[2])\n",
        "\n",
        "  X_encoder_in= array(X_encoder_in).squeeze()\n",
        "  X_decoder_in= array(X_decoder_in).squeeze()\n",
        "  y_decoder_out= array(y_decoder_out).squeeze()\n",
        "  if(verbose):\n",
        "    print('\\nGenerated sequence datasets as follows')\n",
        "    print('X_encoder_in.shape: ', X_encoder_in.shape)\n",
        "    print('X_decoder_in.shape: ', X_decoder_in.shape)\n",
        "    print('y_decoder_pred_out.shape: ', y_decoder_out.shape)\n",
        "    print('Sample sequences in raw format:')\n",
        "    \n",
        "    print('X_encoder_in: \\n', one_hot_decode(X_encoder_in[0]))\n",
        "    print('X_decoder_in: \\n', one_hot_decode(X_decoder_in[0]))\n",
        "    print('y_decoder_pred_out: \\n',one_hot_decode(y_decoder_out[0]))\n",
        "\n",
        "    print('Sample sequences in one-hot encoded format:')\n",
        "    print('X_encoder_in: \\n', X_encoder_in[0])\n",
        "    print('X_decoder_in: \\n', X_decoder_in[0])\n",
        "    print('y_decoder_pred_out: \\n', y_decoder_out[0])\n",
        "\n",
        "  return X_encoder_in,X_decoder_in, y_decoder_out"
      ]
    },
    {
      "cell_type": "code",
      "execution_count": 11,
      "metadata": {
        "cellView": "form",
        "colab": {
          "base_uri": "https://localhost:8080/"
        },
        "id": "fOz_NBISn4x0",
        "outputId": "fe5c6950-eb94-4b1b-c3a9-d7ad1fc43866"
      },
      "outputs": [
        {
          "name": "stdout",
          "output_type": "stream",
          "text": [
            "\n",
            "Generated sequence datasets as follows\n",
            "X_encoder_in.shape:  (5000, 4, 10)\n",
            "X_decoder_in.shape:  (5000, 4, 10)\n",
            "y_decoder_pred_out.shape:  (5000, 4, 10)\n",
            "Sample sequences in raw format:\n",
            "X_encoder_in: \n",
            " [2, 1, 8, 6]\n",
            "X_decoder_in: \n",
            " [0, 6, 8, 1]\n",
            "y_decoder_pred_out: \n",
            " [6, 8, 1, 2]\n",
            "Sample sequences in one-hot encoded format:\n",
            "X_encoder_in: \n",
            " [[0 0 1 0 0 0 0 0 0 0]\n",
            " [0 1 0 0 0 0 0 0 0 0]\n",
            " [0 0 0 0 0 0 0 0 1 0]\n",
            " [0 0 0 0 0 0 1 0 0 0]]\n",
            "X_decoder_in: \n",
            " [[1 0 0 0 0 0 0 0 0 0]\n",
            " [0 0 0 0 0 0 1 0 0 0]\n",
            " [0 0 0 0 0 0 0 0 1 0]\n",
            " [0 1 0 0 0 0 0 0 0 0]]\n",
            "y_decoder_pred_out: \n",
            " [[0 0 0 0 0 0 1 0 0 0]\n",
            " [0 0 0 0 0 0 0 0 1 0]\n",
            " [0 1 0 0 0 0 0 0 0 0]\n",
            " [0 0 1 0 0 0 0 0 0 0]]\n",
            "time: 165 ms (started: 2022-11-05 13:45:09 +01:00)\n"
          ]
        }
      ],
      "source": [
        "#@title Configure problem\n",
        "\n",
        "n_timesteps_in =   4#@param {type:\"integer\"}\n",
        "#each input sample has 4 values\n",
        "\n",
        "n_features = 10   #@param {type:\"integer\"}\n",
        "#each value is one_hot_encoded with 10 0/1\n",
        "#n_timesteps_out = 2  #@param {type:\"integer\"}\n",
        "#each output sample has 2 values padded with 0\n",
        "\n",
        "# generate random sequence\n",
        "#X,y = get_reversed_pairs(n_timesteps_in,  n_features, verbose=True)\n",
        "# generate datasets\n",
        "train_size= 5000 #@param {type:\"integer\"}\n",
        "test_size = 100  #@param {type:\"integer\"}\n",
        "\n",
        "encoder_input_data, decoder_input_data, decoder_predicted_data=\\\n",
        "create_encoder_dataset(train_size, test_size, n_timesteps_in,n_features , verbose=True)\n"
      ]
    },
    {
      "cell_type": "markdown",
      "metadata": {
        "id": "SOgl-XW3lAI1"
      },
      "source": [
        "* We train the model while monitoring the loss on a held-out set of 20% of the samples as below.\n",
        "\n",
        "* However, I prepared a custom `train_test` function for getting a detail report of training and testing.\n",
        "\n",
        "``` python\n",
        "\n",
        "# Run training\n",
        "model_encoder_training.fit([encoder_input_data, decoder_input_data], decoder_predicted_data,\n",
        "          batch_size=32,\n",
        "          epochs=50,\n",
        "          validation_split=0.2)\n",
        "```\n",
        "\n"
      ]
    },
    {
      "cell_type": "code",
      "execution_count": 12,
      "metadata": {
        "colab": {
          "base_uri": "https://localhost:8080/",
          "height": 1000
        },
        "id": "MNqTy_Aut89e",
        "outputId": "70ea2da6-c766-481e-bd87-1ce7f8cfe904"
      },
      "outputs": [
        {
          "name": "stdout",
          "output_type": "stream",
          "text": [
            "training for  50  epochs begins with EarlyStopping(monitor= val_loss, patience= 5 )....\n",
            "Epoch 1/50\n"
          ]
        },
        {
          "name": "stderr",
          "output_type": "stream",
          "text": [
            "2022-11-05 13:45:14.076365: I tensorflow/stream_executor/cuda/cuda_dnn.cc:366] Loaded cuDNN version 8202\n"
          ]
        },
        {
          "name": "stdout",
          "output_type": "stream",
          "text": [
            "141/141 - 29s - loss: 2.1822 - accuracy: 0.2252 - val_loss: 1.9378 - val_accuracy: 0.3115 - 29s/epoch - 202ms/step\n",
            "Epoch 2/50\n",
            "141/141 - 0s - loss: 1.6741 - accuracy: 0.3808 - val_loss: 1.4768 - val_accuracy: 0.4325 - 382ms/epoch - 3ms/step\n",
            "Epoch 3/50\n",
            "141/141 - 0s - loss: 1.2790 - accuracy: 0.5301 - val_loss: 1.1016 - val_accuracy: 0.6355 - 377ms/epoch - 3ms/step\n",
            "Epoch 4/50\n",
            "141/141 - 0s - loss: 0.9098 - accuracy: 0.7478 - val_loss: 0.7534 - val_accuracy: 0.8420 - 373ms/epoch - 3ms/step\n",
            "Epoch 5/50\n",
            "141/141 - 0s - loss: 0.6137 - accuracy: 0.8912 - val_loss: 0.5102 - val_accuracy: 0.9280 - 371ms/epoch - 3ms/step\n",
            "Epoch 6/50\n",
            "141/141 - 0s - loss: 0.4195 - accuracy: 0.9509 - val_loss: 0.3572 - val_accuracy: 0.9615 - 368ms/epoch - 3ms/step\n",
            "Epoch 7/50\n",
            "141/141 - 0s - loss: 0.3015 - accuracy: 0.9718 - val_loss: 0.2641 - val_accuracy: 0.9760 - 368ms/epoch - 3ms/step\n",
            "Epoch 8/50\n",
            "141/141 - 0s - loss: 0.2269 - accuracy: 0.9833 - val_loss: 0.2052 - val_accuracy: 0.9850 - 368ms/epoch - 3ms/step\n",
            "Epoch 9/50\n",
            "141/141 - 0s - loss: 0.1773 - accuracy: 0.9892 - val_loss: 0.1621 - val_accuracy: 0.9910 - 374ms/epoch - 3ms/step\n",
            "Epoch 10/50\n",
            "141/141 - 0s - loss: 0.1427 - accuracy: 0.9929 - val_loss: 0.1337 - val_accuracy: 0.9950 - 369ms/epoch - 3ms/step\n",
            "Epoch 11/50\n",
            "141/141 - 0s - loss: 0.1171 - accuracy: 0.9957 - val_loss: 0.1089 - val_accuracy: 0.9970 - 376ms/epoch - 3ms/step\n",
            "Epoch 12/50\n",
            "141/141 - 0s - loss: 0.0980 - accuracy: 0.9967 - val_loss: 0.0916 - val_accuracy: 1.0000 - 370ms/epoch - 3ms/step\n",
            "Epoch 13/50\n",
            "141/141 - 0s - loss: 0.0832 - accuracy: 0.9976 - val_loss: 0.0792 - val_accuracy: 1.0000 - 371ms/epoch - 3ms/step\n",
            "Epoch 14/50\n",
            "141/141 - 0s - loss: 0.0712 - accuracy: 0.9984 - val_loss: 0.0673 - val_accuracy: 1.0000 - 365ms/epoch - 3ms/step\n",
            "Epoch 15/50\n",
            "141/141 - 0s - loss: 0.0620 - accuracy: 0.9987 - val_loss: 0.0591 - val_accuracy: 1.0000 - 370ms/epoch - 3ms/step\n",
            "Epoch 16/50\n",
            "141/141 - 0s - loss: 0.0539 - accuracy: 0.9992 - val_loss: 0.0517 - val_accuracy: 1.0000 - 378ms/epoch - 3ms/step\n",
            "Epoch 17/50\n",
            "141/141 - 0s - loss: 0.0475 - accuracy: 0.9993 - val_loss: 0.0458 - val_accuracy: 1.0000 - 367ms/epoch - 3ms/step\n",
            "Epoch 18/50\n",
            "141/141 - 0s - loss: 0.0419 - accuracy: 0.9994 - val_loss: 0.0408 - val_accuracy: 0.9995 - 373ms/epoch - 3ms/step\n",
            "Epoch 19/50\n",
            "141/141 - 0s - loss: 0.0371 - accuracy: 0.9996 - val_loss: 0.0361 - val_accuracy: 0.9995 - 369ms/epoch - 3ms/step\n",
            "Epoch 20/50\n",
            "141/141 - 0s - loss: 0.0333 - accuracy: 0.9996 - val_loss: 0.0327 - val_accuracy: 1.0000 - 369ms/epoch - 3ms/step\n",
            "Epoch 21/50\n",
            "141/141 - 0s - loss: 0.0298 - accuracy: 0.9998 - val_loss: 0.0286 - val_accuracy: 1.0000 - 366ms/epoch - 3ms/step\n",
            "Epoch 22/50\n",
            "141/141 - 0s - loss: 0.0267 - accuracy: 0.9999 - val_loss: 0.0260 - val_accuracy: 1.0000 - 364ms/epoch - 3ms/step\n",
            "Epoch 23/50\n",
            "141/141 - 0s - loss: 0.0241 - accuracy: 0.9999 - val_loss: 0.0242 - val_accuracy: 1.0000 - 366ms/epoch - 3ms/step\n",
            "Epoch 24/50\n",
            "141/141 - 0s - loss: 0.0218 - accuracy: 0.9998 - val_loss: 0.0214 - val_accuracy: 1.0000 - 365ms/epoch - 3ms/step\n",
            "Epoch 25/50\n",
            "141/141 - 0s - loss: 0.0196 - accuracy: 1.0000 - val_loss: 0.0192 - val_accuracy: 1.0000 - 367ms/epoch - 3ms/step\n",
            "Epoch 26/50\n",
            "141/141 - 0s - loss: 0.0180 - accuracy: 1.0000 - val_loss: 0.0182 - val_accuracy: 1.0000 - 370ms/epoch - 3ms/step\n",
            "Epoch 27/50\n",
            "141/141 - 0s - loss: 0.0163 - accuracy: 1.0000 - val_loss: 0.0166 - val_accuracy: 1.0000 - 371ms/epoch - 3ms/step\n",
            "Epoch 28/50\n",
            "141/141 - 0s - loss: 0.0149 - accuracy: 1.0000 - val_loss: 0.0147 - val_accuracy: 1.0000 - 372ms/epoch - 3ms/step\n",
            "Epoch 29/50\n",
            "141/141 - 0s - loss: 0.0138 - accuracy: 1.0000 - val_loss: 0.0134 - val_accuracy: 1.0000 - 366ms/epoch - 3ms/step\n",
            "Epoch 30/50\n",
            "141/141 - 0s - loss: 0.0125 - accuracy: 1.0000 - val_loss: 0.0122 - val_accuracy: 1.0000 - 369ms/epoch - 3ms/step\n",
            "Epoch 31/50\n",
            "141/141 - 0s - loss: 0.0113 - accuracy: 1.0000 - val_loss: 0.0115 - val_accuracy: 1.0000 - 367ms/epoch - 3ms/step\n",
            "Epoch 32/50\n",
            "141/141 - 0s - loss: 0.0104 - accuracy: 1.0000 - val_loss: 0.0104 - val_accuracy: 1.0000 - 368ms/epoch - 3ms/step\n",
            "Epoch 33/50\n",
            "141/141 - 0s - loss: 0.0097 - accuracy: 1.0000 - val_loss: 0.0096 - val_accuracy: 1.0000 - 364ms/epoch - 3ms/step\n",
            "Epoch 34/50\n",
            "141/141 - 0s - loss: 0.0089 - accuracy: 1.0000 - val_loss: 0.0088 - val_accuracy: 1.0000 - 368ms/epoch - 3ms/step\n",
            "Epoch 35/50\n",
            "141/141 - 0s - loss: 0.0081 - accuracy: 1.0000 - val_loss: 0.0089 - val_accuracy: 1.0000 - 367ms/epoch - 3ms/step\n",
            "Epoch 36/50\n",
            "141/141 - 0s - loss: 0.0076 - accuracy: 1.0000 - val_loss: 0.0078 - val_accuracy: 1.0000 - 366ms/epoch - 3ms/step\n",
            "Epoch 37/50\n",
            "141/141 - 0s - loss: 0.0070 - accuracy: 1.0000 - val_loss: 0.0071 - val_accuracy: 1.0000 - 367ms/epoch - 3ms/step\n",
            "Epoch 38/50\n",
            "141/141 - 0s - loss: 0.0064 - accuracy: 1.0000 - val_loss: 0.0065 - val_accuracy: 1.0000 - 367ms/epoch - 3ms/step\n",
            "Epoch 39/50\n",
            "141/141 - 0s - loss: 0.0059 - accuracy: 1.0000 - val_loss: 0.0061 - val_accuracy: 1.0000 - 369ms/epoch - 3ms/step\n",
            "Epoch 40/50\n",
            "141/141 - 0s - loss: 0.0055 - accuracy: 1.0000 - val_loss: 0.0056 - val_accuracy: 1.0000 - 366ms/epoch - 3ms/step\n",
            "Epoch 41/50\n",
            "141/141 - 0s - loss: 0.0050 - accuracy: 1.0000 - val_loss: 0.0051 - val_accuracy: 1.0000 - 367ms/epoch - 3ms/step\n",
            "Epoch 42/50\n",
            "141/141 - 0s - loss: 0.0046 - accuracy: 1.0000 - val_loss: 0.0048 - val_accuracy: 1.0000 - 366ms/epoch - 3ms/step\n",
            "Epoch 43/50\n",
            "141/141 - 0s - loss: 0.0044 - accuracy: 1.0000 - val_loss: 0.0047 - val_accuracy: 1.0000 - 368ms/epoch - 3ms/step\n",
            "Epoch 44/50\n",
            "141/141 - 0s - loss: 0.0040 - accuracy: 1.0000 - val_loss: 0.0041 - val_accuracy: 1.0000 - 368ms/epoch - 3ms/step\n",
            "Epoch 45/50\n",
            "141/141 - 0s - loss: 0.0037 - accuracy: 1.0000 - val_loss: 0.0037 - val_accuracy: 1.0000 - 373ms/epoch - 3ms/step\n",
            "Epoch 46/50\n",
            "141/141 - 0s - loss: 0.0036 - accuracy: 1.0000 - val_loss: 0.0061 - val_accuracy: 0.9995 - 373ms/epoch - 3ms/step\n",
            "Epoch 47/50\n",
            "141/141 - 0s - loss: 0.0127 - accuracy: 0.9974 - val_loss: 0.0041 - val_accuracy: 1.0000 - 366ms/epoch - 3ms/step\n",
            "Epoch 48/50\n",
            "141/141 - 0s - loss: 0.0035 - accuracy: 1.0000 - val_loss: 0.0035 - val_accuracy: 1.0000 - 372ms/epoch - 3ms/step\n",
            "Epoch 49/50\n",
            "141/141 - 0s - loss: 0.0031 - accuracy: 1.0000 - val_loss: 0.0031 - val_accuracy: 1.0000 - 373ms/epoch - 3ms/step\n",
            "Epoch 50/50\n",
            "141/141 - 0s - loss: 0.0028 - accuracy: 1.0000 - val_loss: 0.0029 - val_accuracy: 1.0000 - 363ms/epoch - 3ms/step\n",
            "50  epoch training finished...\n",
            "\n",
            "PREDICTION ACCURACY (%):\n",
            "Train: 100.000, Test: 100.000\n"
          ]
        },
        {
          "data": {
            "image/png": "[encoded data removed]",
            "text/plain": [
              "<Figure size 432x288 with 1 Axes>"
            ]
          },
          "metadata": {
            "needs_background": "light"
          },
          "output_type": "display_data"
        },
        {
          "data": {
            "image/png": "[encoded data removed]",
            "text/plain": [
              "<Figure size 432x288 with 1 Axes>"
            ]
          },
          "metadata": {
            "needs_background": "light"
          },
          "output_type": "display_data"
        },
        {
          "name": "stdout",
          "output_type": "stream",
          "text": [
            "10 examples from test data...\n",
            "Input          Expected       Predicted         T/F\n",
            "[2, 1, 8, 6]   [6, 8, 1, 2]   [6, 8, 1, 2]   True\n",
            "[9, 3, 5, 1]   [1, 5, 3, 9]   [1, 5, 3, 9]   True\n",
            "[4, 1, 4, 3]   [3, 4, 1, 4]   [3, 4, 1, 4]   True\n",
            "[6, 2, 1, 3]   [3, 1, 2, 6]   [3, 1, 2, 6]   True\n",
            "[5, 8, 9, 6]   [6, 9, 8, 5]   [6, 9, 8, 5]   True\n",
            "[3, 1, 7, 8]   [8, 7, 1, 3]   [8, 7, 1, 3]   True\n",
            "[6, 9, 6, 6]   [6, 6, 9, 6]   [6, 6, 9, 6]   True\n",
            "[7, 3, 8, 6]   [6, 8, 3, 7]   [6, 8, 3, 7]   True\n",
            "[7, 1, 4, 1]   [1, 4, 1, 7]   [1, 4, 1, 7]   True\n",
            "[8, 5, 6, 1]   [1, 6, 5, 8]   [1, 6, 5, 8]   True\n",
            "Accuracy:  1.0\n",
            "time: 48.2 s (started: 2022-11-05 13:45:09 +01:00)\n"
          ]
        }
      ],
      "source": [
        "train_test(model_encoder_training, [encoder_input_data, decoder_input_data], decoder_predicted_data , [encoder_input_data, decoder_input_data], decoder_predicted_data, epochs=50, batch_size=32, patience=5,verbose=2)"
      ]
    },
    {
      "cell_type": "markdown",
      "metadata": {
        "id": "akzeTYxMJEx0"
      },
      "source": [
        "* We observed that training is finalized almost 100% accuarcy with validation training sets\n",
        "\n",
        "**IMPORTANT: Please note that we execute *validation* and *testing* by just using the training data and Teacher Forcing in place!!!**\n",
        "\n",
        "* WHY?\n",
        "\n",
        "**Because**:\n",
        "* Teacher Forcing needs to know the correct output beforehand\n",
        "* Teacher Forcing is a method for improvig training process\n",
        "* The model employing Teacher Forcing CAN NOT BE USED in inference/testing\n",
        "\n",
        "**Therefore**, \n",
        "\n",
        "* the model that we trained above CAN NOT BE DIRECTLY USED in inference/testing\n",
        "* We will use some layers (with their weights) of the trained model to create a new model\n",
        "* The new model will not use Teacher Learning\n",
        "* Thus, the input to the new model will NOT BE  `[encoder_input_data, decoder_input_data]` as the way we designed in `model_encoder_training`\n",
        "* **Remember**, in Teacher Forcing, we set `decoder_input_data` such that it begins with a special symbol `start` and continues with the target sequence data except the last time step.\n",
        "* Now, during inference (testing), we do not know the correct (expected) target data before hand!\n",
        "* We define the `decoder_input_data` as follows:\n",
        "  * it begins with a special symbol `start`\n",
        "  * it will continue with an input created by the decoder at previous time step\n",
        "  * in other words, **decoder's output at time step t** will be used **decoder's input at time step t+1**\n",
        "\n"
      ]
    },
    {
      "cell_type": "markdown",
      "metadata": {
        "id": "w6wWdH7hMTHK"
      },
      "source": [
        "# Let's begin to design encoder-decoder model for inference\n"
      ]
    },
    {
      "cell_type": "markdown",
      "metadata": {
        "id": "NqdZeuXCQcIf"
      },
      "source": [
        "## We create **a seperate encoder model** by using the **trained layers** in above model\n",
        "\n",
        "**IMPORTANT**: pay attention that in this model we use `encoder_inputs, encoder_states` for encoding which are parts of the encoder model we trained above. That is, this layers come with its **trained weights **with Teacher Forcing "
      ]
    },
    {
      "cell_type": "code",
      "execution_count": 13,
      "metadata": {
        "colab": {
          "base_uri": "https://localhost:8080/"
        },
        "id": "2VJ0oxqz-VdE",
        "outputId": "a7f671df-dfe4-4945-ffda-c54d1e332b4f"
      },
      "outputs": [
        {
          "name": "stdout",
          "output_type": "stream",
          "text": [
            "time: 2.8 ms (started: 2022-11-05 13:45:57 +01:00)\n"
          ]
        }
      ],
      "source": [
        "encoder_model = Model(encoder_inputs, encoder_states)"
      ]
    },
    {
      "cell_type": "markdown",
      "metadata": {
        "id": "x24hpoudQsHo"
      },
      "source": [
        "## Then we create **a seperate decoder model** by using the **trained layers** in above model"
      ]
    },
    {
      "cell_type": "markdown",
      "metadata": {
        "id": "LYAEzEyvMu3F"
      },
      "source": [
        "* Design the decoder model by defining layers for:\n",
        "  * inputs\n",
        "  * decoding (LSTM)\n",
        "  * outputs\n",
        "\n",
        "**IMPORTANT**: pay attention that in this model we use `decoder_lstm` for decoding which is a part of the decoder model we trained above. That is this layer comes with its **trained weights** with Teacher Forcing "
      ]
    },
    {
      "cell_type": "code",
      "execution_count": 14,
      "metadata": {
        "colab": {
          "base_uri": "https://localhost:8080/"
        },
        "id": "MVD0ebVFMvKr",
        "outputId": "99846fec-b567-4fd3-9af4-4f2ed2646af7"
      },
      "outputs": [
        {
          "name": "stdout",
          "output_type": "stream",
          "text": [
            "time: 122 ms (started: 2022-11-05 13:45:57 +01:00)\n"
          ]
        }
      ],
      "source": [
        "decoder_state_input_h = Input(shape=(LSTMoutputDimension,))\n",
        "decoder_state_input_c = Input(shape=(LSTMoutputDimension,))\n",
        "decoder_states_inputs = [decoder_state_input_h, decoder_state_input_c]\n",
        "\n",
        "decoder_outputs, state_h, state_c = decoder_lstm(\n",
        "    decoder_inputs, initial_state=decoder_states_inputs)\n",
        "decoder_states = [state_h, state_c]\n",
        "decoder_outputs = decoder_dense(decoder_outputs)\n",
        "decoder_model = Model(\n",
        "    [decoder_inputs] + decoder_states_inputs,\n",
        "    [decoder_outputs] + decoder_states)"
      ]
    },
    {
      "cell_type": "markdown",
      "metadata": {
        "id": "ICQQExFvN7EQ"
      },
      "source": [
        "* Even though we define the encoder and decoder models we still need to dynamically provide the `decoder_input_data` as follows:\n",
        "  * it begins with a special symbol `start`\n",
        "  * it will continue with an input created by the decoder at previous time step\n",
        "  * in other words, **decoder's output at time step t** will be used **decoder's input at time step t+1**\n",
        "\n",
        "* Let's code it as a function:"
      ]
    },
    {
      "cell_type": "code",
      "execution_count": 16,
      "metadata": {
        "colab": {
          "base_uri": "https://localhost:8080/"
        },
        "id": "GJwXXDTN-oNe",
        "outputId": "251d0c3b-d859-4bc1-ec70-611ca7b50307"
      },
      "outputs": [
        {
          "name": "stdout",
          "output_type": "stream",
          "text": [
            "time: 1.51 ms (started: 2022-11-05 13:46:20 +01:00)\n"
          ]
        }
      ],
      "source": [
        "def decode_sequence(input_seq):\n",
        "    # Encode the input as state vectors.\n",
        "    states_value = encoder_model.predict(input_seq)\n",
        "\n",
        "    # Generate empty target sequence of length 1.\n",
        "    target_seq = np.zeros((1, 1, n_features))\n",
        "    # Populate the first character of target sequence with the start character.\n",
        "    target_seq[0, 0, 0] = 1\n",
        "\n",
        "    # Sampling loop for a batch of sequences\n",
        "    # (to simplify, here we assume a batch of size 1).\n",
        "    stop_condition = False\n",
        "    decoded_seq = list()\n",
        "    while not stop_condition:\n",
        "\n",
        "        # in a loop\n",
        "        # decode the input to a token/output prediction + required states for context vector\n",
        "        output_tokens, h, c = decoder_model.predict(\n",
        "            [target_seq] + states_value)\n",
        "\n",
        "        # convert the token/output prediction to a token/output\n",
        "        sampled_token_index = np.argmax(output_tokens[0, -1, :])\n",
        "        sampled_digit = sampled_token_index\n",
        "        # add the predicted token/output to output sequence\n",
        "        decoded_seq.append(sampled_digit)\n",
        "        \n",
        "\n",
        "        # Exit condition: either hit max length\n",
        "        # or find stop character.\n",
        "        if (sampled_digit == '\\n' or\n",
        "           len(decoded_seq) == n_timesteps_in):\n",
        "            stop_condition = True\n",
        "\n",
        "        # Update the input target sequence (of length 1) \n",
        "        # with the predicted token/output \n",
        "        target_seq = np.zeros((1, 1, n_features))\n",
        "        target_seq[0, 0, sampled_token_index] = 1.\n",
        "\n",
        "        # Update input states (context vector) \n",
        "        # with the ouputed states\n",
        "        states_value = [h, c]\n",
        "\n",
        "        # loop back.....\n",
        "        \n",
        "    # when loop exists return the output sequence\n",
        "    return decoded_seq"
      ]
    },
    {
      "cell_type": "markdown",
      "metadata": {
        "id": "asQ3o3uNTQdM"
      },
      "source": [
        "## We can now put encoder model and decoder model together by using the function above for inference as below.\n",
        "\n",
        "**IMPORTANT**: \n",
        "* Since we used the trained layers in here we do NOT need to train recently created models.\n",
        "* We only provide the input sequence to the function."
      ]
    },
    {
      "cell_type": "code",
      "execution_count": 18,
      "metadata": {
        "colab": {
          "base_uri": "https://localhost:8080/"
        },
        "id": "raoWf2mW-rAB",
        "outputId": "45d327d3-6c9b-4bec-ae43-826584f5af71"
      },
      "outputs": [
        {
          "name": "stdout",
          "output_type": "stream",
          "text": [
            "Input \t\t\t  Expected  \t   Predicted \t\tT/F\n",
            "[2, 1, 8, 6] \t\t [6, 8, 1, 2] \t [6, 8, 1, 2] \t\t True\n",
            "[9, 3, 5, 1] \t\t [1, 5, 3, 9] \t [1, 5, 3, 9] \t\t True\n",
            "[4, 1, 4, 3] \t\t [3, 4, 1, 4] \t [3, 4, 1, 4] \t\t True\n",
            "[6, 2, 1, 3] \t\t [3, 1, 2, 6] \t [3, 1, 2, 6] \t\t True\n",
            "[5, 8, 9, 6] \t\t [6, 9, 8, 5] \t [6, 9, 8, 5] \t\t True\n",
            "[3, 1, 7, 8] \t\t [8, 7, 1, 3] \t [8, 7, 1, 3] \t\t True\n",
            "[6, 9, 6, 6] \t\t [6, 6, 9, 6] \t [6, 6, 9, 6] \t\t True\n",
            "[7, 3, 8, 6] \t\t [6, 8, 3, 7] \t [6, 8, 3, 7] \t\t True\n",
            "[7, 1, 4, 1] \t\t [1, 4, 1, 7] \t [1, 4, 1, 7] \t\t True\n",
            "[8, 5, 6, 1] \t\t [1, 6, 5, 8] \t [1, 6, 5, 8] \t\t True\n",
            "Accuracy:  1.0\n",
            "time: 4.83 s (started: 2022-11-05 13:50:30 +01:00)\n"
          ]
        }
      ],
      "source": [
        "print('Input \\t\\t\\t  Expected  \\t   Predicted \\t\\tT/F')\n",
        "correct =0 \n",
        "sampleNo =  10\n",
        "for sample in range(0,sampleNo):\n",
        "  predicted= decode_sequence(encoder_input_data[sample].reshape(1,n_timesteps_in,n_features))\n",
        "  if (one_hot_decode(decoder_predicted_data[sample])== predicted):\n",
        "    correct+=1\n",
        "  print( one_hot_decode(encoder_input_data[sample]), '\\t\\t', \n",
        "        one_hot_decode(decoder_predicted_data[sample]),'\\t', predicted,\n",
        "        '\\t\\t',one_hot_decode(decoder_predicted_data[sample])== predicted)\n",
        "print('Accuracy: ', correct/sampleNo)"
      ]
    },
    {
      "cell_type": "markdown",
      "metadata": {
        "id": "Fhj5iqYkV94_"
      },
      "source": [
        "# Observations:\n",
        "* Teacher Forcing is a method to train encoder-decoder models in Seq2Seq model to **accelerate training**\n",
        "* Teacher Forcing can **ONLY** be used at Training\n",
        "* We need to handle how to use the model in **inference**\n",
        "* **Even though Teacher Forcing improves the training process by fast converging, in the inference the model can generate low accuracy even with the training data.**\n",
        "* Therefore, you need to use Teacher Forcing with caution"
      ]
    },
    {
      "cell_type": "markdown",
      "metadata": {
        "id": "ZXrm60UhiFba"
      },
      "source": [
        "# What if I don't want to use teacher forcing for training?\n",
        "\n",
        "* Please look at **the previous part** how to implement an Encoder-Decoder without Teacher Forcing training:\n",
        "\n"
      ]
    },
    {
      "cell_type": "markdown",
      "metadata": {
        "id": "TgQxhw6hCfSK"
      },
      "source": [
        "# NEXT:\n",
        "# Part E: SEQ2SEQ LEARNING WITH AN ENCODER DECODER MODEL FOR VARIABLE INPUT AND OUTPUT SIZE"
      ]
    }
  ],
  "metadata": {
    "colab": {
      "collapsed_sections": [
        "lQW-e4UkraAu"
      ],
      "provenance": []
    },
    "kernelspec": {
      "display_name": "Python 3.8.11 ('mli')",
      "language": "python",
      "name": "python3"
    },
    "language_info": {
      "codemirror_mode": {
        "name": "ipython",
        "version": 3
      },
      "file_extension": ".py",
      "mimetype": "text/x-python",
      "name": "python",
      "nbconvert_exporter": "python",
      "pygments_lexer": "ipython3",
      "version": "3.8.11"
    },
    "vscode": {
      "interpreter": {
        "hash": "4d0dac48f5d9b27e45995153baafec01158dfff2c0bb1df66c2c7c47f74320c7"
      }
    }
  },
  "nbformat": 4,
  "nbformat_minor": 0
}
